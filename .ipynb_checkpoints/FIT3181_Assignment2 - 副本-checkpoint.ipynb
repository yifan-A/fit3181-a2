{
 "cells": [
  {
   "cell_type": "markdown",
   "metadata": {},
   "source": [
    "# <span style=\"color:#0b486b\">  FIT3181: Deep Learning (2022)</span>\n",
    "***\n",
    "*CE/Lecturer:* Dr **Trung Le** | trunglm@monash.edu <br/>\n",
    "*Head Tutor:* Mr **Thanh Nguyen** | thanh.nguyen4@monash.edu <br/>\n",
    "<br/>\n",
    "Department of Data Science and AI, Faculty of Information Technology, Monash University, Australia\n",
    "***"
   ]
  },
  {
   "cell_type": "markdown",
   "metadata": {},
   "source": [
    "# <span style=\"color:#0b486b\">  Student Information</span>\n",
    "Surname: **Yifan**  <br/>\n",
    "Firstname: **Dai**    <br/>\n",
    "Student ID: **31510477**    <br/>\n",
    "Email: **ydai0019@student.monash.edu**    <br/>\n",
    "Your tutorial time: **Thu 10am - 12am**    <br/>\n",
    "***"
   ]
  },
  {
   "cell_type": "markdown",
   "metadata": {},
   "source": [
    "## <span style=\"color:#0b486b\">Assignment 02: Neural Embedding and Sequence Modelling</span>\n",
    "### Due: <span style=\"color:red\">11:59pm 23 October 2022</span>  (Sunday)\n",
    "\n",
    "#### <span style=\"color:red\">Important note:</span> This is an **individual** assignment. It contributes **20%** to you final mark. Read the assignment instruction carefully."
   ]
  },
  {
   "cell_type": "markdown",
   "metadata": {},
   "source": [
    "## <span style=\"color:#0b486b\">Instructions</span>\n",
    "\n",
    "This notebook has been prepared for your to complete Assignment 2. The theme of this assignment is about practical machine learning knowledge and skills in deep neural networks, word embedding and text analytics. Some sections have been partially completed to help you get\n",
    "started. **The total marks for this notebook is 100**."
   ]
  },
  {
   "cell_type": "markdown",
   "metadata": {},
   "source": [
    "* Before you start, read the entire notebook carefully once to understand what you need to do. <br><br>\n",
    "* For each cell marked with **#YOU ARE REQUIRED TO INSERT YOUR CODES IN THIS CELL**, there will be places where you **must** supply your own codes when instructed. <br>\n",
    "\n",
    "This assignment contains **five** parts:\n",
    "\n",
    "* Part 1: Questions on downloading and preprocessing data **[5 points]**\n",
    "* Part 2: Questions on using Word2Vect to transform texts to vectors **[20 points]**\n",
    "* Part 3: Coding assessment on Text CNN for sequence modeling and neural embedding **[10 points]**\n",
    "* Part 4: Coding assessment on BERT for a feature extraction **[10 points]**\n",
    "* Part 5: Coding assessment on RNNs for sequence modeling and neural embedding **[55 points]**\n",
    "\n",
    "\n",
    "**Hint**: This assignment was essentially designed based on the lectures and tutorials sessions covered from Weeks 7 to 10. You are strongly recommended to go through these contents thoroughly which might help you to complete this assignment."
   ]
  },
  {
   "cell_type": "markdown",
   "metadata": {},
   "source": [
    "## <span style=\"color:#0b486b\">What to submit</span>\n",
    "\n",
    "This assignment is to be completed individually and submitted to Moodle unit site. **By the due date, you are required to submit one  <span style=\"color:red; font-weight:bold\">single zip file, named xxx_assignment02_solution.zip</span> where `xxx` is your student ID, to the corresponding Assignment (Dropbox) in Moodle**. "
   ]
  },
  {
   "cell_type": "markdown",
   "metadata": {},
   "source": [
    "***For example, if your student ID is <span style=\"color:red; font-weight:bold\">12356</span>, then gather all of your assignment solution to folder, create a zip file named <span style=\"color:red; font-weight:bold\">123456_assignment02_solution.zip</span> and submit this file.***"
   ]
  },
  {
   "cell_type": "markdown",
   "metadata": {},
   "source": [
    "Within this zip folder, you **must** submit the following files:\n",
    "1.\t**Assignment02_solution.ipynb**:  this is your Python notebook solution source file.\n",
    "1.\t**Assignment02_output.html**: this is the output of your Python notebook solution *exported* in html format.\n",
    "1.\tAny **extra files or folder** needed to complete your assignment (e.g., images used in your answers)."
   ]
  },
  {
   "cell_type": "markdown",
   "metadata": {},
   "source": [
    "## <span style=\"color:#0b486b\">Set random seeds</span>"
   ]
  },
  {
   "cell_type": "markdown",
   "metadata": {},
   "source": [
    "We start with importing tensorflow and numpy and setting random seeds for TF and numpy. You can use any seeds you prefer."
   ]
  },
  {
   "cell_type": "code",
   "execution_count": 25,
   "metadata": {},
   "outputs": [],
   "source": [
    "import numpy as np\n",
    "import tensorflow as tf\n",
    "\n",
    "tf.random.set_seed(6789)\n",
    "np.random.seed(6789)"
   ]
  },
  {
   "cell_type": "markdown",
   "metadata": {},
   "source": [
    "## <span style=\"color:#0b486b\">Part 1: Download and preprocess the data</span>\n",
    "\n",
    "<div style=\"text-align: right\"><span style=\"color:red; font-weight:bold\">[Total marks for this part: 5 points]<span></div>"
   ]
  },
  {
   "cell_type": "markdown",
   "metadata": {},
   "source": [
    "The dataset we use for this assignment is a question classification dataset for which the train set consists of $5,500$ questions belonging to 6 coarse question categories including:\n",
    "- abbreviation (ABBR), \n",
    "- entity (ENTY), \n",
    "- description (DESC), \n",
    "- human (HUM), \n",
    "- location (LOC) and \n",
    "- numeric (NUM).\n"
   ]
  },
  {
   "cell_type": "markdown",
   "metadata": {},
   "source": [
    "Preprocessing data is an inital and important step in any machine learning or deep learning projects. The following *DataManager* class helps you to download data and preprocess data for the later questions of this assignment. "
   ]
  },
  {
   "cell_type": "code",
   "execution_count": 2,
   "metadata": {},
   "outputs": [],
   "source": [
    "import os\n",
    "import zipfile\n",
    "import collections\n",
    "from six.moves import range\n",
    "from six.moves.urllib.request import urlretrieve\n",
    "from sklearn import preprocessing\n",
    "from sklearn.model_selection import train_test_split\n",
    "import matplotlib.pyplot as plt\n",
    "plt.style.use('ggplot')\n",
    "\n",
    "class DataManager:\n",
    "    def __init__(self, verbose=True, maxlen= 50, random_state=6789):\n",
    "        self.verbose = verbose\n",
    "        self.max_sentence_len = 0\n",
    "        self.str_questions = list()\n",
    "        self.str_labels = list()\n",
    "        self.numeral_labels = list()\n",
    "        self.maxlen = maxlen\n",
    "        self.numeral_data = list()\n",
    "        self.random_state = random_state\n",
    "        self.random = np.random.RandomState(random_state)\n",
    "        \n",
    "    @staticmethod\n",
    "    def maybe_download(dir_name, file_name, url, verbose= True):\n",
    "        if not os.path.exists(dir_name):\n",
    "            os.mkdir(dir_name)\n",
    "        if not os.path.exists(os.path.join(dir_name, file_name)):\n",
    "            urlretrieve(url + file_name, os.path.join(dir_name, file_name))\n",
    "        if verbose:\n",
    "            print(\"Downloaded successfully {}\".format(file_name))\n",
    "    \n",
    "    def read_data(self, dir_name, file_names):\n",
    "        self.str_questions= list(); self.str_labels= list()\n",
    "        for file_name in file_names:\n",
    "            file_path= os.path.join(dir_name, file_name)\n",
    "            with open(file_path, \"r\", encoding=\"latin-1\") as f:\n",
    "                for row in f:\n",
    "                    row_str= row.split(\":\")\n",
    "                    label, question= row_str[0], row_str[1]\n",
    "                    question= question.lower()\n",
    "                    self.str_labels.append(label)\n",
    "                    self.str_questions.append(question[0:-1])\n",
    "                    if self.max_sentence_len < len(self.str_questions[-1]):\n",
    "                        self.max_sentence_len= len(self.str_questions[-1])\n",
    "         \n",
    "        # turns labels into numbers\n",
    "        le= preprocessing.LabelEncoder()\n",
    "        le.fit(self.str_labels)\n",
    "        self.numeral_labels = np.array(le.transform(self.str_labels))\n",
    "        self.str_classes= le.classes_\n",
    "        self.num_classes= len(self.str_classes)\n",
    "        if self.verbose:\n",
    "            print(\"\\nSample questions... \\n\")\n",
    "            print(self.str_questions[0:5])\n",
    "            print(\"Labels {}\\n\\n\".format(self.str_classes))\n",
    "    \n",
    "    def manipulate_data(self):\n",
    "        tokenizer = tf.keras.preprocessing.text.Tokenizer()\n",
    "        tokenizer.fit_on_texts(self.str_questions)\n",
    "        self.numeral_data = tokenizer.texts_to_sequences(self.str_questions)\n",
    "        self.numeral_data = tf.keras.preprocessing.sequence.pad_sequences(self.numeral_data, padding='post', truncating= 'post', maxlen= self.maxlen)\n",
    "        self.word2idx = tokenizer.word_index\n",
    "        self.word2idx = {k:v for k,v in self.word2idx.items()}\n",
    "        self.idx2word = {v:k for k,v in self.word2idx.items()}\n",
    "        self.vocab_size = len(self.word2idx)\n",
    "    \n",
    "    def train_valid_split(self, train_ratio=0.9):\n",
    "        idxs = np.random.permutation(np.arange(len(self.str_questions)))\n",
    "        train_size = int(train_ratio*len(idxs)) +1\n",
    "        self.train_str_questions, self.valid_str_questions = self.str_questions[0:train_size], self.str_questions[train_size:]\n",
    "        self.train_numeral_data, self.valid_numeral_data = self.numeral_data[0:train_size], self.numeral_data[train_size:]\n",
    "        self.train_numeral_labels, self.valid_numeral_labels = self.numeral_labels[0:train_size], self.numeral_labels[train_size:]\n",
    "        self.tf_train_set = tf.data.Dataset.from_tensor_slices((self.train_numeral_data, self.train_numeral_labels))\n",
    "        self.tf_valid_set = tf.data.Dataset.from_tensor_slices((self.valid_numeral_data, self.valid_numeral_labels))"
   ]
  },
  {
   "cell_type": "code",
   "execution_count": 3,
   "metadata": {},
   "outputs": [
    {
     "name": "stdout",
     "output_type": "stream",
     "text": [
      "Loading data...\n",
      "Downloaded successfully train_1000.label\n",
      "Downloaded successfully TREC_10.label\n",
      "\n",
      "Sample questions... \n",
      "\n",
      "['manner how did serfdom develop in and then leave russia ?', 'cremat what films featured the character popeye doyle ?', \"manner how can i find a list of celebrities ' real names ?\", 'animal what fowl grabs the spotlight after the chinese year of the monkey ?', 'exp what is the full form of .com ?']\n",
      "Labels ['ABBR' 'DESC' 'ENTY' 'HUM' 'LOC' 'NUM']\n",
      "\n",
      "\n"
     ]
    }
   ],
   "source": [
    "print('Loading data...')\n",
    "DataManager.maybe_download(\"Data\", \"train_1000.label\", \"http://cogcomp.org/Data/QA/QC/\")\n",
    "DataManager.maybe_download(\"Data\", \"TREC_10.label\", \"http://cogcomp.org/Data/QA/QC/\")\n",
    "\n",
    "dm = DataManager(maxlen=100)\n",
    "dm.read_data(\"Data/\", [\"train_1000.label\", \"TREC_10.label\"])   # read data\n",
    "# If you want to play around with a bigger dataset, you can try train_set.label"
   ]
  },
  {
   "cell_type": "code",
   "execution_count": 4,
   "metadata": {},
   "outputs": [],
   "source": [
    "dm.manipulate_data()\n",
    "dm.train_valid_split(train_ratio=0.8)"
   ]
  },
  {
   "cell_type": "markdown",
   "metadata": {},
   "source": [
    "You now have a data manager, named *dm* containing the training and validiation sets in both text and numeric forms. Your task is to play around and read this code to figure out the meanings of some important attributes that will be used in the next parts."
   ]
  },
  {
   "cell_type": "markdown",
   "metadata": {},
   "source": [
    "#### <span style=\"color:red\">**Question 1.1**</span> \n",
    "**What is the purpose of `self.train_str_questions` and `self.train_numeral_labels`? Write your code to print out the first five questions with labels in the training set.**\n",
    "\n",
    "<div style=\"text-align: right\"><span style=\"color:red\">[1 point]</span></div> "
   ]
  },
  {
   "cell_type": "markdown",
   "metadata": {},
   "source": [
    "#Your answer here\n",
    "\n",
    "`self.train_str_questions`is to store questions of training set in str form.  \n",
    "`self.train_numeral_labels` is a list which store the labels of the training data in numeric form."
   ]
  },
  {
   "cell_type": "code",
   "execution_count": 5,
   "metadata": {},
   "outputs": [
    {
     "name": "stdout",
     "output_type": "stream",
     "text": [
      "manner how did serfdom develop in and then leave russia ? 1\n",
      "\n",
      "\n",
      "cremat what films featured the character popeye doyle ? 2\n",
      "\n",
      "\n",
      "manner how can i find a list of celebrities ' real names ? 1\n",
      "\n",
      "\n",
      "animal what fowl grabs the spotlight after the chinese year of the monkey ? 2\n",
      "\n",
      "\n",
      "exp what is the full form of .com ? 0\n",
      "\n",
      "\n"
     ]
    }
   ],
   "source": [
    "#Your code here\n",
    "for i in range(5):\n",
    "    print(dm.train_str_questions[i], dm.train_numeral_labels[i])\n",
    "    print(\"\\n\")"
   ]
  },
  {
   "cell_type": "markdown",
   "metadata": {},
   "source": [
    "#### <span style=\"color:red\">**Question 1.2**</span> \n",
    "**What is the purpose of `self.train_numeral_data`? Write your code to print out the first five questions in the numeric format with labels in the training set.**\n",
    "\n",
    "<div style=\"text-align: right\"><span style=\"color:red\">[1 point]</span></div> "
   ]
  },
  {
   "cell_type": "markdown",
   "metadata": {},
   "source": [
    "#Your answer here\n",
    "\n",
    "`self.train_numeral_data` is to store tokenized questions of training set in numeric form.\n",
    "\n"
   ]
  },
  {
   "cell_type": "code",
   "execution_count": 6,
   "metadata": {},
   "outputs": [
    {
     "name": "stdout",
     "output_type": "stream",
     "text": [
      "[  35   11   18 1030 1031    5   25  561 1032  562    0    0    0    0\n",
      "    0    0    0    0    0    0    0    0    0    0    0    0    0    0\n",
      "    0    0    0    0    0    0    0    0    0    0    0    0    0    0\n",
      "    0    0    0    0    0    0    0    0    0    0    0    0    0    0\n",
      "    0    0    0    0    0    0    0    0    0    0    0    0    0    0\n",
      "    0    0    0    0    0    0    0    0    0    0    0    0    0    0\n",
      "    0    0    0    0    0    0    0    0    0    0    0    0    0    0\n",
      "    0    0] 1\n",
      "[  43    2  563 1033    1  164 1034 1035    0    0    0    0    0    0\n",
      "    0    0    0    0    0    0    0    0    0    0    0    0    0    0\n",
      "    0    0    0    0    0    0    0    0    0    0    0    0    0    0\n",
      "    0    0    0    0    0    0    0    0    0    0    0    0    0    0\n",
      "    0    0    0    0    0    0    0    0    0    0    0    0    0    0\n",
      "    0    0    0    0    0    0    0    0    0    0    0    0    0    0\n",
      "    0    0    0    0    0    0    0    0    0    0    0    0    0    0\n",
      "    0    0] 2\n",
      "[  35   11   45   40   60    7  389    4 1036   88  295  165    0    0\n",
      "    0    0    0    0    0    0    0    0    0    0    0    0    0    0\n",
      "    0    0    0    0    0    0    0    0    0    0    0    0    0    0\n",
      "    0    0    0    0    0    0    0    0    0    0    0    0    0    0\n",
      "    0    0    0    0    0    0    0    0    0    0    0    0    0    0\n",
      "    0    0    0    0    0    0    0    0    0    0    0    0    0    0\n",
      "    0    0    0    0    0    0    0    0    0    0    0    0    0    0\n",
      "    0    0] 1\n",
      "[  34    2 1037 1038    1 1039  232    1  564   50    4    1 1040    0\n",
      "    0    0    0    0    0    0    0    0    0    0    0    0    0    0\n",
      "    0    0    0    0    0    0    0    0    0    0    0    0    0    0\n",
      "    0    0    0    0    0    0    0    0    0    0    0    0    0    0\n",
      "    0    0    0    0    0    0    0    0    0    0    0    0    0    0\n",
      "    0    0    0    0    0    0    0    0    0    0    0    0    0    0\n",
      "    0    0    0    0    0    0    0    0    0    0    0    0    0    0\n",
      "    0    0] 2\n",
      "[ 61   2   3   1 390 233   4 199   0   0   0   0   0   0   0   0   0   0\n",
      "   0   0   0   0   0   0   0   0   0   0   0   0   0   0   0   0   0   0\n",
      "   0   0   0   0   0   0   0   0   0   0   0   0   0   0   0   0   0   0\n",
      "   0   0   0   0   0   0   0   0   0   0   0   0   0   0   0   0   0   0\n",
      "   0   0   0   0   0   0   0   0   0   0   0   0   0   0   0   0   0   0\n",
      "   0   0   0   0   0   0   0   0   0   0] 0\n"
     ]
    }
   ],
   "source": [
    "#Your code here\n",
    "for i in range(5):\n",
    "    \n",
    "    print(dm.train_numeral_data[i], dm.train_numeral_labels[i])"
   ]
  },
  {
   "cell_type": "markdown",
   "metadata": {},
   "source": [
    "#### <span style=\"color:red\">**Question 1.3**</span> \n",
    "**What is the purpose of two dictionaries: `self.word2idx` and `self.idx2word`? Write your code to print out the first five key-value pairs of those dictionaries.**\n",
    "\n",
    "<div style=\"text-align: right\"><span style=\"color:red\">[1 point]</span></div> "
   ]
  },
  {
   "cell_type": "markdown",
   "metadata": {},
   "source": [
    "#Your answer here\n",
    "\n",
    "`self.word2idx` is the sequence number corresponding to the word in this question\n",
    "\n",
    "`self.idx2word` is the word in the question corresponding to the serial number\n",
    "\n"
   ]
  },
  {
   "cell_type": "code",
   "execution_count": 7,
   "metadata": {},
   "outputs": [
    {
     "name": "stdout",
     "output_type": "stream",
     "text": [
      "{1: 'the'}\n",
      "{2: 'what'}\n",
      "{3: 'is'}\n",
      "{4: 'of'}\n",
      "{5: 'in'}\n"
     ]
    }
   ],
   "source": [
    "#Your code here\n",
    "for i,(k,v) in enumerate(dm.idx2word.items()):\n",
    "    if i in range(0,5):\n",
    "        print({k:v},end=\"\"+\"\\n\")"
   ]
  },
  {
   "cell_type": "markdown",
   "metadata": {},
   "source": [
    "#### <span style=\"color:red\">**Question 1.4**</span> \n",
    "**What is the purpose of `self.tf_train_set`? Write your code to print out the first five items of `self.tf_train_set`.**\n",
    "\n",
    "<div style=\"text-align: right\"><span style=\"color:red\">[1 point]</span></div> "
   ]
  },
  {
   "cell_type": "markdown",
   "metadata": {},
   "source": [
    "#Your answer here\n",
    "\n",
    "\n",
    "`self.tf_train_set` is to convert the train_numeral_data and train_numeral_labels to a training Dataset.\n",
    "\n"
   ]
  },
  {
   "cell_type": "code",
   "execution_count": 8,
   "metadata": {},
   "outputs": [
    {
     "name": "stdout",
     "output_type": "stream",
     "text": [
      "(<tf.Tensor: shape=(100,), dtype=int32, numpy=\n",
      "array([  35,   11,   18, 1030, 1031,    5,   25,  561, 1032,  562,    0,\n",
      "          0,    0,    0,    0,    0,    0,    0,    0,    0,    0,    0,\n",
      "          0,    0,    0,    0,    0,    0,    0,    0,    0,    0,    0,\n",
      "          0,    0,    0,    0,    0,    0,    0,    0,    0,    0,    0,\n",
      "          0,    0,    0,    0,    0,    0,    0,    0,    0,    0,    0,\n",
      "          0,    0,    0,    0,    0,    0,    0,    0,    0,    0,    0,\n",
      "          0,    0,    0,    0,    0,    0,    0,    0,    0,    0,    0,\n",
      "          0,    0,    0,    0,    0,    0,    0,    0,    0,    0,    0,\n",
      "          0,    0,    0,    0,    0,    0,    0,    0,    0,    0,    0,\n",
      "          0])>, <tf.Tensor: shape=(), dtype=int32, numpy=1>)\n",
      "(<tf.Tensor: shape=(100,), dtype=int32, numpy=\n",
      "array([  43,    2,  563, 1033,    1,  164, 1034, 1035,    0,    0,    0,\n",
      "          0,    0,    0,    0,    0,    0,    0,    0,    0,    0,    0,\n",
      "          0,    0,    0,    0,    0,    0,    0,    0,    0,    0,    0,\n",
      "          0,    0,    0,    0,    0,    0,    0,    0,    0,    0,    0,\n",
      "          0,    0,    0,    0,    0,    0,    0,    0,    0,    0,    0,\n",
      "          0,    0,    0,    0,    0,    0,    0,    0,    0,    0,    0,\n",
      "          0,    0,    0,    0,    0,    0,    0,    0,    0,    0,    0,\n",
      "          0,    0,    0,    0,    0,    0,    0,    0,    0,    0,    0,\n",
      "          0,    0,    0,    0,    0,    0,    0,    0,    0,    0,    0,\n",
      "          0])>, <tf.Tensor: shape=(), dtype=int32, numpy=2>)\n",
      "(<tf.Tensor: shape=(100,), dtype=int32, numpy=\n",
      "array([  35,   11,   45,   40,   60,    7,  389,    4, 1036,   88,  295,\n",
      "        165,    0,    0,    0,    0,    0,    0,    0,    0,    0,    0,\n",
      "          0,    0,    0,    0,    0,    0,    0,    0,    0,    0,    0,\n",
      "          0,    0,    0,    0,    0,    0,    0,    0,    0,    0,    0,\n",
      "          0,    0,    0,    0,    0,    0,    0,    0,    0,    0,    0,\n",
      "          0,    0,    0,    0,    0,    0,    0,    0,    0,    0,    0,\n",
      "          0,    0,    0,    0,    0,    0,    0,    0,    0,    0,    0,\n",
      "          0,    0,    0,    0,    0,    0,    0,    0,    0,    0,    0,\n",
      "          0,    0,    0,    0,    0,    0,    0,    0,    0,    0,    0,\n",
      "          0])>, <tf.Tensor: shape=(), dtype=int32, numpy=1>)\n",
      "(<tf.Tensor: shape=(100,), dtype=int32, numpy=\n",
      "array([  34,    2, 1037, 1038,    1, 1039,  232,    1,  564,   50,    4,\n",
      "          1, 1040,    0,    0,    0,    0,    0,    0,    0,    0,    0,\n",
      "          0,    0,    0,    0,    0,    0,    0,    0,    0,    0,    0,\n",
      "          0,    0,    0,    0,    0,    0,    0,    0,    0,    0,    0,\n",
      "          0,    0,    0,    0,    0,    0,    0,    0,    0,    0,    0,\n",
      "          0,    0,    0,    0,    0,    0,    0,    0,    0,    0,    0,\n",
      "          0,    0,    0,    0,    0,    0,    0,    0,    0,    0,    0,\n",
      "          0,    0,    0,    0,    0,    0,    0,    0,    0,    0,    0,\n",
      "          0,    0,    0,    0,    0,    0,    0,    0,    0,    0,    0,\n",
      "          0])>, <tf.Tensor: shape=(), dtype=int32, numpy=2>)\n",
      "(<tf.Tensor: shape=(100,), dtype=int32, numpy=\n",
      "array([ 61,   2,   3,   1, 390, 233,   4, 199,   0,   0,   0,   0,   0,\n",
      "         0,   0,   0,   0,   0,   0,   0,   0,   0,   0,   0,   0,   0,\n",
      "         0,   0,   0,   0,   0,   0,   0,   0,   0,   0,   0,   0,   0,\n",
      "         0,   0,   0,   0,   0,   0,   0,   0,   0,   0,   0,   0,   0,\n",
      "         0,   0,   0,   0,   0,   0,   0,   0,   0,   0,   0,   0,   0,\n",
      "         0,   0,   0,   0,   0,   0,   0,   0,   0,   0,   0,   0,   0,\n",
      "         0,   0,   0,   0,   0,   0,   0,   0,   0,   0,   0,   0,   0,\n",
      "         0,   0,   0,   0,   0,   0,   0,   0,   0])>, <tf.Tensor: shape=(), dtype=int32, numpy=0>)\n"
     ]
    }
   ],
   "source": [
    "#Your code here\n",
    "i = 0\n",
    "for tf in dm.tf_train_set:\n",
    "    i += 1\n",
    "    print(tf)\n",
    "    if i == 5:\n",
    "        break"
   ]
  },
  {
   "cell_type": "markdown",
   "metadata": {},
   "source": [
    "#### <span style=\"color:red\">**Question 1.5**</span> \n",
    "**What is the purpose of `self.tf_valid_set`? Write your code to print out the first five items of `self.tf_valid_set`.**\n",
    "\n",
    "<div style=\"text-align: right\"><span style=\"color:red\">[1 point]</span></div> "
   ]
  },
  {
   "cell_type": "markdown",
   "metadata": {},
   "source": [
    "#Your answer here\n",
    "\n",
    "`self.tf_valid_set` is very similar to selftftrainset,whichis getting from the `tf.data.Dataset.from.tensor_slices((self.valid numerak_ data,self.valid_numeral_labels))` which is the combination of validation data and corresponding label where `set.valid numeral_data` is a(1201,100matrix and each row is a (100,1)vector.Because the validation data are all numerical data,we can directly use it in our model.Therefore,the purpose of `self.tf_valid_set` is to create a validation set which can be directly used to validate deep learning model performance.\n"
   ]
  },
  {
   "cell_type": "code",
   "execution_count": 9,
   "metadata": {},
   "outputs": [
    {
     "name": "stdout",
     "output_type": "stream",
     "text": [
      "(<tf.Tensor: shape=(100,), dtype=int32, numpy=\n",
      "array([  23,    2,   23,   13,  243,    3,   53,    1, 3031,   20,    0,\n",
      "          0,    0,    0,    0,    0,    0,    0,    0,    0,    0,    0,\n",
      "          0,    0,    0,    0,    0,    0,    0,    0,    0,    0,    0,\n",
      "          0,    0,    0,    0,    0,    0,    0,    0,    0,    0,    0,\n",
      "          0,    0,    0,    0,    0,    0,    0,    0,    0,    0,    0,\n",
      "          0,    0,    0,    0,    0,    0,    0,    0,    0,    0,    0,\n",
      "          0,    0,    0,    0,    0,    0,    0,    0,    0,    0,    0,\n",
      "          0,    0,    0,    0,    0,    0,    0,    0,    0,    0,    0,\n",
      "          0,    0,    0,    0,    0,    0,    0,    0,    0,    0,    0,\n",
      "          0])>, <tf.Tensor: shape=(), dtype=int32, numpy=4>)\n",
      "(<tf.Tensor: shape=(100,), dtype=int32, numpy=\n",
      "array([   6,   12,   98,    1, 3032,    0,    0,    0,    0,    0,    0,\n",
      "          0,    0,    0,    0,    0,    0,    0,    0,    0,    0,    0,\n",
      "          0,    0,    0,    0,    0,    0,    0,    0,    0,    0,    0,\n",
      "          0,    0,    0,    0,    0,    0,    0,    0,    0,    0,    0,\n",
      "          0,    0,    0,    0,    0,    0,    0,    0,    0,    0,    0,\n",
      "          0,    0,    0,    0,    0,    0,    0,    0,    0,    0,    0,\n",
      "          0,    0,    0,    0,    0,    0,    0,    0,    0,    0,    0,\n",
      "          0,    0,    0,    0,    0,    0,    0,    0,    0,    0,    0,\n",
      "          0,    0,    0,    0,    0,    0,    0,    0,    0,    0,    0,\n",
      "          0])>, <tf.Tensor: shape=(), dtype=int32, numpy=3>)\n",
      "(<tf.Tensor: shape=(100,), dtype=int32, numpy=\n",
      "array([  34,    2,   14,    1,  248,   49,  648,  802,   74, 3033,   53,\n",
      "          0,    0,    0,    0,    0,    0,    0,    0,    0,    0,    0,\n",
      "          0,    0,    0,    0,    0,    0,    0,    0,    0,    0,    0,\n",
      "          0,    0,    0,    0,    0,    0,    0,    0,    0,    0,    0,\n",
      "          0,    0,    0,    0,    0,    0,    0,    0,    0,    0,    0,\n",
      "          0,    0,    0,    0,    0,    0,    0,    0,    0,    0,    0,\n",
      "          0,    0,    0,    0,    0,    0,    0,    0,    0,    0,    0,\n",
      "          0,    0,    0,    0,    0,    0,    0,    0,    0,    0,    0,\n",
      "          0,    0,    0,    0,    0,    0,    0,    0,    0,    0,    0,\n",
      "          0])>, <tf.Tensor: shape=(), dtype=int32, numpy=2>)\n",
      "(<tf.Tensor: shape=(100,), dtype=int32, numpy=\n",
      "array([   8,    2,    3,    1,  557,  210,    4, 3034,    0,    0,    0,\n",
      "          0,    0,    0,    0,    0,    0,    0,    0,    0,    0,    0,\n",
      "          0,    0,    0,    0,    0,    0,    0,    0,    0,    0,    0,\n",
      "          0,    0,    0,    0,    0,    0,    0,    0,    0,    0,    0,\n",
      "          0,    0,    0,    0,    0,    0,    0,    0,    0,    0,    0,\n",
      "          0,    0,    0,    0,    0,    0,    0,    0,    0,    0,    0,\n",
      "          0,    0,    0,    0,    0,    0,    0,    0,    0,    0,    0,\n",
      "          0,    0,    0,    0,    0,    0,    0,    0,    0,    0,    0,\n",
      "          0,    0,    0,    0,    0,    0,    0,    0,    0,    0,    0,\n",
      "          0])>, <tf.Tensor: shape=(), dtype=int32, numpy=5>)\n",
      "(<tf.Tensor: shape=(100,), dtype=int32, numpy=\n",
      "array([   8,   22,    3,    1, 1004, 3035, 3036,  193,    0,    0,    0,\n",
      "          0,    0,    0,    0,    0,    0,    0,    0,    0,    0,    0,\n",
      "          0,    0,    0,    0,    0,    0,    0,    0,    0,    0,    0,\n",
      "          0,    0,    0,    0,    0,    0,    0,    0,    0,    0,    0,\n",
      "          0,    0,    0,    0,    0,    0,    0,    0,    0,    0,    0,\n",
      "          0,    0,    0,    0,    0,    0,    0,    0,    0,    0,    0,\n",
      "          0,    0,    0,    0,    0,    0,    0,    0,    0,    0,    0,\n",
      "          0,    0,    0,    0,    0,    0,    0,    0,    0,    0,    0,\n",
      "          0,    0,    0,    0,    0,    0,    0,    0,    0,    0,    0,\n",
      "          0])>, <tf.Tensor: shape=(), dtype=int32, numpy=4>)\n"
     ]
    }
   ],
   "source": [
    "#Your code here\n",
    "\n",
    "i = 0\n",
    "for tf in dm.tf_valid_set:\n",
    "    i += 1\n",
    "    print(tf)\n",
    "    if i == 5:\n",
    "        break\n"
   ]
  },
  {
   "cell_type": "markdown",
   "metadata": {},
   "source": [
    "## <span style=\"color:#0b486b\">Part 2: Using Word2Vect to transform texts to vectors </span>\n",
    "\n",
    "<div style=\"text-align: right\"><span style=\"color:red; font-weight:bold\">[Total marks for this part: 20 points]<span></div>"
   ]
  },
  {
   "cell_type": "markdown",
   "metadata": {},
   "source": [
    "In this part, you will be assessed on how to use a pretrained Word2Vect model for realizing a machine learning task. Basically, you will use this pretrained Word2Vect to transform the questions in the above dataset stored in the *data manager object dm* to numeric form for training a Support Vector Machine in sckit-learn.  "
   ]
  },
  {
   "cell_type": "code",
   "execution_count": 24,
   "metadata": {},
   "outputs": [],
   "source": [
    "import gensim.downloader as api\n",
    "from gensim.models import Word2Vec\n",
    "from sklearn.svm import SVC\n",
    "from sklearn.preprocessing import MinMaxScaler\n",
    "from sklearn.metrics import accuracy_score"
   ]
  },
  {
   "cell_type": "markdown",
   "metadata": {},
   "source": [
    "#### <span style=\"color:red\">**Question 2.1**</span> \n",
    "**Write code to download the pretrained model *glove-wiki-gigaword-100*. Note that this model transforms a word in its dictionary to a $100$ dimensional vector.**\n",
    "\n",
    "<div style=\"text-align: right\"><span style=\"color:red\">[2 points]</span></div> "
   ]
  },
  {
   "cell_type": "code",
   "execution_count": 11,
   "metadata": {},
   "outputs": [],
   "source": [
    "word2vect = api.load('glove-wiki-gigaword-100')"
   ]
  },
  {
   "cell_type": "markdown",
   "metadata": {},
   "source": [
    "#### <span style=\"color:red\">**Question 2.2**</span> \n",
    "\n",
    "**Write code for the function *get_word_vector(word, model)* used to transform a word to a vector using the pretrained Word2Vect model *model*. Note that for a word not in the vocabulary of our *word2vect*, you need to return a vector $0$ with 100 dimensions.**\n",
    "\n",
    "<div style=\"text-align: right\"><span style=\"color:red\">[3 points]</span></div> "
   ]
  },
  {
   "cell_type": "code",
   "execution_count": 12,
   "metadata": {},
   "outputs": [],
   "source": [
    "def get_word_vector(word, model):\n",
    "    try:\n",
    "        vector = model.fet_vector(word)\n",
    "    except: #word not in the vocabulary\n",
    "        vector = np.zeros(100)\n",
    "    return vector"
   ]
  },
  {
   "cell_type": "markdown",
   "metadata": {},
   "source": [
    "#### <span style=\"color:red\">**Question 2.3**</span> \n",
    "\n",
    "**Write the code for the function `get_sentence_vector(sentence, important_score=None, model= None)`. Note that this function will transform a sentence to a 100-dimensional vector using the pretrained model *model*. In addition, the list *important_score* which has the same length as the *sentence* specifies the important scores of the words in the sentence. In your code, you first need to apply *softmax* function over *important_score* to obtain the important weight *important_weight* which forms a probability over the words of the sentence. Furthermore, the final vector of the sentence will be weighted sum of the individual vectors for words and the weights in *important_weight*.**\n",
    "- $important\\_weight = softmax(important\\_score)$.\n",
    "- $final\\_vector= important\\_weight[1]\\times v[1] + important\\_weight[2]\\times v[2] + ...+ important\\_weight[L]\\times v[L]$ where $L$ is the length of the sentence and $v[i]$ is the vector representation of the $i-th$  word in this sentence.\n",
    "\n",
    "**Note that if `important_score=None` is set by default, your function should return the average of all representation vectors corresponding to set `important_score=[1,1,...,1]`.**\n",
    "\n",
    "<div style=\"text-align: right\"><span style=\"color:red\">[5 points]</span></div> "
   ]
  },
  {
   "cell_type": "code",
   "execution_count": 13,
   "metadata": {},
   "outputs": [],
   "source": [
    "def softmax(x):\n",
    "    \n",
    "    f_x = np.exp(x) / np.sum(np.exp(x))\n",
    "    return f_x"
   ]
  },
  {
   "cell_type": "code",
   "execution_count": 14,
   "metadata": {},
   "outputs": [],
   "source": [
    "def get_sentence_vector(sentence, important_score=None, model= None):\n",
    "    mysentence = sentence.split(' ')\n",
    "    L = len(mysentence)\n",
    "    final_vector= np.zeros(100)\n",
    "    if important_score is None:\n",
    "        important_score = np.ones(L)\n",
    "    else:\n",
    "        important_weight = softmax(important_score)\n",
    "    \n",
    "    for i in range (L):\n",
    "        vector_i = get_word_vector(mysentence[i], model)\n",
    "        final_vector = final_vector + important_score[i]*vector_i\n",
    "    \n",
    "    return final_vector"
   ]
  },
  {
   "cell_type": "markdown",
   "metadata": {},
   "source": [
    "#### <span style=\"color:red\">**Question 2.4**</span> \n",
    "\n",
    "**Write code to transform the training questions in *dm.train_str_questions* to feature vectors. Note that after running the following cell, you must have $X\\_train$ which is an numpy array of the feature vectors and $y\\_train$ which is an array of numeric labels (*Hint: dm.train_numeral_labels*). You can add more lines to the following cell if necessary. In addition, you should decide the *important_score* by yourself. For example, you might reckon that the 1st score is 1, the 2nd score is decayed by 0.9, the 3rd is decayed by 0.9, and so on.**\n",
    "\n",
    "<div style=\"text-align: right\"><span style=\"color:red\">[2 points]</span></div> "
   ]
  },
  {
   "cell_type": "code",
   "execution_count": 15,
   "metadata": {},
   "outputs": [
    {
     "name": "stdout",
     "output_type": "stream",
     "text": [
      "Transform training set to feature vectors...\n"
     ]
    }
   ],
   "source": [
    "print(\"Transform training set to feature vectors...\")\n",
    "my_important_score = np.logspace(0,100,100,base=0.9)\n",
    "final_vector=list()\n",
    "for i in dm.train_str_questions:\n",
    "    final_vector.append( get_sentence_vector(i, important_score = None, model= word2vect) )\n",
    "X_train = np.array(final_vector,dtype=\"float32\")\n",
    "y_train = dm.train_numeral_labels.reshape(-1,1)"
   ]
  },
  {
   "cell_type": "markdown",
   "metadata": {},
   "source": [
    "#### <span style=\"color:red\">**Question 2.5**</span> \n",
    "\n",
    "**Write code to transform the training questions in *dm.valid_str_questions* to feature vectors. Note that after running the following cell, you must have $X\\_valid$ which is an numpy array of the feature vectors and $y\\_valid$ which is an array of numeric labels (*Hint: dm.valid_numeral_labels*). You can add more lines to the following cell if necessary. In addition, you should decide the *important_score* by yourself. For example, you might reckon that the 1st score is 1, the 2nd score is decayed by 0.9, the 3rd is decayed by 0.9, and so on.**\n",
    "\n",
    "<div style=\"text-align: right\"><span style=\"color:red\">[2 points]</span></div> "
   ]
  },
  {
   "cell_type": "code",
   "execution_count": 16,
   "metadata": {},
   "outputs": [
    {
     "name": "stdout",
     "output_type": "stream",
     "text": [
      "Transform valid set to feature vectors...\n"
     ]
    }
   ],
   "source": [
    "print(\"Transform valid set to feature vectors...\")\n",
    "important_score = np.array([0.9**i for i in range(100)])\n",
    "X_valid= [get_sentence_vector(line, important_score, word2vect) for line in dm.valid_str_questions]\n",
    "y_valid= dm.valid_numeral_labels"
   ]
  },
  {
   "cell_type": "markdown",
   "metadata": {},
   "source": [
    "#### <span style=\"color:red\">**Question 2.6**</span> \n",
    "\n",
    "**It is now to use *MinMaxScaler(feature_range=(-1,1))* in sckit-learn to scale both training and valid sets to the range $(-1,1)$.**\n",
    "\n",
    "<div style=\"text-align: right\"><span style=\"color:red\">[2 points]</span></div> "
   ]
  },
  {
   "cell_type": "code",
   "execution_count": 17,
   "metadata": {},
   "outputs": [],
   "source": [
    "scaler = MinMaxScaler(feature_range=(-1,1))\n",
    "scaler.fit(X_train)\n",
    "X_train = scaler.fit_transform(X_train)\n",
    "scaler.fit(X_valid)\n",
    "X_valid = scaler.fit_transform(X_valid)"
   ]
  },
  {
   "cell_type": "markdown",
   "metadata": {},
   "source": [
    "#### <span style=\"color:red\">**Question 2.7**</span> \n",
    "\n",
    "**Declare a support vector machine (the class *SVC*  in sckit-learn) with RBF kernel, $C=1$, $gamma= 2^{-3}$ and fit on the training set.**\n",
    "\n",
    "<div style=\"text-align: right\"><span style=\"color:red\">[2 points]</span></div> "
   ]
  },
  {
   "cell_type": "code",
   "execution_count": 18,
   "metadata": {},
   "outputs": [
    {
     "name": "stderr",
     "output_type": "stream",
     "text": [
      "C:\\Users\\HP\\anaconda3\\envs\\tf2_cpu\\lib\\site-packages\\sklearn\\utils\\validation.py:1111: DataConversionWarning: A column-vector y was passed when a 1d array was expected. Please change the shape of y to (n_samples, ), for example using ravel().\n",
      "  y = column_or_1d(y, warn=True)\n"
     ]
    },
    {
     "data": {
      "text/html": [
       "<style>#sk-container-id-1 {color: black;background-color: white;}#sk-container-id-1 pre{padding: 0;}#sk-container-id-1 div.sk-toggleable {background-color: white;}#sk-container-id-1 label.sk-toggleable__label {cursor: pointer;display: block;width: 100%;margin-bottom: 0;padding: 0.3em;box-sizing: border-box;text-align: center;}#sk-container-id-1 label.sk-toggleable__label-arrow:before {content: \"▸\";float: left;margin-right: 0.25em;color: #696969;}#sk-container-id-1 label.sk-toggleable__label-arrow:hover:before {color: black;}#sk-container-id-1 div.sk-estimator:hover label.sk-toggleable__label-arrow:before {color: black;}#sk-container-id-1 div.sk-toggleable__content {max-height: 0;max-width: 0;overflow: hidden;text-align: left;background-color: #f0f8ff;}#sk-container-id-1 div.sk-toggleable__content pre {margin: 0.2em;color: black;border-radius: 0.25em;background-color: #f0f8ff;}#sk-container-id-1 input.sk-toggleable__control:checked~div.sk-toggleable__content {max-height: 200px;max-width: 100%;overflow: auto;}#sk-container-id-1 input.sk-toggleable__control:checked~label.sk-toggleable__label-arrow:before {content: \"▾\";}#sk-container-id-1 div.sk-estimator input.sk-toggleable__control:checked~label.sk-toggleable__label {background-color: #d4ebff;}#sk-container-id-1 div.sk-label input.sk-toggleable__control:checked~label.sk-toggleable__label {background-color: #d4ebff;}#sk-container-id-1 input.sk-hidden--visually {border: 0;clip: rect(1px 1px 1px 1px);clip: rect(1px, 1px, 1px, 1px);height: 1px;margin: -1px;overflow: hidden;padding: 0;position: absolute;width: 1px;}#sk-container-id-1 div.sk-estimator {font-family: monospace;background-color: #f0f8ff;border: 1px dotted black;border-radius: 0.25em;box-sizing: border-box;margin-bottom: 0.5em;}#sk-container-id-1 div.sk-estimator:hover {background-color: #d4ebff;}#sk-container-id-1 div.sk-parallel-item::after {content: \"\";width: 100%;border-bottom: 1px solid gray;flex-grow: 1;}#sk-container-id-1 div.sk-label:hover label.sk-toggleable__label {background-color: #d4ebff;}#sk-container-id-1 div.sk-serial::before {content: \"\";position: absolute;border-left: 1px solid gray;box-sizing: border-box;top: 0;bottom: 0;left: 50%;z-index: 0;}#sk-container-id-1 div.sk-serial {display: flex;flex-direction: column;align-items: center;background-color: white;padding-right: 0.2em;padding-left: 0.2em;position: relative;}#sk-container-id-1 div.sk-item {position: relative;z-index: 1;}#sk-container-id-1 div.sk-parallel {display: flex;align-items: stretch;justify-content: center;background-color: white;position: relative;}#sk-container-id-1 div.sk-item::before, #sk-container-id-1 div.sk-parallel-item::before {content: \"\";position: absolute;border-left: 1px solid gray;box-sizing: border-box;top: 0;bottom: 0;left: 50%;z-index: -1;}#sk-container-id-1 div.sk-parallel-item {display: flex;flex-direction: column;z-index: 1;position: relative;background-color: white;}#sk-container-id-1 div.sk-parallel-item:first-child::after {align-self: flex-end;width: 50%;}#sk-container-id-1 div.sk-parallel-item:last-child::after {align-self: flex-start;width: 50%;}#sk-container-id-1 div.sk-parallel-item:only-child::after {width: 0;}#sk-container-id-1 div.sk-dashed-wrapped {border: 1px dashed gray;margin: 0 0.4em 0.5em 0.4em;box-sizing: border-box;padding-bottom: 0.4em;background-color: white;}#sk-container-id-1 div.sk-label label {font-family: monospace;font-weight: bold;display: inline-block;line-height: 1.2em;}#sk-container-id-1 div.sk-label-container {text-align: center;}#sk-container-id-1 div.sk-container {/* jupyter's `normalize.less` sets `[hidden] { display: none; }` but bootstrap.min.css set `[hidden] { display: none !important; }` so we also need the `!important` here to be able to override the default hidden behavior on the sphinx rendered scikit-learn.org. See: https://github.com/scikit-learn/scikit-learn/issues/21755 */display: inline-block !important;position: relative;}#sk-container-id-1 div.sk-text-repr-fallback {display: none;}</style><div id=\"sk-container-id-1\" class=\"sk-top-container\"><div class=\"sk-text-repr-fallback\"><pre>SVC(gamma=0.125)</pre><b>In a Jupyter environment, please rerun this cell to show the HTML representation or trust the notebook. <br />On GitHub, the HTML representation is unable to render, please try loading this page with nbviewer.org.</b></div><div class=\"sk-container\" hidden><div class=\"sk-item\"><div class=\"sk-estimator sk-toggleable\"><input class=\"sk-toggleable__control sk-hidden--visually\" id=\"sk-estimator-id-1\" type=\"checkbox\" checked><label for=\"sk-estimator-id-1\" class=\"sk-toggleable__label sk-toggleable__label-arrow\">SVC</label><div class=\"sk-toggleable__content\"><pre>SVC(gamma=0.125)</pre></div></div></div></div></div>"
      ],
      "text/plain": [
       "SVC(gamma=0.125)"
      ]
     },
     "execution_count": 18,
     "metadata": {},
     "output_type": "execute_result"
    }
   ],
   "source": [
    "svm = SVC(C=1.0, kernel='rbf',gamma=1/pow(2,3))\n",
    "svm.fit(X_train,y_train)"
   ]
  },
  {
   "cell_type": "markdown",
   "metadata": {},
   "source": [
    "#### <span style=\"color:red\">**Question 2.8**</span> \n",
    "\n",
    "**Finally, we use the trained *svm* to evaluate on the valid set $X\\_valid$.**\n",
    "\n",
    "<div style=\"text-align: right\"><span style=\"color:red\">[2 points]</span></div> "
   ]
  },
  {
   "cell_type": "code",
   "execution_count": 19,
   "metadata": {},
   "outputs": [
    {
     "name": "stdout",
     "output_type": "stream",
     "text": [
      "0.2140468227424749\n"
     ]
    }
   ],
   "source": [
    "y_valid_pred = svm.predict(X_valid)\n",
    "acc = sum(y_valid_pred == y_valid)/len(y_valid_pred)\n",
    "print(acc)"
   ]
  },
  {
   "cell_type": "markdown",
   "metadata": {},
   "source": [
    "## <span style=\"color:#0b486b\">Part 3: Text CNN for sequence modeling and neural embedding </span>\n",
    "\n",
    "<div style=\"text-align: right\"><span style=\"color:red; font-weight:bold\">[Total marks for this part: 10 points]<span></div>"
   ]
  },
  {
   "cell_type": "markdown",
   "metadata": {},
   "source": [
    "#### <span style=\"color:red\">**Question 3.1**</span> \n",
    "\n",
    "**In what follows, you are required to complete the code for Text CNN for sentence classification. The paper of Text CNN can be found at this [link](https://www.aclweb.org/anthology/D14-1181.pdf). Here is the description of the Text CNN that you need to construct.**\n",
    "- There are three attributes (properties or instance variables): *embed_size, state_size, data_manager*.\n",
    "  - `embed_size`: the dimension of the vector space for which the words are embedded to using the embedding matrix.\n",
    "  - `state_size`: the number of filters used in *Conv1D* (reference [here](https://www.tensorflow.org/api_docs/python/tf/keras/layers/Conv1D)).\n",
    "  - `data_manager`: the data manager to store information of the dataset.\n",
    "- The detail of the computational process is as follows:\n",
    "  - Given input $x$, we embed $x$ using the embedding matrix to obtain an $3D$ tensor $[batch\\_size \\times vocab\\_size \\times embed\\_size]$ as $h$.\n",
    "  - We feed $h$ to three Convd 1D layers, each of which has $state\\_size$ filters, padding=same, activation= relu, and $kernel\\_size= 3, 5, 7$ respectively to obtain $h1, h2, h3$. Note that each $h1, h2, h3$ is a 3D tensor with the shape $[batch\\_size \\times output\\_size \\times state\\_size]$.\n",
    "  - We then apply *GlobalMaxPool1D()* (reference [here](https://www.tensorflow.org/api_docs/python/tf/keras/layers/GlobalMaxPool1D)) over $h1, h2, h3$ to obtain 2D tensors stored in $h1, h2, h3$ again.\n",
    "  - We then concatenate three 2D tensors $h1, h2, h3$ to obtain $h$. Note that you need to specify the axis to concatenate.\n",
    "  - We finally build up one dense layer on the top of $h$ for classification.\n",
    "  \n",
    "  <div style=\"text-align: right\"><span style=\"color:red\">[8 points]</span></div>\n",
    "  "
   ]
  },
  {
   "cell_type": "code",
   "execution_count": 22,
   "metadata": {},
   "outputs": [],
   "source": [
    "class TextCNN:\n",
    "    def __init__(self, embed_size= 128, state_size=16, data_manager=None):\n",
    "        self.data_manager = data_manager\n",
    "        self.embed_size = embed_size\n",
    "        self.state_size = state_size\n",
    "    \n",
    "    def build(self):\n",
    "        x = tf.keras.layers.Input(shape=[None])\n",
    "        h = tf.keras.layers.Embedding(self.data_manager.vocab_size +1, self.embed_size)(x)\n",
    "        h1 = tf.keras.layers.Conv1D(self.state_size, 3, padding='same', activation='relu')(h) \n",
    "        h2 = tf.keras.layers.Conv1D(self.state_size, 5, padding='same', activation='relu')(h)\n",
    "        h3 = tf.keras.layers.Conv1D(self.state_size, 7, padding='same', activation='relu')(h)\n",
    "        h1 = tf.keras.layers.GlobalMaxPool1D()(h1)\n",
    "        h2 = tf.keras.layers.GlobalMaxPool1D()(h2)\n",
    "        h3 = tf.keras.layers.GlobalMaxPool1D()(h3)\n",
    "        h = tf.keras.layers.Concatenate(axis=1)([h1, h2, h3])\n",
    "        h = tf.keras.layers.Dense(self.data_manager.num_classes, activation='softmax')(h)\n",
    "        self.model = tf.keras.Model(inputs=x, outputs=h) \n",
    "    \n",
    "    def compile_model(self, *args, **kwargs):\n",
    "        self.model.compile(*args, **kwargs)\n",
    "    \n",
    "    def fit(self, *args, **kwargs):\n",
    "        return self.model.fit(*args, **kwargs)\n",
    "    \n",
    "    def evaluate(self, *args, **kwargs):\n",
    "        self.model.evaluate(*args, **kwargs)\n"
   ]
  },
  {
   "cell_type": "markdown",
   "metadata": {},
   "source": [
    "#### <span style=\"color:red\">**Question 3.2**</span> \n",
    "**Here is the code to test TextCNN above. You can observe that TextCNN outperforms the traditional approach SVM + Word2Vect for this task. The reason is that TextCNN enables us to automatically learn the feature that fits to the task. This makes deep learning different from hand-crafted feature approaches. Complete the code to test the model. Note that when compiling the model, you can use the Adam optimizer.**\n",
    "\n",
    "<div style=\"text-align: right\"><span style=\"color:red\">[2 points]</span></div>"
   ]
  },
  {
   "cell_type": "code",
   "execution_count": 26,
   "metadata": {},
   "outputs": [
    {
     "name": "stdout",
     "output_type": "stream",
     "text": [
      "Epoch 1/20\n",
      "19/19 [==============================] - 1s 22ms/step - loss: 1.7150 - accuracy: 0.4621 - val_loss: 1.6090 - val_accuracy: 0.7023\n",
      "Epoch 2/20\n",
      "19/19 [==============================] - 0s 10ms/step - loss: 1.4420 - accuracy: 0.8893 - val_loss: 1.3043 - val_accuracy: 0.7860\n",
      "Epoch 3/20\n",
      "19/19 [==============================] - 0s 12ms/step - loss: 1.0362 - accuracy: 0.9026 - val_loss: 0.8614 - val_accuracy: 0.8395\n",
      "Epoch 4/20\n",
      "19/19 [==============================] - 0s 11ms/step - loss: 0.5884 - accuracy: 0.9292 - val_loss: 0.5271 - val_accuracy: 0.8829\n",
      "Epoch 5/20\n",
      "19/19 [==============================] - 0s 11ms/step - loss: 0.3006 - accuracy: 0.9625 - val_loss: 0.3500 - val_accuracy: 0.9064\n",
      "Epoch 6/20\n",
      "19/19 [==============================] - 0s 11ms/step - loss: 0.1724 - accuracy: 0.9717 - val_loss: 0.2536 - val_accuracy: 0.9197\n",
      "Epoch 7/20\n",
      "19/19 [==============================] - 0s 10ms/step - loss: 0.1104 - accuracy: 0.9808 - val_loss: 0.1950 - val_accuracy: 0.9431\n",
      "Epoch 8/20\n",
      "19/19 [==============================] - 0s 13ms/step - loss: 0.0736 - accuracy: 0.9942 - val_loss: 0.1567 - val_accuracy: 0.9666\n",
      "Epoch 9/20\n",
      "19/19 [==============================] - 0s 12ms/step - loss: 0.0503 - accuracy: 0.9992 - val_loss: 0.1321 - val_accuracy: 0.9766\n",
      "Epoch 10/20\n",
      "19/19 [==============================] - 0s 12ms/step - loss: 0.0352 - accuracy: 0.9992 - val_loss: 0.1167 - val_accuracy: 0.9766\n",
      "Epoch 11/20\n",
      "19/19 [==============================] - 0s 11ms/step - loss: 0.0255 - accuracy: 1.0000 - val_loss: 0.1067 - val_accuracy: 0.9766\n",
      "Epoch 12/20\n",
      "19/19 [==============================] - 0s 12ms/step - loss: 0.0191 - accuracy: 1.0000 - val_loss: 0.1002 - val_accuracy: 0.9766\n",
      "Epoch 13/20\n",
      "19/19 [==============================] - 0s 14ms/step - loss: 0.0148 - accuracy: 1.0000 - val_loss: 0.0956 - val_accuracy: 0.9766\n",
      "Epoch 14/20\n",
      "19/19 [==============================] - 0s 12ms/step - loss: 0.0118 - accuracy: 1.0000 - val_loss: 0.0925 - val_accuracy: 0.9766\n",
      "Epoch 15/20\n",
      "19/19 [==============================] - 0s 13ms/step - loss: 0.0096 - accuracy: 1.0000 - val_loss: 0.0902 - val_accuracy: 0.9766\n",
      "Epoch 16/20\n",
      "19/19 [==============================] - 0s 13ms/step - loss: 0.0080 - accuracy: 1.0000 - val_loss: 0.0886 - val_accuracy: 0.9766\n",
      "Epoch 17/20\n",
      "19/19 [==============================] - 0s 14ms/step - loss: 0.0067 - accuracy: 1.0000 - val_loss: 0.0873 - val_accuracy: 0.9766\n",
      "Epoch 18/20\n",
      "19/19 [==============================] - 0s 11ms/step - loss: 0.0058 - accuracy: 1.0000 - val_loss: 0.0863 - val_accuracy: 0.9766\n",
      "Epoch 19/20\n",
      "19/19 [==============================] - 0s 11ms/step - loss: 0.0050 - accuracy: 1.0000 - val_loss: 0.0856 - val_accuracy: 0.9766\n",
      "Epoch 20/20\n",
      "19/19 [==============================] - 0s 10ms/step - loss: 0.0044 - accuracy: 1.0000 - val_loss: 0.0851 - val_accuracy: 0.9766\n"
     ]
    },
    {
     "data": {
      "text/plain": [
       "<keras.callbacks.History at 0x1e95c7bd040>"
      ]
     },
     "execution_count": 26,
     "metadata": {},
     "output_type": "execute_result"
    }
   ],
   "source": [
    "text_cnn = TextCNN(data_manager=dm)\n",
    "text_cnn.build()\n",
    "text_cnn.compile_model(optimizer=\"adam\",loss='sparse_categorical_crossentropy',metrics=[\"accuracy\"])\n",
    "text_cnn.model.fit(dm.tf_train_set.batch(64), epochs=20, validation_data = dm.tf_valid_set.batch(64))"
   ]
  },
  {
   "cell_type": "markdown",
   "metadata": {},
   "source": [
    "## <span style=\"color:#0b486b\">Part 4: Sentence representation with BERT </span>\n",
    "\n",
    "<div style=\"text-align: right\"><span style=\"color:red; font-weight:bold\">[Total marks for this part: 10 points]<span></div>"
   ]
  },
  {
   "cell_type": "markdown",
   "metadata": {},
   "source": [
    "#### <span style=\"color:red\">**Question 4.1**</span>\n",
    "**Use a pretrained BERT model to extract feaure vectors for the training and valid sets. You should choose an appropriate pretrained BERT model that fits your computational resource.**\n",
    "<div style=\"text-align: right\"><span style=\"color:red\">[6 points]</span></div>"
   ]
  },
  {
   "cell_type": "code",
   "execution_count": 27,
   "metadata": {},
   "outputs": [],
   "source": [
    "#Insert your code for extracting training set\n"
   ]
  },
  {
   "cell_type": "markdown",
   "metadata": {},
   "source": [
    "#### <span style=\"color:red\">**Question 4.2**</span>\n",
    "**Use Logistic Regression to train on the training set and then evaluate on the valid set.**\n",
    "<div style=\"text-align: right\"><span style=\"color:red\">[4 points]</span></div>"
   ]
  },
  {
   "cell_type": "code",
   "execution_count": 28,
   "metadata": {},
   "outputs": [],
   "source": [
    "from sklearn.linear_model import LogisticRegression"
   ]
  },
  {
   "cell_type": "code",
   "execution_count": 29,
   "metadata": {},
   "outputs": [
    {
     "name": "stderr",
     "output_type": "stream",
     "text": [
      "C:\\Users\\HP\\anaconda3\\envs\\tf2_cpu\\lib\\site-packages\\sklearn\\utils\\validation.py:1111: DataConversionWarning: A column-vector y was passed when a 1d array was expected. Please change the shape of y to (n_samples, ), for example using ravel().\n",
      "  y = column_or_1d(y, warn=True)\n"
     ]
    }
   ],
   "source": [
    "clf = LogisticRegression(random_state=0).fit(X_train, y_train)"
   ]
  },
  {
   "cell_type": "code",
   "execution_count": 30,
   "metadata": {},
   "outputs": [
    {
     "name": "stdout",
     "output_type": "stream",
     "text": [
      "0.2140468227424749\n"
     ]
    }
   ],
   "source": [
    "y_valid_pred = clf.predict(X_valid)\n",
    "acc = accuracy_score(y_valid,y_valid_pred)\n",
    "print(acc)"
   ]
  },
  {
   "cell_type": "markdown",
   "metadata": {},
   "source": [
    "## <span style=\"color:#0b486b\">Part 5: RNNs for sequence modeling and neural embedding </span>\n",
    "\n",
    "<div style=\"text-align: right\"><span style=\"color:red; font-weight:bold\">[Total marks for this part: 55 points]<span></div>"
   ]
  },
  {
   "cell_type": "markdown",
   "metadata": {},
   "source": [
    "### <span style=\"color:#0b486b\">5.1. One-directional RNNs for sequence modeling and neural embedding </span> ###\n",
    "\n",
    "<div style=\"text-align: right\"><span style=\"color:red; font-weight:bold\">[Total marks for this part: 10 points]<span></div>"
   ]
  },
  {
   "cell_type": "markdown",
   "metadata": {},
   "source": [
    "#### <span style=\"color:red\">**Question 5.1.1**</span> \n",
    "**In this part, you need to construct an RNN to learn from the dataset of interest. Basically, you are required first to construct the class UniRNN (Uni-directional RNN) with the following requirements:**\n",
    "- Attribute `data_manager (self.data_manager)`: specifies the data manager used to store data for the model.\n",
    "- Attribute `cell_type (self.cell_type)`: can receive three values including `basic_rnn`, `gru`, and `lstm` which specifies the memory cells formed a hidden layer.\n",
    "- `state_sizes (self.state_sizes)` indicates the list of the hidden sizes  of memory cells. For example, $state\\_sizes = [64, 128]$ means that you have two hidden layers in your network with hidden sizes of $64$ and $128$ respectively.\n",
    "\n",
    "**Note that when declaring an embedding layer for the network, you need to set *mask_zero=True* so that the padding zeros in the sentences will be masked and ignored. This helps to have variable length RNNs. For more detail, you can refer to this [link](https://www.tensorflow.org/guide/keras/masking_and_padding).**\n",
    "\n",
    "<div style=\"text-align: right\"><span style=\"color:red\">[7 points]</span></div>"
   ]
  },
  {
   "cell_type": "code",
   "execution_count": 31,
   "metadata": {},
   "outputs": [],
   "source": [
    "class UniRNN:\n",
    "    def __init__(self, cell_type= 'gru', embed_size= 128, state_sizes= [128, 64], data_manager= None):\n",
    "        self.cell_type = cell_type\n",
    "        self.state_sizes = state_sizes\n",
    "        self.embed_size = embed_size\n",
    "        self.data_manager = data_manager\n",
    "        self.vocab_size = self.data_manager.vocab_size +1 \n",
    "        \n",
    "    #return the correspoding memory cell\n",
    "    @staticmethod\n",
    "    def get_layer(cell_type= 'gru', state_size= 128, return_sequences= False, activation = 'tanh'):\n",
    "        if cell_type=='gru':\n",
    "            return tf.keras.layers.GRU(state_size, return_sequences= return_sequences, activation = activation)\n",
    "        elif cell_type== 'lstm':\n",
    "            return tf.keras.layers.LSTM(state_size, return_sequences= return_sequences, activation = activation)\n",
    "        else:\n",
    "            return tf.keras.layers.SimpleRNN(state_size, return_sequences= return_sequences, activation = activation)\n",
    "    \n",
    "    def build(self):\n",
    "        x = tf.keras.layers.Input(shape=[None])\n",
    "        h = tf.keras.layers.Embedding(self.vocab_size, self.embed_size)(x)\n",
    "        num_layers = len(self.state_sizes)\n",
    "        for i in range(num_layers):\n",
    "            h =  self.get_layer(cell_type = self.cell_type, state_size = self.state_sizes[i], return_sequences= (i != (num_layers-1)))(h)\n",
    "        h = tf.keras.layers.Dense(dm.num_classes, activation='softmax')(h)\n",
    "        self.model = tf.keras.Model(inputs=x, outputs=h)\n",
    "   \n",
    "    def compile_model(self, *args, **kwargs):\n",
    "        self.model.compile(*args, **kwargs)\n",
    "    \n",
    "    def fit(self, *args, **kwargs):\n",
    "        return self.model.fit(*args, **kwargs)\n",
    "    \n",
    "    def evaluate(self, *args, **kwargs):\n",
    "        self.model.evaluate(*args, **kwargs)       \n"
   ]
  },
  {
   "cell_type": "markdown",
   "metadata": {},
   "source": [
    "#### <span style=\"color:red\">**Question 5.1.2**</span> \n",
    "**Run with basic RNN ('basic_rnn') cell with $embed\\_size= 128, state\\_sizes= [64, 128], data\\_manager= dm$.**\n",
    "\n",
    "<div style=\"text-align: right\"><span style=\"color:red\">[1 points]</span></div>"
   ]
  },
  {
   "cell_type": "code",
   "execution_count": 32,
   "metadata": {},
   "outputs": [
    {
     "name": "stdout",
     "output_type": "stream",
     "text": [
      "Epoch 1/20\n",
      "19/19 [==============================] - 3s 69ms/step - loss: 1.5819 - accuracy: 0.2948 - val_loss: 1.4160 - val_accuracy: 0.3344\n",
      "Epoch 2/20\n",
      "19/19 [==============================] - 1s 51ms/step - loss: 1.3846 - accuracy: 0.3972 - val_loss: 1.3816 - val_accuracy: 0.3177\n",
      "Epoch 3/20\n",
      "19/19 [==============================] - 1s 47ms/step - loss: 1.4084 - accuracy: 0.4005 - val_loss: 1.3661 - val_accuracy: 0.2843\n",
      "Epoch 4/20\n",
      "19/19 [==============================] - 1s 47ms/step - loss: 1.3421 - accuracy: 0.3722 - val_loss: 1.3927 - val_accuracy: 0.2843\n",
      "Epoch 5/20\n",
      "19/19 [==============================] - 1s 46ms/step - loss: 1.2926 - accuracy: 0.4355 - val_loss: 2.2285 - val_accuracy: 0.0067\n",
      "Epoch 6/20\n",
      "19/19 [==============================] - 1s 45ms/step - loss: 1.3748 - accuracy: 0.4438 - val_loss: 2.0144 - val_accuracy: 0.0234\n",
      "Epoch 7/20\n",
      "19/19 [==============================] - 1s 46ms/step - loss: 1.3849 - accuracy: 0.3822 - val_loss: 1.1176 - val_accuracy: 0.6789\n",
      "Epoch 8/20\n",
      "19/19 [==============================] - 1s 48ms/step - loss: 1.3453 - accuracy: 0.4713 - val_loss: 1.6253 - val_accuracy: 0.0936\n",
      "Epoch 9/20\n",
      "19/19 [==============================] - 1s 48ms/step - loss: 1.2497 - accuracy: 0.5096 - val_loss: 1.8377 - val_accuracy: 0.0769\n",
      "Epoch 10/20\n",
      "19/19 [==============================] - 1s 46ms/step - loss: 1.3621 - accuracy: 0.4746 - val_loss: 2.3399 - val_accuracy: 0.0033\n",
      "Epoch 11/20\n",
      "19/19 [==============================] - 1s 46ms/step - loss: 1.4574 - accuracy: 0.3888 - val_loss: 1.0422 - val_accuracy: 0.6555\n",
      "Epoch 12/20\n",
      "19/19 [==============================] - 1s 47ms/step - loss: 1.4230 - accuracy: 0.4455 - val_loss: 1.6206 - val_accuracy: 0.1070\n",
      "Epoch 13/20\n",
      "19/19 [==============================] - 1s 48ms/step - loss: 1.3177 - accuracy: 0.4829 - val_loss: 0.9284 - val_accuracy: 0.6722\n",
      "Epoch 14/20\n",
      "19/19 [==============================] - 1s 46ms/step - loss: 1.4919 - accuracy: 0.4421 - val_loss: 1.3190 - val_accuracy: 0.4883\n",
      "Epoch 15/20\n",
      "19/19 [==============================] - 1s 45ms/step - loss: 1.3904 - accuracy: 0.4388 - val_loss: 1.0878 - val_accuracy: 0.6254\n",
      "Epoch 16/20\n",
      "19/19 [==============================] - 1s 46ms/step - loss: 1.2330 - accuracy: 0.5279 - val_loss: 0.9481 - val_accuracy: 0.6355\n",
      "Epoch 17/20\n",
      "19/19 [==============================] - 1s 45ms/step - loss: 1.2200 - accuracy: 0.5470 - val_loss: 1.1492 - val_accuracy: 0.6254\n",
      "Epoch 18/20\n",
      "19/19 [==============================] - 1s 47ms/step - loss: 1.1722 - accuracy: 0.5737 - val_loss: 1.1522 - val_accuracy: 0.6321\n",
      "Epoch 19/20\n",
      "19/19 [==============================] - 1s 47ms/step - loss: 1.0013 - accuracy: 0.6353 - val_loss: 2.3798 - val_accuracy: 0.0033\n",
      "Epoch 20/20\n",
      "19/19 [==============================] - 1s 48ms/step - loss: 1.0561 - accuracy: 0.6095 - val_loss: 2.3538 - val_accuracy: 0.0268\n"
     ]
    },
    {
     "data": {
      "text/plain": [
       "<keras.callbacks.History at 0x1e96317a100>"
      ]
     },
     "execution_count": 32,
     "metadata": {},
     "output_type": "execute_result"
    }
   ],
   "source": [
    "uni_rnn = UniRNN(cell_type= 'basic_rnn', embed_size= 128, state_sizes= [64, 128], data_manager = dm)\n",
    "uni_rnn.build()\n",
    "opt = tf.keras.optimizers.RMSprop(learning_rate=0.001)\n",
    "uni_rnn.compile_model(optimizer=opt, loss='sparse_categorical_crossentropy', metrics=['accuracy'])\n",
    "uni_rnn.fit(dm.tf_train_set.batch(64), epochs=20, validation_data = dm.tf_valid_set.batch(64))"
   ]
  },
  {
   "cell_type": "markdown",
   "metadata": {},
   "source": [
    "#### <span style=\"color:red\">**Question 5.1.3**</span> \n",
    "**Run with GRU ('gru') cell with $embed\\_size= 128, state\\_sizes= [64, 128], data\\_manager= dm$.**\n",
    "\n",
    "<div style=\"text-align: right\"><span style=\"color:red\">[1 points]</span></div>"
   ]
  },
  {
   "cell_type": "code",
   "execution_count": 33,
   "metadata": {},
   "outputs": [
    {
     "name": "stdout",
     "output_type": "stream",
     "text": [
      "Epoch 1/20\n",
      "19/19 [==============================] - 6s 140ms/step - loss: 1.6870 - accuracy: 0.2182 - val_loss: 1.6834 - val_accuracy: 0.2040\n",
      "Epoch 2/20\n",
      "19/19 [==============================] - 2s 104ms/step - loss: 1.6648 - accuracy: 0.2182 - val_loss: 1.6854 - val_accuracy: 0.2040\n",
      "Epoch 3/20\n",
      "19/19 [==============================] - 2s 106ms/step - loss: 1.6638 - accuracy: 0.2157 - val_loss: 1.6862 - val_accuracy: 0.2040\n",
      "Epoch 4/20\n",
      "19/19 [==============================] - 2s 101ms/step - loss: 1.6632 - accuracy: 0.2157 - val_loss: 1.6868 - val_accuracy: 0.2040\n",
      "Epoch 5/20\n",
      "19/19 [==============================] - 2s 102ms/step - loss: 1.6628 - accuracy: 0.2157 - val_loss: 1.6872 - val_accuracy: 0.2040\n",
      "Epoch 6/20\n",
      "19/19 [==============================] - 2s 104ms/step - loss: 1.6625 - accuracy: 0.2157 - val_loss: 1.6878 - val_accuracy: 0.2040\n",
      "Epoch 7/20\n",
      "19/19 [==============================] - 2s 103ms/step - loss: 1.6621 - accuracy: 0.2173 - val_loss: 1.6883 - val_accuracy: 0.2977\n",
      "Epoch 8/20\n",
      "19/19 [==============================] - 2s 102ms/step - loss: 1.6618 - accuracy: 0.2265 - val_loss: 1.6887 - val_accuracy: 0.2977\n",
      "Epoch 9/20\n",
      "19/19 [==============================] - 2s 102ms/step - loss: 1.6616 - accuracy: 0.2323 - val_loss: 1.6891 - val_accuracy: 0.2977\n",
      "Epoch 10/20\n",
      "19/19 [==============================] - 2s 102ms/step - loss: 1.6614 - accuracy: 0.2323 - val_loss: 1.6894 - val_accuracy: 0.2977\n",
      "Epoch 11/20\n",
      "19/19 [==============================] - 2s 102ms/step - loss: 1.6612 - accuracy: 0.2323 - val_loss: 1.6896 - val_accuracy: 0.2977\n",
      "Epoch 12/20\n",
      "19/19 [==============================] - 2s 102ms/step - loss: 1.6610 - accuracy: 0.2323 - val_loss: 1.6903 - val_accuracy: 0.2977\n",
      "Epoch 13/20\n",
      "19/19 [==============================] - 2s 103ms/step - loss: 1.6608 - accuracy: 0.2323 - val_loss: 1.6908 - val_accuracy: 0.2977\n",
      "Epoch 14/20\n",
      "19/19 [==============================] - 2s 106ms/step - loss: 1.6606 - accuracy: 0.2323 - val_loss: 1.6910 - val_accuracy: 0.2977\n",
      "Epoch 15/20\n",
      "19/19 [==============================] - 2s 103ms/step - loss: 1.6605 - accuracy: 0.2323 - val_loss: 1.6913 - val_accuracy: 0.2977\n",
      "Epoch 16/20\n",
      "19/19 [==============================] - 2s 102ms/step - loss: 1.6603 - accuracy: 0.2323 - val_loss: 1.6918 - val_accuracy: 0.2977\n",
      "Epoch 17/20\n",
      "19/19 [==============================] - 2s 102ms/step - loss: 1.6602 - accuracy: 0.2248 - val_loss: 1.6921 - val_accuracy: 0.2977\n",
      "Epoch 18/20\n",
      "19/19 [==============================] - 2s 102ms/step - loss: 1.6601 - accuracy: 0.2248 - val_loss: 1.6920 - val_accuracy: 0.2977\n",
      "Epoch 19/20\n",
      "19/19 [==============================] - 2s 102ms/step - loss: 1.6600 - accuracy: 0.2248 - val_loss: 1.6922 - val_accuracy: 0.2977\n",
      "Epoch 20/20\n",
      "19/19 [==============================] - 2s 102ms/step - loss: 1.6599 - accuracy: 0.2248 - val_loss: 1.6925 - val_accuracy: 0.2977\n"
     ]
    },
    {
     "data": {
      "text/plain": [
       "<keras.callbacks.History at 0x1e9690f5d30>"
      ]
     },
     "execution_count": 33,
     "metadata": {},
     "output_type": "execute_result"
    }
   ],
   "source": [
    "uni_rnn = UniRNN(cell_type= 'gru', embed_size= 128, state_sizes= [64, 128], data_manager = dm)\n",
    "uni_rnn.build()\n",
    "opt = tf.keras.optimizers.RMSprop(learning_rate=0.001)\n",
    "uni_rnn.compile_model(optimizer=opt, loss='sparse_categorical_crossentropy', metrics=['accuracy'])\n",
    "uni_rnn.fit(dm.tf_train_set.batch(64), epochs=20, validation_data = dm.tf_valid_set.batch(64))"
   ]
  },
  {
   "cell_type": "markdown",
   "metadata": {},
   "source": [
    "#### <span style=\"color:red\">**Question 5.1.4**</span> \n",
    "**Run with LSTM ('lstm') cell with $embed\\_size= 128, state\\_sizes= [64, 128], data\\_manager= dm$.**\n",
    "\n",
    "<div style=\"text-align: right\"><span style=\"color:red\">[1 points]</span></div>"
   ]
  },
  {
   "cell_type": "code",
   "execution_count": 34,
   "metadata": {},
   "outputs": [
    {
     "name": "stdout",
     "output_type": "stream",
     "text": [
      "Epoch 1/20\n",
      "19/19 [==============================] - 6s 145ms/step - loss: 1.6943 - accuracy: 0.2298 - val_loss: 1.6901 - val_accuracy: 0.2040\n",
      "Epoch 2/20\n",
      "19/19 [==============================] - 2s 103ms/step - loss: 1.6670 - accuracy: 0.2190 - val_loss: 1.6882 - val_accuracy: 0.2040\n",
      "Epoch 3/20\n",
      "19/19 [==============================] - 2s 104ms/step - loss: 1.6653 - accuracy: 0.2206 - val_loss: 1.6874 - val_accuracy: 0.2040\n",
      "Epoch 4/20\n",
      "19/19 [==============================] - 2s 105ms/step - loss: 1.6641 - accuracy: 0.2157 - val_loss: 1.6870 - val_accuracy: 0.2040\n",
      "Epoch 5/20\n",
      "19/19 [==============================] - 2s 106ms/step - loss: 1.6632 - accuracy: 0.2157 - val_loss: 1.6867 - val_accuracy: 0.2040\n",
      "Epoch 6/20\n",
      "19/19 [==============================] - 2s 104ms/step - loss: 1.6625 - accuracy: 0.2157 - val_loss: 1.6867 - val_accuracy: 0.2977\n",
      "Epoch 7/20\n",
      "19/19 [==============================] - 2s 108ms/step - loss: 1.6619 - accuracy: 0.2306 - val_loss: 1.6867 - val_accuracy: 0.2977\n",
      "Epoch 8/20\n",
      "19/19 [==============================] - 2s 108ms/step - loss: 1.6614 - accuracy: 0.2306 - val_loss: 1.6867 - val_accuracy: 0.2977\n",
      "Epoch 9/20\n",
      "19/19 [==============================] - 2s 105ms/step - loss: 1.6610 - accuracy: 0.2265 - val_loss: 1.6870 - val_accuracy: 0.2977\n",
      "Epoch 10/20\n",
      "19/19 [==============================] - 2s 105ms/step - loss: 1.6606 - accuracy: 0.2265 - val_loss: 1.6873 - val_accuracy: 0.2977\n",
      "Epoch 11/20\n",
      "19/19 [==============================] - 2s 105ms/step - loss: 1.6603 - accuracy: 0.2323 - val_loss: 1.6878 - val_accuracy: 0.2977\n",
      "Epoch 12/20\n",
      "19/19 [==============================] - 2s 105ms/step - loss: 1.6601 - accuracy: 0.2323 - val_loss: 1.6882 - val_accuracy: 0.2977\n",
      "Epoch 13/20\n",
      "19/19 [==============================] - 2s 105ms/step - loss: 1.6598 - accuracy: 0.2323 - val_loss: 1.6886 - val_accuracy: 0.2977\n",
      "Epoch 14/20\n",
      "19/19 [==============================] - 2s 105ms/step - loss: 1.6596 - accuracy: 0.2323 - val_loss: 1.6889 - val_accuracy: 0.2977\n",
      "Epoch 15/20\n",
      "19/19 [==============================] - 2s 107ms/step - loss: 1.6594 - accuracy: 0.2323 - val_loss: 1.6891 - val_accuracy: 0.2977\n",
      "Epoch 16/20\n",
      "19/19 [==============================] - 2s 108ms/step - loss: 1.6592 - accuracy: 0.2323 - val_loss: 1.6894 - val_accuracy: 0.2977\n",
      "Epoch 17/20\n",
      "19/19 [==============================] - 2s 106ms/step - loss: 1.6590 - accuracy: 0.2331 - val_loss: 1.6898 - val_accuracy: 0.2977\n",
      "Epoch 18/20\n",
      "19/19 [==============================] - 2s 105ms/step - loss: 1.6589 - accuracy: 0.2331 - val_loss: 1.6901 - val_accuracy: 0.2977\n",
      "Epoch 19/20\n",
      "19/19 [==============================] - 2s 106ms/step - loss: 1.6588 - accuracy: 0.2331 - val_loss: 1.6903 - val_accuracy: 0.2977\n",
      "Epoch 20/20\n",
      "19/19 [==============================] - 2s 106ms/step - loss: 1.6586 - accuracy: 0.2256 - val_loss: 1.6905 - val_accuracy: 0.2977\n"
     ]
    },
    {
     "data": {
      "text/plain": [
       "<keras.callbacks.History at 0x1e9758cf8e0>"
      ]
     },
     "execution_count": 34,
     "metadata": {},
     "output_type": "execute_result"
    }
   ],
   "source": [
    "uni_rnn = uni_rnn = UniRNN(cell_type= 'lstm', embed_size= 128, state_sizes= [64, 128], data_manager = dm)\n",
    "uni_rnn.build()\n",
    "opt = tf.keras.optimizers.RMSprop(learning_rate=0.001)\n",
    "uni_rnn.compile_model(optimizer=opt, loss='sparse_categorical_crossentropy', metrics=['accuracy'])\n",
    "uni_rnn.fit(dm.tf_train_set.batch(64), epochs=20, validation_data = dm.tf_valid_set.batch(64))"
   ]
  },
  {
   "cell_type": "markdown",
   "metadata": {},
   "source": [
    "### <span style=\"color:#0b486b\">5.2. Bi-directional RNNs for sequence modeling and neural embedding </span> ###\n",
    "\n",
    "<div style=\"text-align: right\"><span style=\"color:red; font-weight:bold\">[Total marks for this part: 10 points]<span></div>"
   ]
  },
  {
   "cell_type": "markdown",
   "metadata": {},
   "source": [
    "#### <span style=\"color:red\">**Question 5.2.1**</span> \n",
    "**In what follow, you will investigate BiRNN. The task is similar to Part 5.1 but you need to write the code for an BiRNN. Note that the function *get_layer(cell_type= 'gru', state_size= 128, return_sequences= False, activation = 'tanh')* has to return the hidden layer with bidirectional memory cells (e.g., Basic RNN, GRU, and LSTM cells).**\n",
    "\n",
    "**Complete the code of the class *BiRNN*. Note that for the embedding layer you need to set *mask_zero=True*.**\n",
    "\n",
    "<div style=\"text-align: right\"><span style=\"color:red\">[7 points]</span></div>"
   ]
  },
  {
   "cell_type": "code",
   "execution_count": 35,
   "metadata": {},
   "outputs": [],
   "source": [
    "class BiRNN:\n",
    "    def __init__(self, cell_type= 'gru', embed_size= 128, state_sizes= [128, 64], data_manager= None):\n",
    "        self.cell_type = cell_type\n",
    "        self.state_sizes = state_sizes\n",
    "        self.embed_size = embed_size\n",
    "        self.data_manager = data_manager\n",
    "        self.vocab_size = self.data_manager.vocab_size +1\n",
    "        \n",
    "    @staticmethod\n",
    "    def get_layer(cell_type= 'gru', state_size= 128, return_sequences= False, activation = 'tanh'):\n",
    "        if cell_type=='gru':\n",
    "            return tf.keras.layers.Bidirectional(\n",
    "                tf.keras.layers.GRU(state_size, return_sequences= return_sequences, activation = activation)) \n",
    "        elif cell_type== 'lstm':\n",
    "            return tf.keras.layers.Bidirectional(\n",
    "                tf.keras.layers.LSTM(state_size, return_sequences= return_sequences, activation = activation))\n",
    "        else:\n",
    "            return tf.keras.layers.Bidirectional(\n",
    "                tf.keras.layers.SimpleRNN(state_size, return_sequences= return_sequences, activation = activation))\n",
    "    \n",
    "    def build(self):\n",
    "        x = tf.keras.layers.Input(shape=[None])\n",
    "        h = tf.keras.layers.Embedding(self.vocab_size, self.embed_size)(x)\n",
    "        num_layers  = len(self.state_sizes) \n",
    "        for i in range(num_layers):\n",
    "            h = h =  self.get_layer(cell_type = self.cell_type, state_size = self.state_sizes[i], return_sequences= (i != (num_layers-1)))(h)#Insert your code here, add more lines if necessary\n",
    "        h = tf.keras.layers.Dense(dm.num_classes, activation='softmax')(h)\n",
    "        self.model = tf.keras.Model(inputs=x, outputs=h)\n",
    "        \n",
    "    \n",
    "    def compile_model(self, *args, **kwargs):\n",
    "        self.model.compile(*args, **kwargs)\n",
    "    \n",
    "    def fit(self, *args, **kwargs):\n",
    "        return self.model.fit(*args, **kwargs)\n",
    "    \n",
    "    def evaluate(self, *args, **kwargs):\n",
    "        self.model.evaluate(*args, **kwargs)      \n"
   ]
  },
  {
   "cell_type": "markdown",
   "metadata": {},
   "source": [
    "#### <span style=\"color:red\">**Question 5.2.2**</span> \n",
    "**Run BiRNN for basic RNN ('basic_rnn') cell with $embed\\_size= 128, state\\_sizes= [64, 128], data\\_manager= dm$.**\n",
    "\n",
    "<div style=\"text-align: right\"><span style=\"color:red\">[1 points]</span></div>"
   ]
  },
  {
   "cell_type": "code",
   "execution_count": 36,
   "metadata": {},
   "outputs": [
    {
     "name": "stdout",
     "output_type": "stream",
     "text": [
      "Epoch 1/20\n",
      "19/19 [==============================] - 5s 119ms/step - loss: 1.1304 - accuracy: 0.5953 - val_loss: 0.5282 - val_accuracy: 0.8395\n",
      "Epoch 2/20\n",
      "19/19 [==============================] - 2s 96ms/step - loss: 0.2133 - accuracy: 0.9459 - val_loss: 0.2959 - val_accuracy: 0.9064\n",
      "Epoch 3/20\n",
      "19/19 [==============================] - 2s 91ms/step - loss: 0.0703 - accuracy: 0.9883 - val_loss: 0.2539 - val_accuracy: 0.9231\n",
      "Epoch 4/20\n",
      "19/19 [==============================] - 2s 90ms/step - loss: 0.0198 - accuracy: 0.9992 - val_loss: 0.1703 - val_accuracy: 0.9398\n",
      "Epoch 5/20\n",
      "19/19 [==============================] - 2s 91ms/step - loss: 0.0052 - accuracy: 1.0000 - val_loss: 0.1639 - val_accuracy: 0.9498\n",
      "Epoch 6/20\n",
      "19/19 [==============================] - 2s 91ms/step - loss: 0.0017 - accuracy: 1.0000 - val_loss: 0.1689 - val_accuracy: 0.9532\n",
      "Epoch 7/20\n",
      "19/19 [==============================] - 2s 91ms/step - loss: 6.5404e-04 - accuracy: 1.0000 - val_loss: 0.1763 - val_accuracy: 0.9532\n",
      "Epoch 8/20\n",
      "19/19 [==============================] - 2s 91ms/step - loss: 2.8662e-04 - accuracy: 1.0000 - val_loss: 0.1860 - val_accuracy: 0.9565\n",
      "Epoch 9/20\n",
      "19/19 [==============================] - 2s 92ms/step - loss: 0.0229 - accuracy: 0.9933 - val_loss: 0.1891 - val_accuracy: 0.9465\n",
      "Epoch 10/20\n",
      "19/19 [==============================] - 2s 92ms/step - loss: 0.0065 - accuracy: 0.9983 - val_loss: 0.1919 - val_accuracy: 0.9498\n",
      "Epoch 11/20\n",
      "19/19 [==============================] - 2s 95ms/step - loss: 2.4576e-04 - accuracy: 1.0000 - val_loss: 0.1888 - val_accuracy: 0.9565\n",
      "Epoch 12/20\n",
      "19/19 [==============================] - 2s 93ms/step - loss: 1.2905e-04 - accuracy: 1.0000 - val_loss: 0.1892 - val_accuracy: 0.9532\n",
      "Epoch 13/20\n",
      "19/19 [==============================] - 2s 91ms/step - loss: 7.6434e-05 - accuracy: 1.0000 - val_loss: 0.1944 - val_accuracy: 0.9565\n",
      "Epoch 14/20\n",
      "19/19 [==============================] - 2s 91ms/step - loss: 4.3494e-05 - accuracy: 1.0000 - val_loss: 0.2035 - val_accuracy: 0.9599\n",
      "Epoch 15/20\n",
      "19/19 [==============================] - 2s 92ms/step - loss: 2.2617e-05 - accuracy: 1.0000 - val_loss: 0.2166 - val_accuracy: 0.9599\n",
      "Epoch 16/20\n",
      "19/19 [==============================] - 2s 91ms/step - loss: 1.1261e-05 - accuracy: 1.0000 - val_loss: 0.2346 - val_accuracy: 0.9599\n",
      "Epoch 17/20\n",
      "19/19 [==============================] - 2s 92ms/step - loss: 5.2665e-06 - accuracy: 1.0000 - val_loss: 0.2535 - val_accuracy: 0.9599\n",
      "Epoch 18/20\n",
      "19/19 [==============================] - 2s 91ms/step - loss: 2.1205e-06 - accuracy: 1.0000 - val_loss: 0.2632 - val_accuracy: 0.9632\n",
      "Epoch 19/20\n",
      "19/19 [==============================] - 2s 92ms/step - loss: 6.7932e-07 - accuracy: 1.0000 - val_loss: 0.2846 - val_accuracy: 0.9632\n",
      "Epoch 20/20\n",
      "19/19 [==============================] - 2s 97ms/step - loss: 2.8507e-07 - accuracy: 1.0000 - val_loss: 0.2967 - val_accuracy: 0.9599\n"
     ]
    },
    {
     "data": {
      "text/plain": [
       "<keras.callbacks.History at 0x1e97b6e8100>"
      ]
     },
     "execution_count": 36,
     "metadata": {},
     "output_type": "execute_result"
    }
   ],
   "source": [
    "bi_rnn = bi_rnn = BiRNN(cell_type= 'basic_rnn', embed_size= 128, state_sizes= [64, 128], data_manager= dm)\n",
    "bi_rnn.build()\n",
    "opt = tf.keras.optimizers.RMSprop(learning_rate=0.001)\n",
    "bi_rnn.compile_model(optimizer=opt, loss='sparse_categorical_crossentropy', metrics=['accuracy'])\n",
    "bi_rnn.fit(dm.tf_train_set.batch(64), epochs=20, validation_data = dm.tf_valid_set.batch(64))"
   ]
  },
  {
   "cell_type": "markdown",
   "metadata": {},
   "source": [
    "#### <span style=\"color:red\">**Question 5.2.3**</span> \n",
    "**Run BiRNN for GRU ('gru') cell with $embed\\_size= 128, state\\_sizes= [64, 128], data\\_manager= dm$.**\n",
    "\n",
    "<div style=\"text-align: right\"><span style=\"color:red\">[1 points]</span></div>"
   ]
  },
  {
   "cell_type": "code",
   "execution_count": 37,
   "metadata": {},
   "outputs": [
    {
     "name": "stdout",
     "output_type": "stream",
     "text": [
      "Epoch 1/20\n",
      "19/19 [==============================] - 12s 290ms/step - loss: 1.3976 - accuracy: 0.4738 - val_loss: 0.9426 - val_accuracy: 0.8428\n",
      "Epoch 2/20\n",
      "19/19 [==============================] - 4s 207ms/step - loss: 0.4659 - accuracy: 0.8893 - val_loss: 0.5082 - val_accuracy: 0.8796\n",
      "Epoch 3/20\n",
      "19/19 [==============================] - 4s 203ms/step - loss: 0.1493 - accuracy: 0.9600 - val_loss: 0.4435 - val_accuracy: 0.8027\n",
      "Epoch 4/20\n",
      "19/19 [==============================] - 4s 202ms/step - loss: 0.0676 - accuracy: 0.9825 - val_loss: 0.2248 - val_accuracy: 0.9264\n",
      "Epoch 5/20\n",
      "19/19 [==============================] - 4s 203ms/step - loss: 0.0182 - accuracy: 0.9975 - val_loss: 0.2002 - val_accuracy: 0.9431\n",
      "Epoch 6/20\n",
      "19/19 [==============================] - 4s 206ms/step - loss: 0.0390 - accuracy: 0.9908 - val_loss: 0.1493 - val_accuracy: 0.9498\n",
      "Epoch 7/20\n",
      "19/19 [==============================] - 4s 205ms/step - loss: 0.0045 - accuracy: 1.0000 - val_loss: 0.1536 - val_accuracy: 0.9498\n",
      "Epoch 8/20\n",
      "19/19 [==============================] - 4s 202ms/step - loss: 0.0020 - accuracy: 1.0000 - val_loss: 0.1643 - val_accuracy: 0.9465\n",
      "Epoch 9/20\n",
      "19/19 [==============================] - 4s 203ms/step - loss: 9.0926e-04 - accuracy: 1.0000 - val_loss: 0.1782 - val_accuracy: 0.9498\n",
      "Epoch 10/20\n",
      "19/19 [==============================] - 4s 204ms/step - loss: 3.8454e-04 - accuracy: 1.0000 - val_loss: 0.2038 - val_accuracy: 0.9498\n",
      "Epoch 11/20\n",
      "19/19 [==============================] - 4s 209ms/step - loss: 1.5820e-04 - accuracy: 1.0000 - val_loss: 0.2306 - val_accuracy: 0.9498\n",
      "Epoch 12/20\n",
      "19/19 [==============================] - 4s 203ms/step - loss: 6.3034e-05 - accuracy: 1.0000 - val_loss: 0.2662 - val_accuracy: 0.9465\n",
      "Epoch 13/20\n",
      "19/19 [==============================] - 4s 208ms/step - loss: 2.5493e-05 - accuracy: 1.0000 - val_loss: 0.3033 - val_accuracy: 0.9498\n",
      "Epoch 14/20\n",
      "19/19 [==============================] - 4s 219ms/step - loss: 1.0601e-05 - accuracy: 1.0000 - val_loss: 0.3404 - val_accuracy: 0.9431\n",
      "Epoch 15/20\n",
      "19/19 [==============================] - 4s 210ms/step - loss: 4.5713e-06 - accuracy: 1.0000 - val_loss: 0.3747 - val_accuracy: 0.9465\n",
      "Epoch 16/20\n",
      "19/19 [==============================] - 4s 210ms/step - loss: 1.9885e-06 - accuracy: 1.0000 - val_loss: 0.6543 - val_accuracy: 0.9164\n",
      "Epoch 17/20\n",
      "19/19 [==============================] - 4s 215ms/step - loss: 0.0930 - accuracy: 0.9742 - val_loss: 0.4476 - val_accuracy: 0.9565\n",
      "Epoch 18/20\n",
      "19/19 [==============================] - 4s 209ms/step - loss: 5.3624e-05 - accuracy: 1.0000 - val_loss: 0.4208 - val_accuracy: 0.9565\n",
      "Epoch 19/20\n",
      "19/19 [==============================] - 4s 213ms/step - loss: 2.2806e-05 - accuracy: 1.0000 - val_loss: 0.3557 - val_accuracy: 0.9599\n",
      "Epoch 20/20\n",
      "19/19 [==============================] - 4s 219ms/step - loss: 1.4883e-05 - accuracy: 1.0000 - val_loss: 0.3367 - val_accuracy: 0.9666\n"
     ]
    },
    {
     "data": {
      "text/plain": [
       "<keras.callbacks.History at 0x1e9029a44f0>"
      ]
     },
     "execution_count": 37,
     "metadata": {},
     "output_type": "execute_result"
    }
   ],
   "source": [
    "bi_rnn = BiRNN(cell_type= 'gru', embed_size= 128, state_sizes= [64, 128], data_manager= dm)\n",
    "bi_rnn.build()\n",
    "opt = tf.keras.optimizers.RMSprop(learning_rate=0.001)\n",
    "bi_rnn.compile_model(optimizer=opt, loss='sparse_categorical_crossentropy', metrics=['accuracy'])\n",
    "bi_rnn.fit(dm.tf_train_set.batch(64), epochs=20, validation_data = dm.tf_valid_set.batch(64))"
   ]
  },
  {
   "cell_type": "markdown",
   "metadata": {},
   "source": [
    "##### <span style=\"color:red\">**Question 5.2.4**</span> \n",
    "**Run BiRNN for LSTM ('lstm') cell with $embed\\_size= 128, state\\_sizes= [64, 128], data\\_manager= dm$.**\n",
    "\n",
    "<div style=\"text-align: right\"><span style=\"color:red\">[1 points]</span></div>"
   ]
  },
  {
   "cell_type": "code",
   "execution_count": 38,
   "metadata": {},
   "outputs": [
    {
     "name": "stdout",
     "output_type": "stream",
     "text": [
      "Epoch 1/20\n",
      "19/19 [==============================] - 13s 286ms/step - loss: 1.6278 - accuracy: 0.2798 - val_loss: 1.4057 - val_accuracy: 0.3144\n",
      "Epoch 2/20\n",
      "19/19 [==============================] - 4s 233ms/step - loss: 0.9465 - accuracy: 0.6811 - val_loss: 1.8096 - val_accuracy: 0.3913\n",
      "Epoch 3/20\n",
      "19/19 [==============================] - 4s 220ms/step - loss: 0.4672 - accuracy: 0.8859 - val_loss: 0.4390 - val_accuracy: 0.8963\n",
      "Epoch 4/20\n",
      "19/19 [==============================] - 4s 232ms/step - loss: 0.2392 - accuracy: 0.9359 - val_loss: 0.4548 - val_accuracy: 0.8796\n",
      "Epoch 5/20\n",
      "19/19 [==============================] - 4s 222ms/step - loss: 0.1324 - accuracy: 0.9625 - val_loss: 0.4259 - val_accuracy: 0.8997\n",
      "Epoch 6/20\n",
      "19/19 [==============================] - 4s 217ms/step - loss: 0.0606 - accuracy: 0.9825 - val_loss: 0.3045 - val_accuracy: 0.9298\n",
      "Epoch 7/20\n",
      "19/19 [==============================] - 4s 218ms/step - loss: 0.1428 - accuracy: 0.9659 - val_loss: 0.2187 - val_accuracy: 0.9365\n",
      "Epoch 8/20\n",
      "19/19 [==============================] - 4s 217ms/step - loss: 0.0491 - accuracy: 0.9875 - val_loss: 0.1818 - val_accuracy: 0.9498\n",
      "Epoch 9/20\n",
      "19/19 [==============================] - 4s 212ms/step - loss: 0.0632 - accuracy: 0.9825 - val_loss: 0.1578 - val_accuracy: 0.9365\n",
      "Epoch 10/20\n",
      "19/19 [==============================] - 4s 215ms/step - loss: 0.0236 - accuracy: 0.9925 - val_loss: 0.1574 - val_accuracy: 0.9498\n",
      "Epoch 11/20\n",
      "19/19 [==============================] - 4s 217ms/step - loss: 0.0168 - accuracy: 0.9933 - val_loss: 0.2104 - val_accuracy: 0.9365\n",
      "Epoch 12/20\n",
      "19/19 [==============================] - 4s 221ms/step - loss: 0.0255 - accuracy: 0.9900 - val_loss: 0.1606 - val_accuracy: 0.9465\n",
      "Epoch 13/20\n",
      "19/19 [==============================] - 4s 234ms/step - loss: 0.0065 - accuracy: 0.9983 - val_loss: 0.1660 - val_accuracy: 0.9498\n",
      "Epoch 14/20\n",
      "19/19 [==============================] - 4s 213ms/step - loss: 0.0446 - accuracy: 0.9892 - val_loss: 0.1290 - val_accuracy: 0.9599\n",
      "Epoch 15/20\n",
      "19/19 [==============================] - 4s 217ms/step - loss: 0.0017 - accuracy: 1.0000 - val_loss: 0.1453 - val_accuracy: 0.9532\n",
      "Epoch 16/20\n",
      "19/19 [==============================] - 4s 206ms/step - loss: 5.7455e-04 - accuracy: 1.0000 - val_loss: 0.1943 - val_accuracy: 0.9532\n",
      "Epoch 17/20\n",
      "19/19 [==============================] - 4s 202ms/step - loss: 2.3111e-04 - accuracy: 1.0000 - val_loss: 0.2317 - val_accuracy: 0.9465\n",
      "Epoch 18/20\n",
      "19/19 [==============================] - 4s 206ms/step - loss: 0.0328 - accuracy: 0.9858 - val_loss: 0.1746 - val_accuracy: 0.9532\n",
      "Epoch 19/20\n",
      "19/19 [==============================] - 4s 216ms/step - loss: 0.0011 - accuracy: 1.0000 - val_loss: 0.1531 - val_accuracy: 0.9532\n",
      "Epoch 20/20\n",
      "19/19 [==============================] - 4s 207ms/step - loss: 9.2731e-04 - accuracy: 1.0000 - val_loss: 0.2630 - val_accuracy: 0.9398\n"
     ]
    },
    {
     "data": {
      "text/plain": [
       "<keras.callbacks.History at 0x1e919181070>"
      ]
     },
     "execution_count": 38,
     "metadata": {},
     "output_type": "execute_result"
    }
   ],
   "source": [
    "bi_rnn = BiRNN(cell_type= 'lstm', embed_size= 128, state_sizes= [64, 128], data_manager= dm)\n",
    "bi_rnn.build()\n",
    "opt = tf.keras.optimizers.RMSprop(learning_rate=0.001)\n",
    "bi_rnn.compile_model(optimizer=opt, loss='sparse_categorical_crossentropy', metrics=['accuracy'])\n",
    "bi_rnn.fit(dm.tf_train_set.batch(64), epochs=20, validation_data = dm.tf_valid_set.batch(64))"
   ]
  },
  {
   "cell_type": "markdown",
   "metadata": {},
   "source": [
    "### <span style=\"color:#0b486b\">5.3. RNNs with various types, cells, and fine-tuning embedding matrix for sequence modeling and neural embedding </span> ###\n",
    "\n",
    "<div style=\"text-align: right\"><span style=\"color:red; font-weight:bold\">[Total marks for this part: 11 points]<span></div>"
   ]
  },
  {
   "cell_type": "markdown",
   "metadata": {},
   "source": [
    "#### <span style=\"color:red\">**Question 5.3.1**</span> \n",
    "\n",
    "**In what follows, you are required to combine the code in Part 1 and Part 2 to gain a general RNN which can be either Uni-directional RNN or Bi-directional RNN and the embedding matrix can be initialized using a pretrained Word2Vect.**\n",
    "\n",
    "**Below are the descriptions of the attributes of the class *RNN*:**\n",
    "- `run_mode (self.run_mode)` has three values (scratch, init-only, and init-fine-tune).\n",
    "  - `scratch` means training the embedding matrix from scratch.\n",
    "  - `init-only` means only initializing the embedding matrix with a pretrained Word2Vect but **not further doing** fine-tuning that matrix.\n",
    "  - `init-fine-tune` means both initializing the embedding matrix with a pretrained Word2Vect and **further doing** fine-tuning that matrix.\n",
    "- `network_type (self.network_type)` has two values (uni-directional and bi-directional) which correspond to either Uni-directional RNN or Bi-directional RNN.\n",
    "- `cell_type (self.cell_type)` has three values (simple-rnn, gru, and lstm) which specify the memory cell used in the network.\n",
    "- `embed_model (self.embed_model)` specifes the pretrained Word2Vect model used.\n",
    "-  `embed_size (self.embed_size)` specifes the embedding size. Note that when run_mode is either init-only' or 'init-fine-tune', this embedding size is extracted from embed_model for dimension compatability.\n",
    "- `state_sizes (self.state_sizes)` indicates the list of the hidden sizes  of memory cells. For example, $state\\_sizes = [64, 128]$ means that you have two hidden layers in your network with hidden sizes of $64$ and $128$ respectively.\n",
    "\n",
    "**Complete the code of the class *RNN*.**\n",
    "\n",
    "<div style=\"text-align: right\"><span style=\"color:red\">[7 points]</span></div>"
   ]
  },
  {
   "cell_type": "code",
   "execution_count": 39,
   "metadata": {},
   "outputs": [],
   "source": [
    "class RNN:\n",
    "    def __init__(self, run_mode = 'scratch', cell_type= 'gru', network_type = 'uni-directional', embed_model= 'glove-wiki-gigaword-100', \n",
    "                 embed_size= 128, state_sizes = [64, 64], data_manager = None):\n",
    "        self.run_mode = run_mode\n",
    "        self.data_manager = data_manager\n",
    "        self.cell_type = cell_type\n",
    "        self.network_type = network_type\n",
    "        self.state_sizes = state_sizes\n",
    "        self.embed_model = embed_model\n",
    "        self.embed_size = embed_size\n",
    "        if self.run_mode != 'scratch':\n",
    "            self.embed_size = int(self.embed_model.split(\"-\")[-1])\n",
    "        self.data_manager = data_manager\n",
    "        self.vocab_size = dm.vocab_size +1\n",
    "        self.word2idx = dm.word2idx\n",
    "        self.word2vect = None\n",
    "        self.embed_matrix = np.zeros(shape= [self.vocab_size, self.embed_size])\n",
    "    \n",
    "    def build_embedding_matrix(self):\n",
    "        self.word2vect = api.load(self.embed_model)   \n",
    "        for word, idx in self.word2idx.items():\n",
    "            try:\n",
    "                self.embed_matrix[idx] = self.word2vect.word_vec(word)  \n",
    "                    \n",
    "            except KeyError: \n",
    "                pass            \n",
    "    \n",
    "    \n",
    "    @staticmethod\n",
    "    def get_layer(cell_type= 'gru', network_type= 'uni-directional', hidden_size= 128, return_sequences= False, activation = 'tanh'):\n",
    "        if network_type== 'uni-directional':\n",
    "            if cell_type=='gru':\n",
    "                return tf.keras.layers.GRU(hidden_size,return_sequences= return_sequences, activation = activation)\n",
    "            elif cell_type== 'lstm':\n",
    "                return tf.keras.layers.LSTM(hidden_size,return_sequences= return_sequences, activation = activation)\n",
    "            else:\n",
    "                return tf.keras.layers.SimpleRNN(hidden_size,return_sequences= return_sequences, activation = activation)\n",
    "    \n",
    "        if network_type== 'bi-directional':\n",
    "            if cell_type=='gru':\n",
    "                return tf.keras.layers.Bidirectional(tf.keras.layers.GRU(hidden_size,return_sequences= return_sequences,\n",
    "                                                                         activation = activation))\n",
    "            elif cell_type== 'lstm':\n",
    "                return tf.keras.layers.Bidirectional(tf.keras.layers.LSTM(hidden_size,return_sequences= return_sequences, \n",
    "                                                                          activation = activation))\n",
    "            else:\n",
    "                return tf.keras.layers.Bidirectional(tf.keras.layers.SimpleRNN(hidden_size,return_sequences= return_sequences, \n",
    "                                                                               activation = activation))\n",
    "    \n",
    "    \n",
    "    def build(self):\n",
    "        #Insert your code here\n",
    "        x = tf.keras.layers.Input(shape=[None])\n",
    "        if self.run_mode == \"scratch\":\n",
    "            self.embedding_layer = tf.keras.layers.Embedding(self.vocab_size, self.embed_size, trainable= True,mask_zero=True)\n",
    "        elif self.run_mode == \"init-only\":\n",
    "            self.build_embedding_matrix()\n",
    "            self.embedding_layer = tf.keras.layers.Embedding(self.vocab_size, self.embed_size, \n",
    "                                                        weights= [self.embed_matrix], trainable= False,mask_zero=True) \n",
    "        else : #fine-tuned\n",
    "            self.build_embedding_matrix()\n",
    "            self.embedding_layer = tf.keras.layers.Embedding(self.vocab_size, self.embed_size, \n",
    "                                                        weights= [self.embed_matrix], trainable= True,mask_zero=True) \n",
    "        h = self.embedding_layer(x)\n",
    "        num_layers = len(self.state_sizes)\n",
    "        for i in range(num_layers):\n",
    "            if i != num_layers-1:\n",
    "                layer = self.get_layer(hidden_size=self.state_sizes[i],return_sequences= True)\n",
    "                h=layer(h)\n",
    "            else:\n",
    "                layer = self.get_layer(hidden_size=self.state_sizes[i])\n",
    "                h=layer(h)                                                 \n",
    "           \n",
    "        h = tf.keras.layers.Dense(dm.num_classes, activation='softmax')(h)\n",
    "        self.model = tf.keras.Model(inputs=x, outputs=h)\n",
    "        \n",
    "        \n",
    "    def compile_model(self, *args, **kwargs):\n",
    "        self.model.compile(*args, **kwargs)\n",
    "    \n",
    "    def fit(self, *args, **kwargs):\n",
    "        return self.model.fit(*args, **kwargs)\n",
    "    \n",
    "    def evaluate(self, *args, **kwargs):\n",
    "        self.model.evaluate(*args, **kwargs)   "
   ]
  },
  {
   "cell_type": "markdown",
   "metadata": {},
   "source": [
    "#### <span style=\"color:red\">**Question 5.3.2**</span> \n",
    "\n",
    "**Design the experiment to compare three running modes. Note that you should stick with fixed values for other attributes and only vary *run_mode*. Give your comments for the results.**\n",
    "\n",
    "<div style=\"text-align: right\"><span style=\"color:red\">[2 points]</span></div>"
   ]
  },
  {
   "cell_type": "code",
   "execution_count": 40,
   "metadata": {},
   "outputs": [
    {
     "name": "stdout",
     "output_type": "stream",
     "text": [
      "scratch\n",
      "Epoch 1/20\n",
      "19/19 - 12s - loss: 1.6279 - accuracy: 0.2989 - val_loss: 1.2730 - val_accuracy: 0.6321\n",
      "Epoch 2/20\n",
      "19/19 - 2s - loss: 0.9845 - accuracy: 0.6370 - val_loss: 0.7066 - val_accuracy: 0.7525\n",
      "Epoch 3/20\n",
      "19/19 - 2s - loss: 0.4942 - accuracy: 0.8684 - val_loss: 0.3913 - val_accuracy: 0.8896\n",
      "Epoch 4/20\n",
      "19/19 - 2s - loss: 0.2198 - accuracy: 0.9484 - val_loss: 0.2476 - val_accuracy: 0.9365\n",
      "Epoch 5/20\n",
      "19/19 - 2s - loss: 0.0986 - accuracy: 0.9833 - val_loss: 0.2144 - val_accuracy: 0.9431\n",
      "Epoch 6/20\n",
      "19/19 - 2s - loss: 0.0490 - accuracy: 0.9917 - val_loss: 0.1963 - val_accuracy: 0.9498\n",
      "Epoch 7/20\n",
      "19/19 - 2s - loss: 0.0205 - accuracy: 0.9983 - val_loss: 0.1992 - val_accuracy: 0.9565\n",
      "Epoch 8/20\n",
      "19/19 - 2s - loss: 0.0103 - accuracy: 0.9992 - val_loss: 0.2091 - val_accuracy: 0.9532\n",
      "Epoch 9/20\n",
      "19/19 - 2s - loss: 0.0049 - accuracy: 1.0000 - val_loss: 0.2242 - val_accuracy: 0.9498\n",
      "Epoch 10/20\n",
      "19/19 - 2s - loss: 0.0090 - accuracy: 0.9967 - val_loss: 0.2358 - val_accuracy: 0.9431\n",
      "Epoch 11/20\n",
      "19/19 - 2s - loss: 0.0021 - accuracy: 1.0000 - val_loss: 0.2384 - val_accuracy: 0.9465\n",
      "Epoch 12/20\n",
      "19/19 - 2s - loss: 0.0013 - accuracy: 1.0000 - val_loss: 0.2435 - val_accuracy: 0.9532\n",
      "Epoch 13/20\n",
      "19/19 - 2s - loss: 7.5462e-04 - accuracy: 1.0000 - val_loss: 0.2638 - val_accuracy: 0.9498\n",
      "Epoch 14/20\n",
      "19/19 - 2s - loss: 4.2771e-04 - accuracy: 1.0000 - val_loss: 0.2860 - val_accuracy: 0.9498\n",
      "Epoch 15/20\n",
      "19/19 - 2s - loss: 2.2790e-04 - accuracy: 1.0000 - val_loss: 0.3291 - val_accuracy: 0.9465\n",
      "Epoch 16/20\n",
      "19/19 - 2s - loss: 1.2300e-04 - accuracy: 1.0000 - val_loss: 0.3118 - val_accuracy: 0.9431\n",
      "Epoch 17/20\n",
      "19/19 - 2s - loss: 0.0018 - accuracy: 0.9992 - val_loss: 0.3737 - val_accuracy: 0.9532\n",
      "Epoch 18/20\n",
      "19/19 - 2s - loss: 0.0097 - accuracy: 0.9975 - val_loss: 0.4408 - val_accuracy: 0.9498\n",
      "Epoch 19/20\n",
      "19/19 - 2s - loss: 9.0183e-05 - accuracy: 1.0000 - val_loss: 0.3757 - val_accuracy: 0.9565\n",
      "Epoch 20/20\n",
      "19/19 - 2s - loss: 5.3112e-05 - accuracy: 1.0000 - val_loss: 0.3753 - val_accuracy: 0.9565\n",
      "init-fine-tune\n"
     ]
    },
    {
     "name": "stderr",
     "output_type": "stream",
     "text": [
      "C:\\Users\\HP\\AppData\\Local\\Temp\\ipykernel_11136\\3359736058.py:23: DeprecationWarning: Call to deprecated `word_vec` (Use get_vector instead).\n",
      "  self.embed_matrix[idx] = self.word2vect.word_vec(word)\n"
     ]
    },
    {
     "name": "stdout",
     "output_type": "stream",
     "text": [
      "Epoch 1/20\n",
      "19/19 - 12s - loss: 1.5378 - accuracy: 0.3930 - val_loss: 1.1161 - val_accuracy: 0.7191\n",
      "Epoch 2/20\n",
      "19/19 - 2s - loss: 1.0239 - accuracy: 0.6478 - val_loss: 0.6863 - val_accuracy: 0.8060\n",
      "Epoch 3/20\n",
      "19/19 - 2s - loss: 0.5827 - accuracy: 0.8243 - val_loss: 0.4257 - val_accuracy: 0.8729\n",
      "Epoch 4/20\n",
      "19/19 - 2s - loss: 0.2730 - accuracy: 0.9301 - val_loss: 0.2858 - val_accuracy: 0.8997\n",
      "Epoch 5/20\n",
      "19/19 - 2s - loss: 0.1378 - accuracy: 0.9617 - val_loss: 0.2312 - val_accuracy: 0.9130\n",
      "Epoch 6/20\n",
      "19/19 - 2s - loss: 0.0815 - accuracy: 0.9800 - val_loss: 0.1780 - val_accuracy: 0.9532\n",
      "Epoch 7/20\n",
      "19/19 - 2s - loss: 0.0505 - accuracy: 0.9875 - val_loss: 0.1392 - val_accuracy: 0.9498\n",
      "Epoch 8/20\n",
      "19/19 - 2s - loss: 0.0350 - accuracy: 0.9892 - val_loss: 0.1361 - val_accuracy: 0.9431\n",
      "Epoch 9/20\n",
      "19/19 - 2s - loss: 0.0261 - accuracy: 0.9917 - val_loss: 0.1651 - val_accuracy: 0.9398\n",
      "Epoch 10/20\n",
      "19/19 - 2s - loss: 0.0162 - accuracy: 0.9942 - val_loss: 0.1409 - val_accuracy: 0.9398\n",
      "Epoch 11/20\n",
      "19/19 - 2s - loss: 0.0080 - accuracy: 0.9992 - val_loss: 0.1968 - val_accuracy: 0.9365\n",
      "Epoch 12/20\n",
      "19/19 - 2s - loss: 0.0039 - accuracy: 1.0000 - val_loss: 0.4150 - val_accuracy: 0.9164\n",
      "Epoch 13/20\n",
      "19/19 - 2s - loss: 0.0033 - accuracy: 1.0000 - val_loss: 0.2008 - val_accuracy: 0.9532\n",
      "Epoch 14/20\n",
      "19/19 - 2s - loss: 8.9616e-04 - accuracy: 1.0000 - val_loss: 0.1349 - val_accuracy: 0.9599\n",
      "Epoch 15/20\n",
      "19/19 - 2s - loss: 0.0292 - accuracy: 0.9950 - val_loss: 0.1544 - val_accuracy: 0.9699\n",
      "Epoch 16/20\n",
      "19/19 - 2s - loss: 3.5961e-04 - accuracy: 1.0000 - val_loss: 0.1424 - val_accuracy: 0.9666\n",
      "Epoch 17/20\n",
      "19/19 - 2s - loss: 2.4839e-04 - accuracy: 1.0000 - val_loss: 0.1405 - val_accuracy: 0.9666\n",
      "Epoch 18/20\n",
      "19/19 - 2s - loss: 1.6522e-04 - accuracy: 1.0000 - val_loss: 0.1442 - val_accuracy: 0.9666\n",
      "Epoch 19/20\n",
      "19/19 - 2s - loss: 9.9354e-05 - accuracy: 1.0000 - val_loss: 0.1555 - val_accuracy: 0.9666\n",
      "Epoch 20/20\n",
      "19/19 - 2s - loss: 5.3739e-05 - accuracy: 1.0000 - val_loss: 0.1705 - val_accuracy: 0.9666\n",
      "init-only\n",
      "Epoch 1/20\n",
      "19/19 - 12s - loss: 1.5050 - accuracy: 0.4022 - val_loss: 1.1247 - val_accuracy: 0.6789\n",
      "Epoch 2/20\n",
      "19/19 - 2s - loss: 1.0687 - accuracy: 0.6336 - val_loss: 0.7337 - val_accuracy: 0.7993\n",
      "Epoch 3/20\n",
      "19/19 - 2s - loss: 0.7119 - accuracy: 0.7619 - val_loss: 0.5167 - val_accuracy: 0.8428\n",
      "Epoch 4/20\n",
      "19/19 - 2s - loss: 0.4447 - accuracy: 0.8651 - val_loss: 0.3639 - val_accuracy: 0.8696\n",
      "Epoch 5/20\n",
      "19/19 - 2s - loss: 0.2615 - accuracy: 0.9251 - val_loss: 0.3000 - val_accuracy: 0.8963\n",
      "Epoch 6/20\n",
      "19/19 - 2s - loss: 0.1670 - accuracy: 0.9534 - val_loss: 0.2820 - val_accuracy: 0.9231\n",
      "Epoch 7/20\n",
      "19/19 - 2s - loss: 0.1202 - accuracy: 0.9625 - val_loss: 0.2224 - val_accuracy: 0.9398\n",
      "Epoch 8/20\n",
      "19/19 - 2s - loss: 0.0825 - accuracy: 0.9775 - val_loss: 0.2127 - val_accuracy: 0.9465\n",
      "Epoch 9/20\n",
      "19/19 - 2s - loss: 0.0633 - accuracy: 0.9833 - val_loss: 0.1770 - val_accuracy: 0.9565\n",
      "Epoch 10/20\n",
      "19/19 - 2s - loss: 0.0628 - accuracy: 0.9775 - val_loss: 0.1762 - val_accuracy: 0.9498\n",
      "Epoch 11/20\n",
      "19/19 - 2s - loss: 0.0414 - accuracy: 0.9858 - val_loss: 0.1374 - val_accuracy: 0.9565\n",
      "Epoch 12/20\n",
      "19/19 - 2s - loss: 0.0344 - accuracy: 0.9883 - val_loss: 0.1736 - val_accuracy: 0.9565\n",
      "Epoch 13/20\n",
      "19/19 - 2s - loss: 0.0294 - accuracy: 0.9933 - val_loss: 0.1366 - val_accuracy: 0.9599\n",
      "Epoch 14/20\n",
      "19/19 - 2s - loss: 0.0174 - accuracy: 0.9967 - val_loss: 0.1341 - val_accuracy: 0.9565\n",
      "Epoch 15/20\n",
      "19/19 - 2s - loss: 0.0305 - accuracy: 0.9892 - val_loss: 0.1228 - val_accuracy: 0.9666\n",
      "Epoch 16/20\n",
      "19/19 - 2s - loss: 0.0132 - accuracy: 0.9950 - val_loss: 0.1331 - val_accuracy: 0.9632\n",
      "Epoch 17/20\n",
      "19/19 - 2s - loss: 0.0271 - accuracy: 0.9908 - val_loss: 0.1297 - val_accuracy: 0.9632\n",
      "Epoch 18/20\n",
      "19/19 - 2s - loss: 0.0049 - accuracy: 1.0000 - val_loss: 0.1368 - val_accuracy: 0.9666\n",
      "Epoch 19/20\n",
      "19/19 - 2s - loss: 0.0232 - accuracy: 0.9925 - val_loss: 0.1327 - val_accuracy: 0.9699\n",
      "Epoch 20/20\n",
      "19/19 - 2s - loss: 0.0028 - accuracy: 1.0000 - val_loss: 0.1384 - val_accuracy: 0.9666\n"
     ]
    }
   ],
   "source": [
    "\n",
    "for mode in ['scratch','init-fine-tune','init-only']:\n",
    "    \n",
    "    \n",
    "    if mode == 'init-fine-tune':       \n",
    "        mode_name = 'init-fine-tune'\n",
    "    elif mode == 'init-only':\n",
    "        mode_name = 'init-only'\n",
    "    else:\n",
    "        mode_name = mode \n",
    "    print(mode)\n",
    "    run_model = RNN(run_mode = mode,data_manager = dm,network_type = 'uni-directional' )    \n",
    "    run_model.build()\n",
    "    opt = tf.keras.optimizers.RMSprop(learning_rate=0.001)\n",
    "    run_model.compile_model(optimizer = opt,loss = 'sparse_categorical_crossentropy',metrics=['accuracy'])\n",
    "    \n",
    "    globals()[mode_name+'history']=run_model.fit(dm.tf_train_set.batch(64),epochs=20,validation_data=dm.tf_valid_set.batch(64),verbose=2)\n",
    "    "
   ]
  },
  {
   "cell_type": "markdown",
   "metadata": {},
   "source": [
    "#### <span style=\"color:red\">**Question 5.3.3**</span> \n",
    "\n",
    "**Run the above general RNN with at least five parameter sets and try to obtain the best performance. You can stick with the running mode *init-fine-tune* and use grid search to tune other parameters. Record your best model which will be used in the next part.**\n",
    "\n",
    "<div style=\"text-align: right\"><span style=\"color:red\">[2 points]</span></div>"
   ]
  },
  {
   "cell_type": "markdown",
   "metadata": {},
   "source": [
    "#Report your results here\n",
    "\n",
    "Model 1 (run_mode ='init-fine-tune',...): accuracy = ...\n",
    "\n",
    "......................................................"
   ]
  },
  {
   "cell_type": "code",
   "execution_count": 41,
   "metadata": {},
   "outputs": [
    {
     "name": "stderr",
     "output_type": "stream",
     "text": [
      "C:\\Users\\HP\\AppData\\Local\\Temp\\ipykernel_11136\\3359736058.py:23: DeprecationWarning: Call to deprecated `word_vec` (Use get_vector instead).\n",
      "  self.embed_matrix[idx] = self.word2vect.word_vec(word)\n"
     ]
    },
    {
     "name": "stdout",
     "output_type": "stream",
     "text": [
      "Epoch 1/20\n",
      "19/19 [==============================] - 12s 219ms/step - loss: 1.5196 - accuracy: 0.3897 - val_loss: 1.1179 - val_accuracy: 0.6154\n",
      "Epoch 2/20\n",
      "19/19 [==============================] - 2s 104ms/step - loss: 1.0357 - accuracy: 0.6436 - val_loss: 0.7236 - val_accuracy: 0.7793\n",
      "Epoch 3/20\n",
      "19/19 [==============================] - 2s 103ms/step - loss: 0.6207 - accuracy: 0.8135 - val_loss: 0.4688 - val_accuracy: 0.8763\n",
      "Epoch 4/20\n",
      "19/19 [==============================] - 2s 108ms/step - loss: 0.3236 - accuracy: 0.9176 - val_loss: 0.2976 - val_accuracy: 0.9030\n",
      "Epoch 5/20\n",
      "19/19 [==============================] - 2s 105ms/step - loss: 0.1774 - accuracy: 0.9500 - val_loss: 0.2376 - val_accuracy: 0.9130\n",
      "Epoch 6/20\n",
      "19/19 [==============================] - 2s 104ms/step - loss: 0.1041 - accuracy: 0.9667 - val_loss: 0.2275 - val_accuracy: 0.9398\n",
      "Epoch 7/20\n",
      "19/19 [==============================] - 2s 105ms/step - loss: 0.0690 - accuracy: 0.9784 - val_loss: 0.1702 - val_accuracy: 0.9532\n",
      "Epoch 8/20\n",
      "19/19 [==============================] - 2s 105ms/step - loss: 0.0465 - accuracy: 0.9875 - val_loss: 0.1561 - val_accuracy: 0.9532\n",
      "Epoch 9/20\n",
      "19/19 [==============================] - 2s 106ms/step - loss: 0.0324 - accuracy: 0.9917 - val_loss: 0.1728 - val_accuracy: 0.9532\n",
      "Epoch 10/20\n",
      "19/19 [==============================] - 2s 109ms/step - loss: 0.0225 - accuracy: 0.9933 - val_loss: 0.1282 - val_accuracy: 0.9599\n",
      "Epoch 11/20\n",
      "19/19 [==============================] - 2s 106ms/step - loss: 0.0170 - accuracy: 0.9942 - val_loss: 0.1161 - val_accuracy: 0.9666\n",
      "Epoch 12/20\n",
      "19/19 [==============================] - 2s 110ms/step - loss: 0.0091 - accuracy: 0.9975 - val_loss: 0.1267 - val_accuracy: 0.9632\n",
      "Epoch 13/20\n",
      "19/19 [==============================] - 2s 107ms/step - loss: 0.0046 - accuracy: 1.0000 - val_loss: 0.1326 - val_accuracy: 0.9666\n",
      "Epoch 14/20\n",
      "19/19 [==============================] - 2s 105ms/step - loss: 0.0021 - accuracy: 1.0000 - val_loss: 0.1461 - val_accuracy: 0.9632\n",
      "Epoch 15/20\n",
      "19/19 [==============================] - 2s 104ms/step - loss: 8.9373e-04 - accuracy: 1.0000 - val_loss: 0.1505 - val_accuracy: 0.9632\n",
      "Epoch 16/20\n",
      "19/19 [==============================] - 2s 104ms/step - loss: 3.9026e-04 - accuracy: 1.0000 - val_loss: 0.1705 - val_accuracy: 0.9599\n",
      "Epoch 17/20\n",
      "19/19 [==============================] - 2s 105ms/step - loss: 1.7169e-04 - accuracy: 1.0000 - val_loss: 0.1855 - val_accuracy: 0.9699\n",
      "Epoch 18/20\n",
      "19/19 [==============================] - 2s 106ms/step - loss: 8.0438e-05 - accuracy: 1.0000 - val_loss: 0.1847 - val_accuracy: 0.9666\n",
      "Epoch 19/20\n",
      "19/19 [==============================] - 2s 107ms/step - loss: 3.8118e-05 - accuracy: 1.0000 - val_loss: 0.1953 - val_accuracy: 0.9666\n",
      "Epoch 20/20\n",
      "19/19 [==============================] - 2s 113ms/step - loss: 1.8361e-05 - accuracy: 1.0000 - val_loss: 0.2043 - val_accuracy: 0.9732\n"
     ]
    },
    {
     "data": {
      "text/plain": [
       "<keras.callbacks.History at 0x1e9bc435d30>"
      ]
     },
     "execution_count": 41,
     "metadata": {},
     "output_type": "execute_result"
    }
   ],
   "source": [
    "my_best_rnn = RNN(run_mode ='init-fine-tune',network_type = 'uni-directional',cell_type= 'lstm', embed_model= 'glove-wiki-gigaword-100',\n",
    "                  embed_size= 128, state_sizes = [64, 64], data_manager = dm)\n",
    "my_best_rnn.build()\n",
    "opt = tf.keras.optimizers.RMSprop(learning_rate=0.001)\n",
    "my_best_rnn.compile_model(optimizer=opt, loss='sparse_categorical_crossentropy', metrics=['accuracy'])\n",
    "my_best_rnn.fit(dm.tf_train_set.batch(64), epochs=20, validation_data = dm.tf_valid_set.batch(64))"
   ]
  },
  {
   "cell_type": "markdown",
   "metadata": {},
   "source": [
    "### <span style=\"color:#0b486b\">5.4. RNNs with Attention for Text and Sequence Classification</span> ###\n",
    "\n",
    "**In what follows, you are required to implement a RNN with the attention machenism for text and sequence classification. This attention mechanism is applied at the last hidden layer of our RNN. Specifically, let $h_1, h_2,...,h_{L-1}, h_L$ be the hidden states at the last hidden layer where $L$ is the sequence length. We compute the context vector $c$ as $c=\\sum_{i=1}^{L}a_{i}h_{i}$ where $a_1,...,a_L$ are the allignment weights (i.e., $a_i\\geq 0$ and $\\sum_{i=1}^{L}a_{i}=1$).**\n",
    "\n",
    "**The allignment weights are computed as follows:**\n",
    "- $a=[a_{i}]_{i=1}^{L}=softmax([s_{i}]_{i=1}^{L})$ where $s= [s_{i}]_{i=1}^{L}$ consists of the allignment scores.\n",
    "- The assigment scores $s= [s_{i}]_{i=1}^{L}$ are computed as $s=tanh(hU)V$ where $h=\\left[\\begin{array}{c}\n",
    "h_{1}\\\\\n",
    "h_{2}\\\\\n",
    "...\\\\\n",
    "h_{L-1}\\\\\n",
    "h_{L}\n",
    "\\end{array}\\right]\\in\\mathbb{R}^{L\\times state\\_size_{3}}$, $U\\in\\mathbb{R}^{state\\_size_{3}\\times output\\_length}$, $V\\in\\mathbb{R}^{output\\_length\\times1}$, and $output\\_length$ is a hyper-parameter. Note that if we consider a mini-batch, the shape of $h$ is $batch\\_size \\times L \\times state\\_size_3$ where $state\\_size_3$ is the hidden size of the last hidden layer.\n",
    "\n",
    "After having the context vector $c$, we concatenate with the last hidden state $h_L$. On top of this concatenation, we conduct the output layer with the softmax activation.\n",
    "\n",
    "<img src=\"./images/attention.png\" align=\"center\" width=1200/>\n",
    "\n",
    "<div style=\"text-align: right\"><span style=\"color:red; font-weight:bold\">[Total marks for this part: 14 points]<span></div>"
   ]
  },
  {
   "cell_type": "markdown",
   "metadata": {},
   "source": [
    "#### <span style=\"color:red\">**Question 5.4.1**</span>\n",
    "\n",
    "**We declare the  layer `MyAttention` as a class inherited from `tf.keras.layers.Layer` to realize our attention mechanism. You are required to provide the code for this class. Note that in the `def call(self, all_states, last_state)` method, `all_states` is the collection of all hidden states and `last_state` is the last hidden state.**\n",
    "\n",
    "<div style=\"text-align: right\"><span style=\"color:red\">[5 points]</span></div>"
   ]
  },
  {
   "cell_type": "code",
   "execution_count": null,
   "metadata": {},
   "outputs": [],
   "source": [
    "class MyAttention(tf.keras.layers.Layer):\n",
    "    def __init__(self, output_length= 50):\n",
    "        super(MyAttention, self).__init__()\n",
    "        self.w = tf.keras.layers.Dense(output_length)\n",
    "        self.v = tf.keras.layers.Dense(1)\n",
    "    \n",
    "    #all_states is the collection of all hidden states and last_state is the last hidden state\n",
    "    def call(self, all_states, last_state):\n",
    "        attention_score = self.v(tf.nn.tanh(self.w(all_states)))\n",
    "        attention_weight = tf.nn.softmax(attention_score,axis=1)\n",
    "        hiidden_vect=tf.concat([context,last_state],axis=1)\n",
    "        return hidden_vect\n",
    "        "
   ]
  },
  {
   "cell_type": "markdown",
   "metadata": {},
   "source": [
    "#### <span style=\"color:red\">**Question 5.4.2**</span> \n",
    "\n",
    "**You are required to extend the class `RNN` in Section `5.3.1` to achieve the class `Attention_RNN` in which the attention mechanism mentioned above is applied at the last hidden layer.**\n",
    "\n",
    "<div style=\"text-align: right\"><span style=\"color:red\">[5 points]</span></div>"
   ]
  },
  {
   "cell_type": "code",
   "execution_count": 43,
   "metadata": {},
   "outputs": [
    {
     "ename": "IndentationError",
     "evalue": "expected an indented block (3251183052.py, line 22)",
     "output_type": "error",
     "traceback": [
      "\u001b[1;36m  Input \u001b[1;32mIn [43]\u001b[1;36m\u001b[0m\n\u001b[1;33m    @staticmethod\u001b[0m\n\u001b[1;37m    ^\u001b[0m\n\u001b[1;31mIndentationError\u001b[0m\u001b[1;31m:\u001b[0m expected an indented block\n"
     ]
    }
   ],
   "source": [
    "class Attention_RNN:\n",
    "    def __init__(self, run_mode = 'scratch', cell_type= 'gru', network_type = 'uni-directional', embed_model= 'glove-wiki-gigaword-100', \n",
    "                 embed_size= 128, state_sizes = [64, 64], data_manager = None):\n",
    "        self.run_mode = run_mode\n",
    "        self.data_manager = data_manager\n",
    "        self.cell_type = cell_type\n",
    "        self.network_type = network_type\n",
    "        self.state_sizes = state_sizes\n",
    "        self.embed_model = embed_model\n",
    "        self.embed_size = embed_size\n",
    "        if self.run_mode != 'scratch':\n",
    "            self.embed_size = int(self.embed_model.split(\"-\")[-1])\n",
    "        self.data_manager = data_manager\n",
    "        self.vocab_size = dm.vocab_size +1\n",
    "        self.word2idx = dm.word2idx\n",
    "        self.word2vect = None\n",
    "        self.embed_matrix = np.zeros(shape= [self.vocab_size, self.embed_size])\n",
    "    \n",
    "    def build_embedding_matrix(self):\n",
    "        #Insert your code here\n",
    "    \n",
    "    @staticmethod\n",
    "    def get_layer(cell_type= 'gru', network_type= 'uni-directional', hidden_size= 128, return_sequences= False, activation = 'tanh'):\n",
    "        #Insert your code here\n",
    "    \n",
    "    def build(self):\n",
    "        #Insert your code here\n",
    "        \n",
    "    def compile_model(self, *args, **kwargs):\n",
    "        self.model.compile(*args, **kwargs)\n",
    "    \n",
    "    def fit(self, *args, **kwargs):\n",
    "        return self.model.fit(*args, **kwargs)\n",
    "    \n",
    "    def evaluate(self, *args, **kwargs):\n",
    "        self.model.evaluate(*args, **kwargs)       \n"
   ]
  },
  {
   "cell_type": "markdown",
   "metadata": {},
   "source": [
    "#### <span style=\"color:red\">**Question 5.4.3**</span> \n",
    "\n",
    "**Choose a common setting for standard RNN and RNN with attention and conduct experiments to compare them. A setting here means `cell_type`, `network_type`, and list of `state sizes`**.\n",
    "\n",
    "<div style=\"text-align: right\"><span style=\"color:red\">[4 points]</span></div>"
   ]
  },
  {
   "cell_type": "markdown",
   "metadata": {},
   "source": [
    "### <span style=\"color:#0b486b\">5.5. Investigating the embedding vectors from the embedding matrix</span> ###\n",
    "\n",
    "<div style=\"text-align: right\"><span style=\"color:red; font-weight:bold\">[Total marks for this part: 10 points]<span></div>"
   ]
  },
  {
   "cell_type": "markdown",
   "metadata": {},
   "source": [
    "**As you know, the embedding matrix is a collection of embedding vectors, each is for one word. In this part, you will base on the cosine similarity of the embedding vectors for the words to find the top-k most relevant words for a given word.**\n",
    "\n",
    "**Good embeddings should have words close in meaning near each other by some similarity metrics. The similarity metric we'll use is the `consine` similarity, which is defined for two vector $\\mathbf{u}$ and $\\mathbf{v}$ as $\\cos(\\mathbf{u}, \\mathbf{v})=\\frac{\\mathbf{u} \\cdot \\mathbf{v}}{\\left\\Vert{\\mathbf{u}}\\right\\Vert\\left\\Vert{\\mathbf{v}}\\right\\Vert}$ where $\\cdot$ means dot product and $\\left\\Vert\\cdot\\right\\Vert$ means the $\\mathcal{L}_2$ norm.**"
   ]
  },
  {
   "cell_type": "code",
   "execution_count": null,
   "metadata": {},
   "outputs": [],
   "source": [
    "def cosine_similarity(u,v):\n",
    "    return np.dot(u,v)/(np.linalg.norm(u)*np.linalg.norm(v))"
   ]
  },
  {
   "cell_type": "markdown",
   "metadata": {},
   "source": [
    "#### <span style=\"color:red\">**Question 5.5.1**</span> \n",
    "\n",
    "**You are required to write the code for the function `find_most_similar(word= None, k=5, model= None)`. As its name, this function returns the `top-k most relevant word` for a given word based on the cosine similarity of the embedding vectors.**\n",
    "\n",
    "<div style=\"text-align: right\"><span style=\"color:red\">[5 points]</span></div>"
   ]
  },
  {
   "cell_type": "code",
   "execution_count": null,
   "metadata": {},
   "outputs": [],
   "source": [
    "def find_most_similar(word= None, k=5, model= None):\n",
    "    try:\n",
    "        table = model.word2vect.similar_by_word(word,k)\n",
    "    except: \n",
    "        print(\"Word is not in the dictionary!\")\n",
    "    return table"
   ]
  },
  {
   "cell_type": "markdown",
   "metadata": {},
   "source": [
    "Here is the example of the above function. As you can observe, the result makes sense which demonstrates that we obtain a good model with the meaningful embedding matrix."
   ]
  },
  {
   "cell_type": "code",
   "execution_count": null,
   "metadata": {},
   "outputs": [],
   "source": [
    "find_most_similar(word='poland', k=10, model= my_best_rnn)"
   ]
  },
  {
   "cell_type": "markdown",
   "metadata": {},
   "source": [
    "#### <span style=\"color:red\">**Question 5.5.2**</span> \n",
    "​\n",
    "**You are required to write the code for the function `plot3D_with_labels(word= None, model= None, k= 10)`. As its name, this function visualizes the `top-k most relevant word` for a given word based on the cosine similarity of the embedding vectors by using tSNE to project the embedding vectors to a 3D space.**\n",
    "​\n",
    "\n",
    "<img src=\"./images/3D_plots.png\" align=\"center\" width=600/>\n",
    "<div style=\"text-align: right\"><span style=\"color:red\">[5 points]</span></div>"
   ]
  },
  {
   "cell_type": "code",
   "execution_count": null,
   "metadata": {},
   "outputs": [],
   "source": [
    "from mpl_toolkits.mplot3d import Axes3D\n",
    "from sklearn.manifold import TSNE\n",
    "tsne = TSNE(perplexity=30, n_components=3, init='pca', n_iter=5000)\n",
    "def plot3D_with_labels(word= None, model= None, k= 10):\n",
    "   #Insert yout codeh here"
   ]
  },
  {
   "cell_type": "code",
   "execution_count": null,
   "metadata": {},
   "outputs": [],
   "source": [
    "plot3D_with_labels(word='poland', k=20, model= rnn)"
   ]
  },
  {
   "cell_type": "markdown",
   "metadata": {},
   "source": [
    "--- \n",
    "<div style=\"text-align: center\"> <span style=\"color:green\">GOOD LUCK WITH YOUR ASSIGNMENT 2!</span> </div>\n",
    "<div style=\"text-align: center\"> <span style=\"color:black\">END OF ASSIGNMENT</span> </div>"
   ]
  }
 ],
 "metadata": {
  "kernelspec": {
   "display_name": "Python 3 (ipykernel)",
   "language": "python",
   "name": "python3"
  },
  "language_info": {
   "codemirror_mode": {
    "name": "ipython",
    "version": 3
   },
   "file_extension": ".py",
   "mimetype": "text/x-python",
   "name": "python",
   "nbconvert_exporter": "python",
   "pygments_lexer": "ipython3",
   "version": "3.9.12"
  }
 },
 "nbformat": 4,
 "nbformat_minor": 4
}
