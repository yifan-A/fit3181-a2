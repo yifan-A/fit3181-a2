{
 "cells": [
  {
   "cell_type": "markdown",
   "metadata": {},
   "source": [
    "# <span style=\"color:#0b486b\">  FIT5215: Deep Learning (T3, 2020)</span>\n",
    "***\n",
    "*Chief Examiner:* Prof **Dinh Phung** | dinh.phung@monash.edu <br/>\n",
    "*Lecturer:* Dr **Trung Le** | trunglm@monash.edu <br/>\n",
    "*Tutor:* Mr **Anh Bui** | tuananh.bui@monash.edu <br/>\n",
    "\n",
    "<br/>\n",
    "Department of Data Science and AI, Faculty of Information Technology, Monash University, Australia <br/>\n",
    "\n",
    "***"
   ]
  },
  {
   "cell_type": "markdown",
   "metadata": {},
   "source": [
    "## <span style=\"color:#0b486b\">Assignment 02: Neural Embedding and Sequence Modelling</span>\n",
    "### Due: <span style=\"color:red\">11:59pm 30 August 2020</span>  (Sunday)\n",
    "\n",
    "#### <span style=\"color:red\">Important note:</span> This is an **individual** assignment. It contributes **20%** to you final mark. Read the assignment instruction carefully."
   ]
  },
  {
   "cell_type": "markdown",
   "metadata": {},
   "source": [
    "## <span style=\"color:#0b486b\">Instructions</span>\n",
    "\n",
    "This notebook has been prepared for your to complete Assignment 2. The theme of this assignment is about practical machine learning knowledge and skills in deep neural networks, word embedding and text analytics. Some sections have been partially completed to help you get\n",
    "started. **The total marks for this notebook is 110**."
   ]
  },
  {
   "cell_type": "markdown",
   "metadata": {},
   "source": [
    "* Before you start, read the entire notebook carefully once to understand what you need to do. <br><br>\n",
    "* For each cell marked with **#YOU ARE REQUIRED TO INSERT YOUR CODES IN THIS CELL**, there will be places where you **must** supply your own codes when instructed. <br>\n",
    "\n",
    "This assignment contains **four** parts:\n",
    "\n",
    "* Part 1: Questions on downloading and preprocessing data **[10 points]**\n",
    "* Part 2: Questions on using Word2Vect to transform texts to vectors **[20 points]**\n",
    "* Part 3: Coding assessment on Text CNN for sequence modeling and neural embedding **[15 points]**\n",
    "* Part 4: Coding assessment on RNNs for sequence modeling and neural embedding **[65 points]**\n",
    "\n",
    "\n",
    "**Hint**: This assignment was essentially designed based on the lectures and tutorials sessions covered from Week 5 to 6. You are strongly recommended to go through these contents thoroughly which might help you to complete this assignment."
   ]
  },
  {
   "cell_type": "markdown",
   "metadata": {},
   "source": [
    "## <span style=\"color:#0b486b\">What to submit</span>\n",
    "\n",
    "This assignment is to be completed individually and submitted to Moodle unit site. **By the due date, you are required to submit one  <span style=\"color:red; font-weight:bold\">single zip file, named xxx_assignment02_solution.zip</span> where `xxx` is your student ID, to the corresponding Assignment (Dropbox) in Moodle**. "
   ]
  },
  {
   "cell_type": "markdown",
   "metadata": {},
   "source": [
    "***For example, if your student ID is <span style=\"color:red; font-weight:bold\">12356</span>, then gather all of your assignment solution to folder, create a zip file named <span style=\"color:red; font-weight:bold\">123456_assignment02_solution.zip</span> and submit this file.***"
   ]
  },
  {
   "cell_type": "markdown",
   "metadata": {},
   "source": [
    "Within this zip folder, you **must** submit the following files:\n",
    "1.\t**Assignment02_solution.ipynp**:  this is your Python notebook solution source file.\n",
    "1.\t**Assignment02_output.html**: this is the output of your Python notebook solution *exported* in html format.\n",
    "1.\tAny **extra files or folder** needed to complete your assignment (e.g., images used in your answers)."
   ]
  },
  {
   "cell_type": "markdown",
   "metadata": {},
   "source": [
    "## <span style=\"color:#0b486b\">Part 1: Download and preprocess the data</span>\n",
    "\n",
    "<div style=\"text-align: right\"><span style=\"color:red; font-weight:bold\">[Total marks for this part: 10 points]<span></div>"
   ]
  },
  {
   "cell_type": "markdown",
   "metadata": {},
   "source": [
    "The dataset we use for this assignment is a small [Question Classification](http://cogcomp.org/Data/QA/QC/) dataset which was used in the research paper on the topic of ***Question Classification*** (QC) published by Roth and Xin in 2002 (which has received close to 1000 citations till today). Note that a pdf copy of this paper has been downloaded into this assignment folder (**`Roth_Xin_coling02.pdf`**).\n",
    "\n",
    "The train set consists of $1,000$ questions belonging to 6 coarse question categories, including:\n",
    "- abbreviation (ABBR), \n",
    "- entity (ENTY), \n",
    "- description (DESC), \n",
    "- human (HUM), \n",
    "- location (LOC) and \n",
    "- numeric (NUM).\n"
   ]
  },
  {
   "cell_type": "markdown",
   "metadata": {},
   "source": [
    "Preprocessing data is an inital and important step in any machine learning or deep learning projects. The following *DataManager* class helps you to download data and preprocess data for the later steps of a deep learning project. "
   ]
  },
  {
   "cell_type": "code",
   "execution_count": 1,
   "metadata": {},
   "outputs": [],
   "source": [
    "import os\n",
    "import zipfile\n",
    "import collections\n",
    "import numpy as np\n",
    "import tensorflow as tf\n",
    "from six.moves import range\n",
    "from six.moves.urllib.request import urlretrieve\n",
    "from sklearn import preprocessing\n",
    "from sklearn.model_selection import train_test_split\n",
    "import matplotlib.pyplot as plt\n",
    "plt.style.use('ggplot')\n",
    "\n",
    "class DataManager:\n",
    "    def __init__(self, verbose=True, maxlen= 50, random_state=6789):\n",
    "        self.verbose = verbose\n",
    "        self.max_sentence_len = 0\n",
    "        self.str_questions = list()\n",
    "        self.str_labels = list()\n",
    "        self.numeral_labels = list()\n",
    "        self.maxlen = maxlen\n",
    "        self.numeral_data = list()\n",
    "        self.random_state = random_state\n",
    "        self.random = np.random.RandomState(random_state)\n",
    "        \n",
    "    @staticmethod\n",
    "    def maybe_download(dir_name, file_name, url, verbose= True):\n",
    "        if not os.path.exists(dir_name):\n",
    "            os.mkdir(dir_name)\n",
    "        if not os.path.exists(os.path.join(dir_name, file_name)):\n",
    "            urlretrieve(url + file_name, os.path.join(dir_name, file_name))\n",
    "        if verbose:\n",
    "            print(\"Downloaded successfully {}\".format(file_name))\n",
    "    \n",
    "    def read_data(self, dir_name, file_names):\n",
    "        for file_name in file_names:\n",
    "            file_path= os.path.join(dir_name, file_name)\n",
    "            self.str_questions= list(); self.str_labels= list()\n",
    "            with open(file_path, \"r\", encoding=\"latin-1\") as f:\n",
    "                for row in f:\n",
    "                    row_str= row.split(\":\")\n",
    "                    label, question= row_str[0], row_str[1]\n",
    "                    question= question.lower()\n",
    "                    self.str_labels.append(label)\n",
    "                    self.str_questions.append(question[0:-1])\n",
    "                    if self.max_sentence_len < len(self.str_questions[-1]):\n",
    "                        self.max_sentence_len= len(self.str_questions[-1])\n",
    "         \n",
    "        # turns labels into numbers\n",
    "        le= preprocessing.LabelEncoder()\n",
    "        le.fit(self.str_labels)\n",
    "        self.numeral_labels = np.array(le.transform(self.str_labels))\n",
    "        self.str_classes= le.classes_\n",
    "        self.num_classes= len(self.str_classes)\n",
    "        if self.verbose:\n",
    "            print(\"\\nSample questions... \\n\")\n",
    "            print(self.str_questions[0:5])\n",
    "            print(\"Labels {}\\n\\n\".format(self.str_classes))\n",
    "    \n",
    "    def manipulate_data(self):\n",
    "        tokenizer = tf.keras.preprocessing.text.Tokenizer()\n",
    "        tokenizer.fit_on_texts(self.str_questions)\n",
    "        self.numeral_data = tokenizer.texts_to_sequences(self.str_questions)\n",
    "        self.numeral_data = tf.keras.preprocessing.sequence.pad_sequences(self.numeral_data, padding='post', truncating= 'post', maxlen= self.maxlen)\n",
    "        self.word2idx = tokenizer.word_index\n",
    "        self.word2idx = {k:v for k,v in self.word2idx.items()}\n",
    "        self.idx2word = {v:k for k,v in self.word2idx.items()}\n",
    "        self.vocab_size = len(self.word2idx)\n",
    "    \n",
    "    def train_valid_split(self, train_ratio=0.9):\n",
    "        idxs = np.random.permutation(np.arange(len(self.str_questions)))\n",
    "        train_size = int(train_ratio*len(idxs)) +1\n",
    "        self.train_str_questions, self.valid_str_questions = self.str_questions[0:train_size], self.str_questions[train_size:]\n",
    "        self.train_numeral_data, self.valid_numeral_data = self.numeral_data[0:train_size], self.numeral_data[train_size:]\n",
    "        self.train_numeral_labels, self.valid_numeral_labels = self.numeral_labels[0:train_size], self.numeral_labels[train_size:]\n",
    "        self.tf_train_set = tf.data.Dataset.from_tensor_slices((self.train_numeral_data, self.train_numeral_labels))\n",
    "        self.tf_valid_set = tf.data.Dataset.from_tensor_slices((self.valid_numeral_data, self.valid_numeral_labels))"
   ]
  },
  {
   "cell_type": "code",
   "execution_count": 2,
   "metadata": {},
   "outputs": [
    {
     "name": "stdout",
     "output_type": "stream",
     "text": [
      "Loading data...\n",
      "Downloaded successfully train_1000.label\n",
      "Downloaded successfully TREC_10.label\n",
      "\n",
      "Sample questions... \n",
      "\n",
      "['dist how far is it from denver to aspen ?', 'city what county is modesto , california in ?', 'desc who was galileo ?', 'def what is an atom ?', 'date when did hawaii become a state ?']\n",
      "Labels ['ABBR' 'DESC' 'ENTY' 'HUM' 'LOC' 'NUM']\n",
      "\n",
      "\n"
     ]
    }
   ],
   "source": [
    "print('Loading data...')\n",
    "DataManager.maybe_download(\"Data\", \"train_1000.label\", \"http://cogcomp.org/Data/QA/QC/\")\n",
    "DataManager.maybe_download(\"Data\", \"TREC_10.label\", \"http://cogcomp.org/Data/QA/QC/\")\n",
    "\n",
    "dm = DataManager(maxlen=100)\n",
    "dm.read_data(\"Data/\", [\"train_1000.label\", \"TREC_10.label\"])   # read data"
   ]
  },
  {
   "cell_type": "code",
   "execution_count": 3,
   "metadata": {},
   "outputs": [],
   "source": [
    "dm.manipulate_data()\n",
    "dm.train_valid_split(train_ratio=0.8)"
   ]
  },
  {
   "cell_type": "markdown",
   "metadata": {},
   "source": [
    "You now have a data manager, named *dm* containing the training and validiation sets in both text and numeric forms. Your task is to play around and read this code to figure out the meanings of some important attributes that will be used in the next parts."
   ]
  },
  {
   "cell_type": "markdown",
   "metadata": {},
   "source": [
    "#### <span style=\"color:red\">**Question 1.1**</span> \n",
    "**What is the purpose of `self.train_str_questions` and `self.train_numeral_labels`? Write your code to print out the first five questions with labels in the training set.**\n",
    "\n",
    "<div style=\"text-align: right\"><span style=\"color:red\">[2 points]</span></div> "
   ]
  },
  {
   "cell_type": "markdown",
   "metadata": {},
   "source": [
    "**#Your answer here**  \n",
    " purpose of self.train_str_questions is to store questions of training set in str form.    \n",
    " and self.train_numeral_labels store labels of training set in numeric form.\n"
   ]
  },
  {
   "cell_type": "code",
   "execution_count": 7,
   "metadata": {},
   "outputs": [
    {
     "name": "stdout",
     "output_type": "stream",
     "text": [
      "dist how far is it from denver to aspen ? 5\n",
      "\n",
      "\n",
      "city what county is modesto , california in ? 4\n",
      "\n",
      "\n",
      "desc who was galileo ? 3\n",
      "\n",
      "\n",
      "def what is an atom ? 1\n",
      "\n",
      "\n",
      "date when did hawaii become a state ? 5\n",
      "\n",
      "\n"
     ]
    }
   ],
   "source": [
    "#Your code here\n",
    "for i in range(5):\n",
    "    \n",
    "    print(dm.train_str_questions[i], dm.train_numeral_labels[i])\n",
    "    print(\"\\n\")"
   ]
  },
  {
   "cell_type": "markdown",
   "metadata": {},
   "source": [
    "#### <span style=\"color:red\">**Question 1.2**</span> \n",
    "**What is the purpose of `self.train_numeral_data`? Write your code to print out the first five questions in the numeric format with labels in the training set.**\n",
    "\n",
    "<div style=\"text-align: right\"><span style=\"color:red\">[2 points]</span></div> "
   ]
  },
  {
   "cell_type": "markdown",
   "metadata": {},
   "source": [
    "**#Your answer here**  \n",
    "\n",
    "purpose of self.train_numeral_data is to store tokenized questions of training set in numeric form.\n"
   ]
  },
  {
   "cell_type": "code",
   "execution_count": 8,
   "metadata": {},
   "outputs": [
    {
     "name": "stdout",
     "output_type": "stream",
     "text": [
      "[ 27  14  73   3 115  39 305  20 306   0   0   0   0   0   0   0   0   0\n",
      "   0   0   0   0   0   0   0   0   0   0   0   0   0   0   0   0   0   0\n",
      "   0   0   0   0   0   0   0   0   0   0   0   0   0   0   0   0   0   0\n",
      "   0   0   0   0   0   0   0   0   0   0   0   0   0   0   0   0   0   0\n",
      "   0   0   0   0   0   0   0   0   0   0   0   0   0   0   0   0   0   0\n",
      "   0   0   0   0   0   0   0   0   0   0] 5\n",
      "\n",
      "\n",
      "[ 18   1 153   3 307 308   6   0   0   0   0   0   0   0   0   0   0   0\n",
      "   0   0   0   0   0   0   0   0   0   0   0   0   0   0   0   0   0   0\n",
      "   0   0   0   0   0   0   0   0   0   0   0   0   0   0   0   0   0   0\n",
      "   0   0   0   0   0   0   0   0   0   0   0   0   0   0   0   0   0   0\n",
      "   0   0   0   0   0   0   0   0   0   0   0   0   0   0   0   0   0   0\n",
      "   0   0   0   0   0   0   0   0   0   0] 4\n",
      "\n",
      "\n",
      "[ 42  12   8 309   0   0   0   0   0   0   0   0   0   0   0   0   0   0\n",
      "   0   0   0   0   0   0   0   0   0   0   0   0   0   0   0   0   0   0\n",
      "   0   0   0   0   0   0   0   0   0   0   0   0   0   0   0   0   0   0\n",
      "   0   0   0   0   0   0   0   0   0   0   0   0   0   0   0   0   0   0\n",
      "   0   0   0   0   0   0   0   0   0   0   0   0   0   0   0   0   0   0\n",
      "   0   0   0   0   0   0   0   0   0   0] 3\n",
      "\n",
      "\n",
      "[  4   1   3  40 310   0   0   0   0   0   0   0   0   0   0   0   0   0\n",
      "   0   0   0   0   0   0   0   0   0   0   0   0   0   0   0   0   0   0\n",
      "   0   0   0   0   0   0   0   0   0   0   0   0   0   0   0   0   0   0\n",
      "   0   0   0   0   0   0   0   0   0   0   0   0   0   0   0   0   0   0\n",
      "   0   0   0   0   0   0   0   0   0   0   0   0   0   0   0   0   0   0\n",
      "   0   0   0   0   0   0   0   0   0   0] 1\n",
      "\n",
      "\n",
      "[ 11  17  16 154  90  10  21   0   0   0   0   0   0   0   0   0   0   0\n",
      "   0   0   0   0   0   0   0   0   0   0   0   0   0   0   0   0   0   0\n",
      "   0   0   0   0   0   0   0   0   0   0   0   0   0   0   0   0   0   0\n",
      "   0   0   0   0   0   0   0   0   0   0   0   0   0   0   0   0   0   0\n",
      "   0   0   0   0   0   0   0   0   0   0   0   0   0   0   0   0   0   0\n",
      "   0   0   0   0   0   0   0   0   0   0] 5\n",
      "\n",
      "\n"
     ]
    }
   ],
   "source": [
    "#Your code here\n",
    "for i in range(5):\n",
    "    \n",
    "    print(dm.train_numeral_data[i], dm.train_numeral_labels[i])\n",
    "    print(\"\\n\")"
   ]
  },
  {
   "cell_type": "markdown",
   "metadata": {},
   "source": [
    "#### <span style=\"color:red\">**Question 1.3**</span> \n",
    "**What is the purpose of two dictionaries: `self.word2idx` and `self.idx2word`? Write your code to print out the first five key-value pairs of those dictionaries.**\n",
    "\n",
    "<div style=\"text-align: right\"><span style=\"color:red\">[2 points]</span></div> "
   ]
  },
  {
   "cell_type": "markdown",
   "metadata": {},
   "source": [
    "**#Your answer here** \n",
    "\n",
    "self.word2idx and self.idx2word are to form the mutual mapping of word and index.\n",
    "\n"
   ]
  },
  {
   "cell_type": "code",
   "execution_count": 25,
   "metadata": {},
   "outputs": [
    {
     "name": "stdout",
     "output_type": "stream",
     "text": [
      "word2idx:\n",
      "what 1\n",
      "the 2\n",
      "is 3\n",
      "def 4\n",
      "of 5\n",
      "\n",
      "\n",
      "idx2word:\n",
      "1 what\n",
      "2 the\n",
      "3 is\n",
      "4 def\n",
      "5 of\n"
     ]
    }
   ],
   "source": [
    "#Your code here\n",
    "print(\"word2idx:\")\n",
    "count = 0\n",
    "for k,v in dm.word2idx.items():\n",
    "    print(k,v)\n",
    "    count+=1\n",
    "    if count ==5:\n",
    "        break\n",
    "print(\"\\n\")\n",
    "print(\"idx2word:\")\n",
    "count = 0\n",
    "for k,v in dm.idx2word.items():\n",
    "    print(k,v)\n",
    "    count+=1\n",
    "    if count ==5:\n",
    "        break"
   ]
  },
  {
   "cell_type": "markdown",
   "metadata": {},
   "source": [
    "#### <span style=\"color:red\">**Question 1.4**</span> \n",
    "**What is the purpose of `self.tf_train_set`? Write your code to print out the first five items of `self.tf_train_set`.**\n",
    "\n",
    "<div style=\"text-align: right\"><span style=\"color:red\">[2 points]</span></div> "
   ]
  },
  {
   "cell_type": "markdown",
   "metadata": {},
   "source": [
    "**#Your answer here**\n",
    "\n",
    "self.tf_train_set is to convert the train_numeral_data and train_numeral_labels to a training Dataset.\n"
   ]
  },
  {
   "cell_type": "code",
   "execution_count": 34,
   "metadata": {},
   "outputs": [
    {
     "name": "stdout",
     "output_type": "stream",
     "text": [
      "(<tf.Tensor: shape=(100,), dtype=int32, numpy=\n",
      "array([ 27,  14,  73,   3, 115,  39, 305,  20, 306,   0,   0,   0,   0,\n",
      "         0,   0,   0,   0,   0,   0,   0,   0,   0,   0,   0,   0,   0,\n",
      "         0,   0,   0,   0,   0,   0,   0,   0,   0,   0,   0,   0,   0,\n",
      "         0,   0,   0,   0,   0,   0,   0,   0,   0,   0,   0,   0,   0,\n",
      "         0,   0,   0,   0,   0,   0,   0,   0,   0,   0,   0,   0,   0,\n",
      "         0,   0,   0,   0,   0,   0,   0,   0,   0,   0,   0,   0,   0,\n",
      "         0,   0,   0,   0,   0,   0,   0,   0,   0,   0,   0,   0,   0,\n",
      "         0,   0,   0,   0,   0,   0,   0,   0,   0])>, <tf.Tensor: shape=(), dtype=int64, numpy=5>)\n",
      "(<tf.Tensor: shape=(100,), dtype=int32, numpy=\n",
      "array([ 18,   1, 153,   3, 307, 308,   6,   0,   0,   0,   0,   0,   0,\n",
      "         0,   0,   0,   0,   0,   0,   0,   0,   0,   0,   0,   0,   0,\n",
      "         0,   0,   0,   0,   0,   0,   0,   0,   0,   0,   0,   0,   0,\n",
      "         0,   0,   0,   0,   0,   0,   0,   0,   0,   0,   0,   0,   0,\n",
      "         0,   0,   0,   0,   0,   0,   0,   0,   0,   0,   0,   0,   0,\n",
      "         0,   0,   0,   0,   0,   0,   0,   0,   0,   0,   0,   0,   0,\n",
      "         0,   0,   0,   0,   0,   0,   0,   0,   0,   0,   0,   0,   0,\n",
      "         0,   0,   0,   0,   0,   0,   0,   0,   0])>, <tf.Tensor: shape=(), dtype=int64, numpy=4>)\n",
      "(<tf.Tensor: shape=(100,), dtype=int32, numpy=\n",
      "array([ 42,  12,   8, 309,   0,   0,   0,   0,   0,   0,   0,   0,   0,\n",
      "         0,   0,   0,   0,   0,   0,   0,   0,   0,   0,   0,   0,   0,\n",
      "         0,   0,   0,   0,   0,   0,   0,   0,   0,   0,   0,   0,   0,\n",
      "         0,   0,   0,   0,   0,   0,   0,   0,   0,   0,   0,   0,   0,\n",
      "         0,   0,   0,   0,   0,   0,   0,   0,   0,   0,   0,   0,   0,\n",
      "         0,   0,   0,   0,   0,   0,   0,   0,   0,   0,   0,   0,   0,\n",
      "         0,   0,   0,   0,   0,   0,   0,   0,   0,   0,   0,   0,   0,\n",
      "         0,   0,   0,   0,   0,   0,   0,   0,   0])>, <tf.Tensor: shape=(), dtype=int64, numpy=3>)\n",
      "(<tf.Tensor: shape=(100,), dtype=int32, numpy=\n",
      "array([  4,   1,   3,  40, 310,   0,   0,   0,   0,   0,   0,   0,   0,\n",
      "         0,   0,   0,   0,   0,   0,   0,   0,   0,   0,   0,   0,   0,\n",
      "         0,   0,   0,   0,   0,   0,   0,   0,   0,   0,   0,   0,   0,\n",
      "         0,   0,   0,   0,   0,   0,   0,   0,   0,   0,   0,   0,   0,\n",
      "         0,   0,   0,   0,   0,   0,   0,   0,   0,   0,   0,   0,   0,\n",
      "         0,   0,   0,   0,   0,   0,   0,   0,   0,   0,   0,   0,   0,\n",
      "         0,   0,   0,   0,   0,   0,   0,   0,   0,   0,   0,   0,   0,\n",
      "         0,   0,   0,   0,   0,   0,   0,   0,   0])>, <tf.Tensor: shape=(), dtype=int64, numpy=1>)\n",
      "(<tf.Tensor: shape=(100,), dtype=int32, numpy=\n",
      "array([ 11,  17,  16, 154,  90,  10,  21,   0,   0,   0,   0,   0,   0,\n",
      "         0,   0,   0,   0,   0,   0,   0,   0,   0,   0,   0,   0,   0,\n",
      "         0,   0,   0,   0,   0,   0,   0,   0,   0,   0,   0,   0,   0,\n",
      "         0,   0,   0,   0,   0,   0,   0,   0,   0,   0,   0,   0,   0,\n",
      "         0,   0,   0,   0,   0,   0,   0,   0,   0,   0,   0,   0,   0,\n",
      "         0,   0,   0,   0,   0,   0,   0,   0,   0,   0,   0,   0,   0,\n",
      "         0,   0,   0,   0,   0,   0,   0,   0,   0,   0,   0,   0,   0,\n",
      "         0,   0,   0,   0,   0,   0,   0,   0,   0])>, <tf.Tensor: shape=(), dtype=int64, numpy=5>)\n"
     ]
    }
   ],
   "source": [
    "#Your code here\n",
    "count =0 \n",
    "for i in dm.tf_train_set:\n",
    "    print(i)\n",
    "    count+=1\n",
    "    if count==5:\n",
    "        break\n",
    "    "
   ]
  },
  {
   "cell_type": "markdown",
   "metadata": {},
   "source": [
    "#### <span style=\"color:red\">**Question 1.5**</span> \n",
    "**What is the purpose of `self.tf_valid_set`? Write your code to print out the first five items of `self.tf_valid_set`.**\n",
    "\n",
    "<div style=\"text-align: right\"><span style=\"color:red\">[2 points]</span></div> "
   ]
  },
  {
   "cell_type": "markdown",
   "metadata": {},
   "source": [
    "**#Your answer here**\n",
    "\n",
    "self.tf_valid_set is to convert the valid_numeral_data and valid_numeral_labels to a validation Dataset.\n"
   ]
  },
  {
   "cell_type": "code",
   "execution_count": 35,
   "metadata": {},
   "outputs": [
    {
     "name": "stdout",
     "output_type": "stream",
     "text": [
      "(<tf.Tensor: shape=(100,), dtype=int32, numpy=\n",
      "array([ 32,   1,   3,   2, 921, 922, 923, 924,   0,   0,   0,   0,   0,\n",
      "         0,   0,   0,   0,   0,   0,   0,   0,   0,   0,   0,   0,   0,\n",
      "         0,   0,   0,   0,   0,   0,   0,   0,   0,   0,   0,   0,   0,\n",
      "         0,   0,   0,   0,   0,   0,   0,   0,   0,   0,   0,   0,   0,\n",
      "         0,   0,   0,   0,   0,   0,   0,   0,   0,   0,   0,   0,   0,\n",
      "         0,   0,   0,   0,   0,   0,   0,   0,   0,   0,   0,   0,   0,\n",
      "         0,   0,   0,   0,   0,   0,   0,   0,   0,   0,   0,   0,   0,\n",
      "         0,   0,   0,   0,   0,   0,   0,   0,   0])>, <tf.Tensor: shape=(), dtype=int64, numpy=2>)\n",
      "(<tf.Tensor: shape=(100,), dtype=int32, numpy=\n",
      "array([ 11,  17,   3, 925,  15,  69,   0,   0,   0,   0,   0,   0,   0,\n",
      "         0,   0,   0,   0,   0,   0,   0,   0,   0,   0,   0,   0,   0,\n",
      "         0,   0,   0,   0,   0,   0,   0,   0,   0,   0,   0,   0,   0,\n",
      "         0,   0,   0,   0,   0,   0,   0,   0,   0,   0,   0,   0,   0,\n",
      "         0,   0,   0,   0,   0,   0,   0,   0,   0,   0,   0,   0,   0,\n",
      "         0,   0,   0,   0,   0,   0,   0,   0,   0,   0,   0,   0,   0,\n",
      "         0,   0,   0,   0,   0,   0,   0,   0,   0,   0,   0,   0,   0,\n",
      "         0,   0,   0,   0,   0,   0,   0,   0,   0])>, <tf.Tensor: shape=(), dtype=int64, numpy=5>)\n",
      "(<tf.Tensor: shape=(100,), dtype=int32, numpy=\n",
      "array([ 52,   1,  22,   2, 926, 301,  89,  24,   0,   0,   0,   0,   0,\n",
      "         0,   0,   0,   0,   0,   0,   0,   0,   0,   0,   0,   0,   0,\n",
      "         0,   0,   0,   0,   0,   0,   0,   0,   0,   0,   0,   0,   0,\n",
      "         0,   0,   0,   0,   0,   0,   0,   0,   0,   0,   0,   0,   0,\n",
      "         0,   0,   0,   0,   0,   0,   0,   0,   0,   0,   0,   0,   0,\n",
      "         0,   0,   0,   0,   0,   0,   0,   0,   0,   0,   0,   0,   0,\n",
      "         0,   0,   0,   0,   0,   0,   0,   0,   0,   0,   0,   0,   0,\n",
      "         0,   0,   0,   0,   0,   0,   0,   0,   0])>, <tf.Tensor: shape=(), dtype=int64, numpy=0>)\n",
      "(<tf.Tensor: shape=(100,), dtype=int32, numpy=\n",
      "array([ 27,  14, 128,   3,   2, 927,  47,   6, 251,   0,   0,   0,   0,\n",
      "         0,   0,   0,   0,   0,   0,   0,   0,   0,   0,   0,   0,   0,\n",
      "         0,   0,   0,   0,   0,   0,   0,   0,   0,   0,   0,   0,   0,\n",
      "         0,   0,   0,   0,   0,   0,   0,   0,   0,   0,   0,   0,   0,\n",
      "         0,   0,   0,   0,   0,   0,   0,   0,   0,   0,   0,   0,   0,\n",
      "         0,   0,   0,   0,   0,   0,   0,   0,   0,   0,   0,   0,   0,\n",
      "         0,   0,   0,   0,   0,   0,   0,   0,   0,   0,   0,   0,   0,\n",
      "         0,   0,   0,   0,   0,   0,   0,   0,   0])>, <tf.Tensor: shape=(), dtype=int64, numpy=5>)\n",
      "(<tf.Tensor: shape=(100,), dtype=int32, numpy=\n",
      "array([ 18,   1,  18,  15, 258,   3,  36,   2, 293,  37,   0,   0,   0,\n",
      "         0,   0,   0,   0,   0,   0,   0,   0,   0,   0,   0,   0,   0,\n",
      "         0,   0,   0,   0,   0,   0,   0,   0,   0,   0,   0,   0,   0,\n",
      "         0,   0,   0,   0,   0,   0,   0,   0,   0,   0,   0,   0,   0,\n",
      "         0,   0,   0,   0,   0,   0,   0,   0,   0,   0,   0,   0,   0,\n",
      "         0,   0,   0,   0,   0,   0,   0,   0,   0,   0,   0,   0,   0,\n",
      "         0,   0,   0,   0,   0,   0,   0,   0,   0,   0,   0,   0,   0,\n",
      "         0,   0,   0,   0,   0,   0,   0,   0,   0])>, <tf.Tensor: shape=(), dtype=int64, numpy=4>)\n"
     ]
    }
   ],
   "source": [
    "#Your code here\n",
    "count =0 \n",
    "for i in dm.tf_valid_set:\n",
    "    print(i)\n",
    "    count+=1\n",
    "    if count==5:\n",
    "        break"
   ]
  },
  {
   "cell_type": "markdown",
   "metadata": {},
   "source": [
    "## <span style=\"color:#0b486b\">Part 2: Using Word2Vect to transform texts to vectors </span>\n",
    "\n",
    "<div style=\"text-align: right\"><span style=\"color:red; font-weight:bold\">[Total marks for this part: 20 points]<span></div>"
   ]
  },
  {
   "cell_type": "markdown",
   "metadata": {},
   "source": [
    "In this part, you will be assessed on how to use a pretrained Word2Vect model for realizing a machine learning task. Basically, you will use this pretrained Word2Vect to transform the questions in the above dataset stored in the *data manager object dm* to numeric form for training a Support Vector Machine in sckit-learn.  "
   ]
  },
  {
   "cell_type": "code",
   "execution_count": 4,
   "metadata": {},
   "outputs": [],
   "source": [
    "import gensim.downloader as api\n",
    "from gensim.models import Word2Vec\n",
    "from sklearn.svm import SVC\n",
    "from sklearn.preprocessing import MinMaxScaler\n",
    "from sklearn.metrics import accuracy_score"
   ]
  },
  {
   "cell_type": "markdown",
   "metadata": {},
   "source": [
    "#### <span style=\"color:red\">**Question 2.1**</span> \n",
    "**Write code to download the pretrained model *glove-wiki-gigaword-100*. Note that this model transforms a word in its dictionary to a $100$ dimensional vector.**\n",
    "\n",
    "<div style=\"text-align: right\"><span style=\"color:red\">[2 points]</span></div> "
   ]
  },
  {
   "cell_type": "code",
   "execution_count": 5,
   "metadata": {},
   "outputs": [],
   "source": [
    "word2vect = api.load(\"glove-wiki-gigaword-100\")#Insert your code here"
   ]
  },
  {
   "cell_type": "markdown",
   "metadata": {},
   "source": [
    "#### <span style=\"color:red\">**Question 2.2**</span> \n",
    "\n",
    "**Write code for the function *get_word_vector(word, model)* used to transform a word to a vector using the pretrained Word2Vect model *model*. Note that for a word not in the vocabulary of our *word2vect*, you need to return a vector $0$ with 100 dimensions.**\n",
    "\n",
    "<div style=\"text-align: right\"><span style=\"color:red\">[3 points]</span></div> "
   ]
  },
  {
   "cell_type": "code",
   "execution_count": 6,
   "metadata": {},
   "outputs": [],
   "source": [
    "def get_word_vector(word, model):\n",
    "    try:\n",
    "        vector = model.get_vector(word)#Insert your code here\n",
    "    except: #word not in the vocabulary\n",
    "        vector = np.zeros([model.size])#Insert your code here\n",
    "    return vector"
   ]
  },
  {
   "cell_type": "markdown",
   "metadata": {},
   "source": [
    "#### <span style=\"color:red\">**Question 2.3**</span> \n",
    "\n",
    "**Write the code for the function *get_sentence_vector(sentence, important_score=None, model= None)*. Note that this function will transform a sentence to a 100-dimensional vector using the pretrained model *model*. In addition, the list *important_score* which has the same length as the *sentence* specifies the important scores of the words in the sentence. In your code, you first need to apply *softmax* function over *important_score* to obtain the important weight *important_weight* which forms a probability over the words of the sentence. Furthermore, the final vector of the sentence will be weighted sum of the individual vectors for words and the weights in *important_weight*.**\n",
    "- $final\\_vector= important\\_weight[1]\\times v[1] + important\\_weight[2]\\times v[2] + ...+ important\\_weight[L]\\times v[L]$ where $L$ is the length of the sentence and $v[i]$ is the vector of the word $i-th$ in this sentence.\n",
    "\n",
    "**Note that if *important_score=None* is set by default, your function should return the average of all representation vectors corresponding to set *important_score=[1,1,...,1]*.**\n",
    "\n",
    "<div style=\"text-align: right\"><span style=\"color:red\">[5 points]</span></div> "
   ]
  },
  {
   "cell_type": "code",
   "execution_count": 114,
   "metadata": {},
   "outputs": [],
   "source": [
    "def get_sentence_vector(sentence, important_score=None, model= None):\n",
    "    #Insert your code here\n",
    "    final_vector=np.zeros(100)\n",
    "    tokens = sentence.split()\n",
    "    vecs = [get_word_vector(word, model) for word in tokens if word in model]\n",
    "    if important_score.all==None:\n",
    "        final_vector = np.asarray(vecs).sum(axis = 0)/len(vecs)\n",
    "    else:\n",
    "        important_weight = np.exp(important_score)/np.sum(np.exp(important_score))\n",
    "        for i in range(len(vecs)):\n",
    "            final_vector = final_vector + important_weight[i]*vecs[i]\n",
    "    \n",
    "    return final_vector"
   ]
  },
  {
   "cell_type": "markdown",
   "metadata": {},
   "source": [
    "#### <span style=\"color:red\">**Question 2.4**</span> \n",
    "\n",
    "**Write code to transform the training questions in *dm.train_str_questions* to feature vectors. Note that after running the following cell, you must have $X\\_train$ which is an numpy array of the feature vectors and $y\\_train$ which is an array of numeric labels (*Hint: dm.train_numeral_labels*). You can add more lines to the following cell if necessary. In addition, you should decide the *important_score* by yourself. For example, you might reckon that the 1st score is 1, the 2nd score is decayed by 0.9, the 3rd is decayed by 0.9, and so on.**\n",
    "\n",
    "<div style=\"text-align: right\"><span style=\"color:red\">[2.5 points]</span></div> "
   ]
  },
  {
   "cell_type": "code",
   "execution_count": 115,
   "metadata": {},
   "outputs": [
    {
     "name": "stdout",
     "output_type": "stream",
     "text": [
      "Transform training set to feature vectors...\n"
     ]
    }
   ],
   "source": [
    "print(\"Transform training set to feature vectors...\")\n",
    "X_train= np.zeros([len(dm.train_str_questions),100])#Insert your code here\n",
    "y_train= np.zeros(len(dm.train_numeral_labels))#Insert your code here\n",
    "idx=0\n",
    "important_score=np.zeros(len(dm.train_str_questions))\n",
    "important_score[0]=1\n",
    "for i in range(len(dm.train_str_questions)-1):\n",
    "    important_score[i+1]=important_score[i]*(1-0.9)\n",
    "    \n",
    "for line in dm.train_str_questions:\n",
    "    vec = get_sentence_vector(line, important_score=important_score, model= word2vect)\n",
    "    if len(vec)>0:\n",
    "        X_train[idx]=vec\n",
    "        idx+=1\n",
    "\n",
    "id=0\n",
    "for label in dm.train_numeral_labels:\n",
    "    y_train[id]=label\n",
    "    id+=1        \n",
    "        "
   ]
  },
  {
   "cell_type": "code",
   "execution_count": null,
   "metadata": {},
   "outputs": [],
   "source": []
  },
  {
   "cell_type": "markdown",
   "metadata": {},
   "source": [
    "#### <span style=\"color:red\">**Question 2.5**</span> \n",
    "\n",
    "**Write code to transform the training questions in *dm.valid_str_questions* to feature vectors. Note that after running the following cell, you must have $X\\_valid$ which is an numpy array of the feature vectors and $y\\_valid$ which is an array of numeric labels (*Hint: dm.valid_numeral_labels*). You can add more lines to the following cell if necessary. In addition, you should decide the *important_score* by yourself. For example, you might reckon that the 1st score is 1, the 2nd score is decayed by 0.9, the 3rd is decayed by 0.9, and so on.**\n",
    "\n",
    "<div style=\"text-align: right\"><span style=\"color:red\">[2.5 points]</span></div> "
   ]
  },
  {
   "cell_type": "code",
   "execution_count": 116,
   "metadata": {},
   "outputs": [
    {
     "name": "stdout",
     "output_type": "stream",
     "text": [
      "Transform valid set to feature vectors...\n"
     ]
    }
   ],
   "source": [
    "print(\"Transform valid set to feature vectors...\")\n",
    "X_valid= np.zeros([len(dm.valid_str_questions),100])#Insert your code here\n",
    "y_valid=  np.zeros(len(dm.valid_numeral_labels))#Insert your code here\n",
    "idx=0\n",
    "for line in dm.valid_str_questions:\n",
    "    vec = get_sentence_vector(line, important_score=important_score, model= word2vect)\n",
    "    if len(vec)>0:\n",
    "        X_valid[idx]=vec\n",
    "        idx+=1\n",
    "\n",
    "id=0\n",
    "for label in dm.valid_numeral_labels:\n",
    "    y_valid[id]=label\n",
    "    id+=1        \n",
    "        "
   ]
  },
  {
   "cell_type": "markdown",
   "metadata": {},
   "source": [
    "#### <span style=\"color:red\">**Question 2.6**</span> \n",
    "\n",
    "**It is now to use *MinMaxScaler(feature_range=(-1,1))* in sckit-learn to scale both training and valid sets to the range $(-1,1)$.**\n",
    "\n",
    "<div style=\"text-align: right\"><span style=\"color:red\">[2 points]</span></div> "
   ]
  },
  {
   "cell_type": "code",
   "execution_count": 117,
   "metadata": {},
   "outputs": [],
   "source": [
    "scaler = MinMaxScaler(feature_range=(-1,1))\n",
    "scaler.fit(X_train)\n",
    "X_train = scaler.transform(X_train)#Insert your code here\n",
    "scaler.fit(X_valid)\n",
    "X_valid = scaler.transform(X_valid)#Insert your code here"
   ]
  },
  {
   "cell_type": "markdown",
   "metadata": {},
   "source": [
    "#### <span style=\"color:red\">**Question 2.7**</span> \n",
    "\n",
    "**Declare a support vector machine (the class *SVC*  in sckit-learn) with RBF kernel, $C=1$, $gamma= 2^{-3}$ and fit on the training set.**\n",
    "\n",
    "<div style=\"text-align: right\"><span style=\"color:red\">[3 points]</span></div> "
   ]
  },
  {
   "cell_type": "code",
   "execution_count": 118,
   "metadata": {},
   "outputs": [
    {
     "data": {
      "text/plain": [
       "SVC(gamma=0.125)"
      ]
     },
     "execution_count": 118,
     "metadata": {},
     "output_type": "execute_result"
    }
   ],
   "source": [
    "svm = SVC(C=1.0, kernel='rbf',gamma=1/pow(2,3))#Insert your code here SVC\n",
    "svm.fit(X_train,y_train)#Insert your code for fitting svm on X_train"
   ]
  },
  {
   "cell_type": "markdown",
   "metadata": {},
   "source": [
    "#### <span style=\"color:red\">**Question 2.8**</span> \n",
    "\n",
    "**Finally, we use the trained *svm* to evaluate on the valid set $X\\_valid$.**\n",
    "\n",
    "<div style=\"text-align: right\"><span style=\"color:red\">[2 points]</span></div> "
   ]
  },
  {
   "cell_type": "code",
   "execution_count": 119,
   "metadata": {},
   "outputs": [
    {
     "name": "stdout",
     "output_type": "stream",
     "text": [
      "0.9292929292929293\n"
     ]
    }
   ],
   "source": [
    "y_valid_pred= svm.predict(X_valid)#Insert your code\n",
    "acc = accuracy_score(y_valid,y_valid_pred)#Insert your code\n",
    "print(acc)"
   ]
  },
  {
   "cell_type": "markdown",
   "metadata": {},
   "source": [
    "## <span style=\"color:#0b486b\">Part 3: Text CNN for sequence modeling and neural embedding </span>\n",
    "\n",
    "<div style=\"text-align: right\"><span style=\"color:red; font-weight:bold\">[Total marks for this part: 15 points]<span></div>"
   ]
  },
  {
   "cell_type": "markdown",
   "metadata": {},
   "source": [
    "#### <span style=\"color:red\">**Question 3.1**</span> \n",
    "\n",
    "**In what follows, you are required to complete the code for Text CNN for sentence classification. The paper of Text CNN can be found at this [link](https://www.aclweb.org/anthology/D14-1181.pdf). Here is the description of the Text CNN you need to construct.**\n",
    "- There are three attributes (properties or instance variables): *embed_size, state_size, data_manager*.\n",
    "  - `embed_size`: the dimension of the vector space for which the words are embedded to using the embedding matrix.\n",
    "  - `state_size`: the number of filters used in *Conv1D* (reference [here](https://www.tensorflow.org/api_docs/python/tf/keras/layers/Conv1D)).\n",
    "  - `data_manager`: the data manager to store information of the dataset.\n",
    "- The detail of the computational process is as follows:\n",
    "  - Given input $x$, we embed $x$ using the embedding matrix to obtain an $3D$ tensor $[batch\\_size \\times vocab\\_size \\times embed\\_size]$ as $h$.\n",
    "  - We feed $h$ to three Convd 1D layers, each of which has $state\\_size$ filters, padding=same, activation= relu, and $kernel\\_size= 3, 5, 7$ respectively to obtain $h1, h2, h3$. Note that each $h1, h2, h3$ is a 3D tensor with the shape $[batch\\_size \\times output\\_size \\times state\\_size]$.\n",
    "  - We then apply *GlobalMaxPool1D()* (reference [here](https://www.tensorflow.org/api_docs/python/tf/keras/layers/GlobalMaxPool1D)) over $h1, h2, h3$ to obtain 2D tensors stored in $h1, h2, h3$ again.\n",
    "  - We then concatenate three 2D tensors $h1, h2, h3$ to obtain $h$. Note that you need to specify the axis to concatenate.\n",
    "  - We finally build up one dense layer on the top of $h$ for classification.\n",
    "  \n",
    "  <div style=\"text-align: right\"><span style=\"color:red\">[10 points]</span></div>\n",
    "  "
   ]
  },
  {
   "cell_type": "code",
   "execution_count": 149,
   "metadata": {},
   "outputs": [],
   "source": [
    "class TextCNN:\n",
    "    def __init__(self, embed_size= 128, state_size=16, data_manager=None):\n",
    "        self.data_manager = data_manager\n",
    "        self.embed_size = embed_size\n",
    "        self.state_size = state_size\n",
    "    \n",
    "    def build(self):\n",
    "        x = tf.keras.layers.Input(shape=[None])\n",
    "        h = tf.keras.layers.Embedding(self.data_manager.vocab_size +1, self.embed_size)(x)\n",
    "        h1 = tf.keras.layers.Conv1D(filters=self.state_size, padding='same', activation='relu', kernel_size=3)(h)#Insert your code here\n",
    "        h2 = tf.keras.layers.Conv1D(filters=self.state_size, padding='same', activation='relu', kernel_size=5)(h)#Insert your code here\n",
    "        h3 = tf.keras.layers.Conv1D(filters=self.state_size, padding='same', activation='relu', kernel_size=7)(h)#Insert your code here\n",
    "        h1 = tf.keras.layers.GlobalMaxPool1D(data_format='channels_last')(h1)#Insert your code here\n",
    "        h2 = tf.keras.layers.GlobalMaxPool1D(data_format='channels_last')(h2)#Insert your code here\n",
    "        h3 = tf.keras.layers.GlobalMaxPool1D(data_format='channels_last')(h3)#Insert your code here  data_format='channels_last'\n",
    "        h = tf.keras.layers.Concatenate(axis=1)([h1, h2, h3])#Insert your code here\n",
    "        h = tf.keras.layers.Dense(self.data_manager.num_classes, activation='softmax')(h)\n",
    "        self.model = tf.keras.Model(inputs=x, outputs=h) \n",
    "    \n",
    "    def compile_model(self, *args, **kwargs):\n",
    "        self.model.compile(*args, **kwargs)\n",
    "    \n",
    "    def fit(self, *args, **kwargs):\n",
    "        return self.model.fit(*args, **kwargs)\n",
    "    \n",
    "    def evaluate(self, *args, **kwargs):\n",
    "        self.model.evaluate(*args, **kwargs)\n"
   ]
  },
  {
   "cell_type": "code",
   "execution_count": null,
   "metadata": {},
   "outputs": [],
   "source": []
  },
  {
   "cell_type": "markdown",
   "metadata": {},
   "source": [
    "#### <span style=\"color:red\">**Question 3.2**</span> \n",
    "**Here is the code to test TextCNN above. You can observe that TextCNN outperforms the traditional approach SVM + Word2Vect for this task. The reason is that TextCNN enables us to automatically learn the feature that fits to the task. This makes deep learning different from hand-crafted feature approaches. Complete the code to test the model. Note that when compiling the model, you can use the Adam optimizer.**\n",
    "\n",
    "<div style=\"text-align: right\"><span style=\"color:red\">[5 points]</span></div>"
   ]
  },
  {
   "cell_type": "code",
   "execution_count": 151,
   "metadata": {},
   "outputs": [
    {
     "name": "stdout",
     "output_type": "stream",
     "text": [
      "Train for 7 steps, validate for 2 steps\n",
      "Epoch 1/20\n",
      "7/7 [==============================] - 7s 1s/step - loss: 1.7622 - accuracy: 0.3117 - val_loss: 1.7149 - val_accuracy: 0.4444\n",
      "Epoch 2/20\n",
      "7/7 [==============================] - 3s 362ms/step - loss: 1.6173 - accuracy: 0.5786 - val_loss: 1.6376 - val_accuracy: 0.4040\n",
      "Epoch 3/20\n",
      "7/7 [==============================] - 2s 348ms/step - loss: 1.4854 - accuracy: 0.5561 - val_loss: 1.5532 - val_accuracy: 0.4040\n",
      "Epoch 4/20\n",
      "7/7 [==============================] - 2s 348ms/step - loss: 1.3461 - accuracy: 0.5711 - val_loss: 1.4527 - val_accuracy: 0.4444\n",
      "Epoch 5/20\n",
      "7/7 [==============================] - 2s 337ms/step - loss: 1.1981 - accuracy: 0.6060 - val_loss: 1.3320 - val_accuracy: 0.4646\n",
      "Epoch 6/20\n",
      "7/7 [==============================] - 3s 385ms/step - loss: 1.0415 - accuracy: 0.6334 - val_loss: 1.1861 - val_accuracy: 0.4949\n",
      "Epoch 7/20\n",
      "7/7 [==============================] - 3s 379ms/step - loss: 0.8799 - accuracy: 0.7431 - val_loss: 1.0288 - val_accuracy: 0.5859\n",
      "Epoch 8/20\n",
      "7/7 [==============================] - 3s 362ms/step - loss: 0.7252 - accuracy: 0.8803 - val_loss: 0.8790 - val_accuracy: 0.7778\n",
      "Epoch 9/20\n",
      "7/7 [==============================] - 2s 353ms/step - loss: 0.5871 - accuracy: 0.9426 - val_loss: 0.7481 - val_accuracy: 0.8283\n",
      "Epoch 10/20\n",
      "7/7 [==============================] - 3s 366ms/step - loss: 0.4693 - accuracy: 0.9626 - val_loss: 0.6388 - val_accuracy: 0.8586\n",
      "Epoch 11/20\n",
      "7/7 [==============================] - 2s 357ms/step - loss: 0.3714 - accuracy: 0.9751 - val_loss: 0.5505 - val_accuracy: 0.8788\n",
      "Epoch 12/20\n",
      "7/7 [==============================] - 3s 365ms/step - loss: 0.2925 - accuracy: 0.9776 - val_loss: 0.4790 - val_accuracy: 0.8889\n",
      "Epoch 13/20\n",
      "7/7 [==============================] - 3s 365ms/step - loss: 0.2302 - accuracy: 0.9776 - val_loss: 0.4219 - val_accuracy: 0.8889\n",
      "Epoch 14/20\n",
      "7/7 [==============================] - 3s 387ms/step - loss: 0.1821 - accuracy: 0.9825 - val_loss: 0.3762 - val_accuracy: 0.8990\n",
      "Epoch 15/20\n",
      "7/7 [==============================] - 2s 356ms/step - loss: 0.1452 - accuracy: 0.9825 - val_loss: 0.3399 - val_accuracy: 0.8990\n",
      "Epoch 16/20\n",
      "7/7 [==============================] - 2s 339ms/step - loss: 0.1170 - accuracy: 0.9825 - val_loss: 0.3115 - val_accuracy: 0.8990\n",
      "Epoch 17/20\n",
      "7/7 [==============================] - 2s 344ms/step - loss: 0.0954 - accuracy: 0.9825 - val_loss: 0.2888 - val_accuracy: 0.8990\n",
      "Epoch 18/20\n",
      "7/7 [==============================] - 3s 427ms/step - loss: 0.0786 - accuracy: 0.9825 - val_loss: 0.2698 - val_accuracy: 0.8990\n",
      "Epoch 19/20\n",
      "7/7 [==============================] - 3s 372ms/step - loss: 0.0656 - accuracy: 0.9900 - val_loss: 0.2541 - val_accuracy: 0.9091\n",
      "Epoch 20/20\n",
      "7/7 [==============================] - 3s 369ms/step - loss: 0.0553 - accuracy: 0.9925 - val_loss: 0.2410 - val_accuracy: 0.9192\n"
     ]
    },
    {
     "data": {
      "text/plain": [
       "<tensorflow.python.keras.callbacks.History at 0x298d19c8>"
      ]
     },
     "execution_count": 151,
     "metadata": {},
     "output_type": "execute_result"
    }
   ],
   "source": [
    "text_cnn = TextCNN(data_manager=dm)\n",
    "text_cnn.build()\n",
    "text_cnn.compile_model(optimizer=\"adam\",loss='sparse_categorical_crossentropy',metrics=[\"accuracy\"])#Insert code here to compile the model\n",
    "text_cnn.model.fit(dm.tf_train_set.batch(64), epochs=20, validation_data = dm.tf_valid_set.batch(64))#Insert code here to train the model on 20 epochs"
   ]
  },
  {
   "cell_type": "markdown",
   "metadata": {},
   "source": [
    "## <span style=\"color:#0b486b\">Part 4: RNNs for sequence modeling and neural embedding </span>\n",
    "\n",
    "<div style=\"text-align: right\"><span style=\"color:red; font-weight:bold\">[Total marks for this part: 65 points]<span></div>"
   ]
  },
  {
   "cell_type": "markdown",
   "metadata": {},
   "source": [
    "### <span style=\"color:#0b486b\">4.1. One-directional RNNs for sequence modeling and neural embedding </span> ###\n",
    "\n",
    "<div style=\"text-align: right\"><span style=\"color:red; font-weight:bold\">[Total marks for this part: 20 points]<span></div>"
   ]
  },
  {
   "cell_type": "markdown",
   "metadata": {},
   "source": [
    "#### <span style=\"color:red\">**Question 4.1.1**</span> \n",
    "**In this part, you need to construct an RNN to learn from the dataset of interest. Basically, you are required first to construct the class UniRNN (Uni-directional RNN) with the following requirements:**\n",
    "- Attribute `data_manager (self.data_manager)`: specifies the data manager used to store data for the model.\n",
    "- Attribute `cell_type (self.cell_type)`: can receive three values including `basic_rnn`, `gru`, and `lstm` which specifies the memory cells formed a hidden layer.\n",
    "- `state_sizes (self.state_sizes)` indicates the list of the hidden sizes from the second hidden layers of memory cells. For example, $embed\\_size =128$ and $state\\_sizes = [64, 64]$ means that you have three hidden layers in your network with hidden sizes of $128, 64$ and $64$ respectively.\n",
    "\n",
    "**Note that when declaring an embedding layer for the network, you need to set *mask_zero=True* so that the padding zeros in the sentences will be masked and ignored. This helps to have variable length RNNs. For more detail, you can refer to this [link](https://www.tensorflow.org/guide/keras/masking_and_padding).**\n",
    "\n",
    "<div style=\"text-align: right\"><span style=\"color:red\">[10 points]</span></div>"
   ]
  },
  {
   "cell_type": "code",
   "execution_count": 4,
   "metadata": {},
   "outputs": [],
   "source": [
    "class UniRNN:\n",
    "    def __init__(self, cell_type= 'gru', embed_size= 128, state_sizes= [128, 64], data_manager= None):\n",
    "        self.cell_type = cell_type\n",
    "        self.state_sizes = state_sizes\n",
    "        self.embed_size = embed_size\n",
    "        self.data_manager = data_manager\n",
    "        self.vocab_size = self.data_manager.vocab_size +1 \n",
    "        \n",
    "    #return the correspoding memory cell\n",
    "    @staticmethod\n",
    "    def get_layer(cell_type= 'gru', state_size= 128, return_sequences= False, activation = 'tanh'):\n",
    "        if cell_type=='gru':\n",
    "            return tf.keras.layers.GRU(state_size,return_sequences= return_sequences, activation = activation)#Insert your code here\n",
    "        elif cell_type== 'lstm':\n",
    "            return tf.keras.layers.LSTM(state_size,return_sequences= return_sequences, activation = activation)#Insert your code here\n",
    "        else:\n",
    "            return tf.keras.layers.RNN(state_size,return_sequences= return_sequences, activation = activation)#Insert your code here\n",
    "    \n",
    "    def build(self):\n",
    "        x = tf.keras.layers.Input(shape=[None])\n",
    "        h = tf.keras.layers.Embedding(self.vocab_size, self.embed_size,mask_zero=True)(x)#Insert your code here\n",
    "        num_layers = len(self.state_sizes)#Insert your code here\n",
    "        for i in range(num_layers):\n",
    "            if i != num_layers-1:\n",
    "                layer = self.get_layer(state_size=self.state_sizes[i],return_sequences= True)\n",
    "                h=layer(h)\n",
    "            else:\n",
    "                layer = self.get_layer(state_size=self.state_sizes[i])\n",
    "                h=layer(h)#Insert your code here, you can insert more lines if necessary\n",
    "        h = tf.keras.layers.Dense(dm.num_classes, activation='softmax')(h)\n",
    "        self.model = tf.keras.Model(inputs=x, outputs=h)\n",
    "   \n",
    "    def compile_model(self, *args, **kwargs):\n",
    "        self.model.compile(*args, **kwargs)\n",
    "    \n",
    "    def fit(self, *args, **kwargs):\n",
    "        return self.model.fit(*args, **kwargs)\n",
    "    \n",
    "    def evaluate(self, *args, **kwargs):\n",
    "        self.model.evaluate(*args, **kwargs)       \n"
   ]
  },
  {
   "cell_type": "markdown",
   "metadata": {},
   "source": [
    "#### <span style=\"color:red\">**Question 4.1.2**</span> \n",
    "**Run with basic RNN ('basic_rnn') cell with $embed\\_size= 128, state\\_sizes= [128, 128], data\\_manager= dm$.**\n",
    "\n",
    "<div style=\"text-align: right\"><span style=\"color:red\">[2 points]</span></div>"
   ]
  },
  {
   "cell_type": "code",
   "execution_count": 5,
   "metadata": {},
   "outputs": [
    {
     "name": "stdout",
     "output_type": "stream",
     "text": [
      "Train for 7 steps, validate for 2 steps\n",
      "Epoch 1/20\n",
      "7/7 [==============================] - 52s 7s/step - loss: 1.6074 - accuracy: 0.3541 - val_loss: 1.4662 - val_accuracy: 0.3636\n",
      "Epoch 2/20\n",
      "7/7 [==============================] - 11s 2s/step - loss: 1.0853 - accuracy: 0.5686 - val_loss: 1.1698 - val_accuracy: 0.4949\n",
      "Epoch 3/20\n",
      "7/7 [==============================] - 11s 2s/step - loss: 0.7601 - accuracy: 0.6683 - val_loss: 0.9848 - val_accuracy: 0.5051\n",
      "Epoch 4/20\n",
      "7/7 [==============================] - 11s 2s/step - loss: 0.4755 - accuracy: 0.8155 - val_loss: 0.8924 - val_accuracy: 0.6061\n",
      "Epoch 5/20\n",
      "7/7 [==============================] - 10s 1s/step - loss: 0.2830 - accuracy: 0.9327 - val_loss: 0.6126 - val_accuracy: 0.7879\n",
      "Epoch 6/20\n",
      "7/7 [==============================] - 11s 2s/step - loss: 0.2558 - accuracy: 0.9152 - val_loss: 0.7908 - val_accuracy: 0.7677\n",
      "Epoch 7/20\n",
      "7/7 [==============================] - 11s 2s/step - loss: 0.0880 - accuracy: 0.9850 - val_loss: 0.4843 - val_accuracy: 0.8485\n",
      "Epoch 8/20\n",
      "7/7 [==============================] - 10s 1s/step - loss: 0.0434 - accuracy: 0.9950 - val_loss: 0.4183 - val_accuracy: 0.8687\n",
      "Epoch 9/20\n",
      "7/7 [==============================] - 11s 2s/step - loss: 0.0279 - accuracy: 0.9975 - val_loss: 0.4131 - val_accuracy: 0.8687\n",
      "Epoch 10/20\n",
      "7/7 [==============================] - 11s 2s/step - loss: 0.0186 - accuracy: 1.0000 - val_loss: 0.4117 - val_accuracy: 0.8687\n",
      "Epoch 11/20\n",
      "7/7 [==============================] - 13s 2s/step - loss: 0.0127 - accuracy: 1.0000 - val_loss: 0.4208 - val_accuracy: 0.8586\n",
      "Epoch 12/20\n",
      "7/7 [==============================] - 13s 2s/step - loss: 0.0086 - accuracy: 1.0000 - val_loss: 0.4410 - val_accuracy: 0.8485\n",
      "Epoch 13/20\n",
      "7/7 [==============================] - 11s 2s/step - loss: 0.0058 - accuracy: 1.0000 - val_loss: 0.4895 - val_accuracy: 0.8586\n",
      "Epoch 14/20\n",
      "7/7 [==============================] - 11s 2s/step - loss: 0.0040 - accuracy: 1.0000 - val_loss: 0.5195 - val_accuracy: 0.8687\n",
      "Epoch 15/20\n",
      "7/7 [==============================] - 11s 2s/step - loss: 0.0025 - accuracy: 1.0000 - val_loss: 0.5188 - val_accuracy: 0.8788\n",
      "Epoch 16/20\n",
      "7/7 [==============================] - 11s 2s/step - loss: 0.0016 - accuracy: 1.0000 - val_loss: 0.4716 - val_accuracy: 0.8990\n",
      "Epoch 17/20\n",
      "7/7 [==============================] - 11s 2s/step - loss: 9.5352e-04 - accuracy: 1.0000 - val_loss: 0.4293 - val_accuracy: 0.9192\n",
      "Epoch 18/20\n",
      "7/7 [==============================] - 11s 2s/step - loss: 6.3303e-04 - accuracy: 1.0000 - val_loss: 0.4567 - val_accuracy: 0.8990\n",
      "Epoch 19/20\n",
      "7/7 [==============================] - 11s 2s/step - loss: 4.4051e-04 - accuracy: 1.0000 - val_loss: 0.4861 - val_accuracy: 0.8990\n",
      "Epoch 20/20\n",
      "7/7 [==============================] - 11s 2s/step - loss: 3.1099e-04 - accuracy: 1.0000 - val_loss: 0.5187 - val_accuracy: 0.8990\n"
     ]
    },
    {
     "data": {
      "text/plain": [
       "<tensorflow.python.keras.callbacks.History at 0x1128e3c8>"
      ]
     },
     "execution_count": 5,
     "metadata": {},
     "output_type": "execute_result"
    }
   ],
   "source": [
    "uni_rnn = UniRNN(cell_type= 'basic_rnn', embed_size= 128, state_sizes= [128, 128],data_manager=dm)#Insert your code here\n",
    "uni_rnn.build()\n",
    "opt = tf.keras.optimizers.RMSprop(learning_rate=0.001)\n",
    "uni_rnn.compile_model(optimizer=opt, loss='sparse_categorical_crossentropy', metrics=['accuracy'])\n",
    "uni_rnn.fit(dm.tf_train_set.batch(64), epochs=20, validation_data = dm.tf_valid_set.batch(64))"
   ]
  },
  {
   "cell_type": "markdown",
   "metadata": {},
   "source": [
    "#### <span style=\"color:red\">**Question 4.1.3**</span> \n",
    "**Run with GRU ('gru') cell with $embed\\_size= 128, state\\_sizes= [128, 128], data\\_manager= dm$.**\n",
    "\n",
    "<div style=\"text-align: right\"><span style=\"color:red\">[2 points]</span></div>"
   ]
  },
  {
   "cell_type": "code",
   "execution_count": 6,
   "metadata": {},
   "outputs": [
    {
     "name": "stdout",
     "output_type": "stream",
     "text": [
      "Train for 7 steps, validate for 2 steps\n",
      "Epoch 1/20\n",
      "7/7 [==============================] - 57s 8s/step - loss: 1.6081 - accuracy: 0.4214 - val_loss: 1.4852 - val_accuracy: 0.4040\n",
      "Epoch 2/20\n",
      "7/7 [==============================] - 13s 2s/step - loss: 1.0833 - accuracy: 0.5187 - val_loss: 1.1949 - val_accuracy: 0.4646\n",
      "Epoch 3/20\n",
      "7/7 [==============================] - 11s 2s/step - loss: 0.7711 - accuracy: 0.6683 - val_loss: 0.9451 - val_accuracy: 0.5960\n",
      "Epoch 4/20\n",
      "7/7 [==============================] - 11s 2s/step - loss: 0.4675 - accuracy: 0.8204 - val_loss: 0.7900 - val_accuracy: 0.6667\n",
      "Epoch 5/20\n",
      "7/7 [==============================] - 11s 2s/step - loss: 0.2931 - accuracy: 0.8978 - val_loss: 0.8793 - val_accuracy: 0.7172\n",
      "Epoch 6/20\n",
      "7/7 [==============================] - 11s 2s/step - loss: 0.2841 - accuracy: 0.8928 - val_loss: 0.9075 - val_accuracy: 0.6970\n",
      "Epoch 7/20\n",
      "7/7 [==============================] - 10s 1s/step - loss: 0.1410 - accuracy: 0.9701 - val_loss: 0.7428 - val_accuracy: 0.7980\n",
      "Epoch 8/20\n",
      "7/7 [==============================] - 10s 1s/step - loss: 0.0868 - accuracy: 0.9825 - val_loss: 0.6683 - val_accuracy: 0.8485\n",
      "Epoch 9/20\n",
      "7/7 [==============================] - 11s 2s/step - loss: 0.0530 - accuracy: 0.9925 - val_loss: 0.6396 - val_accuracy: 0.8485\n",
      "Epoch 10/20\n",
      "7/7 [==============================] - 13s 2s/step - loss: 0.0339 - accuracy: 0.9925 - val_loss: 0.5668 - val_accuracy: 0.8788\n",
      "Epoch 11/20\n",
      "7/7 [==============================] - 13s 2s/step - loss: 0.0212 - accuracy: 0.9975 - val_loss: 0.5599 - val_accuracy: 0.8889\n",
      "Epoch 12/20\n",
      "7/7 [==============================] - 13s 2s/step - loss: 0.0131 - accuracy: 0.9975 - val_loss: 0.6461 - val_accuracy: 0.8687\n",
      "Epoch 13/20\n",
      "7/7 [==============================] - 11s 2s/step - loss: 0.0081 - accuracy: 0.9975 - val_loss: 0.7672 - val_accuracy: 0.8586\n",
      "Epoch 14/20\n",
      "7/7 [==============================] - 12s 2s/step - loss: 0.0048 - accuracy: 1.0000 - val_loss: 0.6989 - val_accuracy: 0.8586\n",
      "Epoch 15/20\n",
      "7/7 [==============================] - 14s 2s/step - loss: 0.0025 - accuracy: 1.0000 - val_loss: 0.6307 - val_accuracy: 0.8990\n",
      "Epoch 16/20\n",
      "7/7 [==============================] - 13s 2s/step - loss: 0.0015 - accuracy: 1.0000 - val_loss: 0.6648 - val_accuracy: 0.8889\n",
      "Epoch 17/20\n",
      "7/7 [==============================] - 13s 2s/step - loss: 9.3436e-04 - accuracy: 1.0000 - val_loss: 0.6954 - val_accuracy: 0.8889\n",
      "Epoch 18/20\n",
      "7/7 [==============================] - 11s 2s/step - loss: 6.3839e-04 - accuracy: 1.0000 - val_loss: 0.7226 - val_accuracy: 0.8889\n",
      "Epoch 19/20\n",
      "7/7 [==============================] - 13s 2s/step - loss: 4.4332e-04 - accuracy: 1.0000 - val_loss: 0.7499 - val_accuracy: 0.8687\n",
      "Epoch 20/20\n",
      "7/7 [==============================] - 12s 2s/step - loss: 3.1153e-04 - accuracy: 1.0000 - val_loss: 0.7757 - val_accuracy: 0.8687\n"
     ]
    },
    {
     "data": {
      "text/plain": [
       "<tensorflow.python.keras.callbacks.History at 0x2d0a2448>"
      ]
     },
     "execution_count": 6,
     "metadata": {},
     "output_type": "execute_result"
    }
   ],
   "source": [
    "uni_rnn = UniRNN(cell_type= 'gru', embed_size= 128, state_sizes= [128, 128],data_manager=dm) #Insert your code here\n",
    "uni_rnn.build()\n",
    "opt = tf.keras.optimizers.RMSprop(learning_rate=0.001)\n",
    "uni_rnn.compile_model(optimizer=opt, loss='sparse_categorical_crossentropy', metrics=['accuracy'])\n",
    "uni_rnn.fit(dm.tf_train_set.batch(64), epochs=20, validation_data = dm.tf_valid_set.batch(64))"
   ]
  },
  {
   "cell_type": "markdown",
   "metadata": {},
   "source": [
    "#### <span style=\"color:red\">**Question 4.1.4**</span> \n",
    "**Run with LSTM ('lstm') cell with $embed\\_size= 128, state\\_sizes= [128, 128], data\\_manager= dm$.**\n",
    "\n",
    "<div style=\"text-align: right\"><span style=\"color:red\">[2 points]</span></div>"
   ]
  },
  {
   "cell_type": "code",
   "execution_count": 7,
   "metadata": {},
   "outputs": [
    {
     "name": "stdout",
     "output_type": "stream",
     "text": [
      "Train for 7 steps, validate for 2 steps\n",
      "Epoch 1/20\n",
      "7/7 [==============================] - 57s 8s/step - loss: 1.6122 - accuracy: 0.3441 - val_loss: 1.4630 - val_accuracy: 0.3939\n",
      "Epoch 2/20\n",
      "7/7 [==============================] - 12s 2s/step - loss: 1.0683 - accuracy: 0.5761 - val_loss: 1.1771 - val_accuracy: 0.4949\n",
      "Epoch 3/20\n",
      "7/7 [==============================] - 11s 2s/step - loss: 0.7469 - accuracy: 0.6908 - val_loss: 1.0391 - val_accuracy: 0.4949\n",
      "Epoch 4/20\n",
      "7/7 [==============================] - 12s 2s/step - loss: 0.5057 - accuracy: 0.7955 - val_loss: 0.7180 - val_accuracy: 0.7374\n",
      "Epoch 5/20\n",
      "7/7 [==============================] - 11s 2s/step - loss: 0.3276 - accuracy: 0.9127 - val_loss: 1.2536 - val_accuracy: 0.6364\n",
      "Epoch 6/20\n",
      "7/7 [==============================] - 11s 2s/step - loss: 0.1724 - accuracy: 0.9676 - val_loss: 0.5849 - val_accuracy: 0.8283\n",
      "Epoch 7/20\n",
      "7/7 [==============================] - 11s 2s/step - loss: 0.1091 - accuracy: 0.9776 - val_loss: 0.5163 - val_accuracy: 0.8182\n",
      "Epoch 8/20\n",
      "7/7 [==============================] - 11s 2s/step - loss: 0.0538 - accuracy: 0.9950 - val_loss: 0.5182 - val_accuracy: 0.8182\n",
      "Epoch 9/20\n",
      "7/7 [==============================] - 11s 2s/step - loss: 0.0334 - accuracy: 0.9975 - val_loss: 0.5192 - val_accuracy: 0.8485\n",
      "Epoch 10/20\n",
      "7/7 [==============================] - 11s 2s/step - loss: 0.0220 - accuracy: 0.9975 - val_loss: 0.5139 - val_accuracy: 0.8283\n",
      "Epoch 11/20\n",
      "7/7 [==============================] - 11s 2s/step - loss: 0.0147 - accuracy: 1.0000 - val_loss: 0.5217 - val_accuracy: 0.8384\n",
      "Epoch 12/20\n",
      "7/7 [==============================] - 11s 2s/step - loss: 0.0099 - accuracy: 1.0000 - val_loss: 0.5261 - val_accuracy: 0.8687\n",
      "Epoch 13/20\n",
      "7/7 [==============================] - 11s 2s/step - loss: 0.0061 - accuracy: 1.0000 - val_loss: 0.5784 - val_accuracy: 0.8687\n",
      "Epoch 14/20\n",
      "7/7 [==============================] - 10s 1s/step - loss: 0.0040 - accuracy: 1.0000 - val_loss: 0.9536 - val_accuracy: 0.7980\n",
      "Epoch 15/20\n",
      "7/7 [==============================] - 13s 2s/step - loss: 0.0288 - accuracy: 0.9925 - val_loss: 0.9304 - val_accuracy: 0.8182\n",
      "Epoch 16/20\n",
      "7/7 [==============================] - 20s 3s/step - loss: 0.0639 - accuracy: 0.9850 - val_loss: 1.0856 - val_accuracy: 0.7879\n",
      "Epoch 17/20\n",
      "7/7 [==============================] - 15s 2s/step - loss: 0.0330 - accuracy: 0.9925 - val_loss: 0.4422 - val_accuracy: 0.8889\n",
      "Epoch 18/20\n",
      "7/7 [==============================] - 15s 2s/step - loss: 0.0041 - accuracy: 0.9975 - val_loss: 0.3564 - val_accuracy: 0.9192\n",
      "Epoch 19/20\n",
      "7/7 [==============================] - 13s 2s/step - loss: 0.0013 - accuracy: 1.0000 - val_loss: 0.3667 - val_accuracy: 0.9192\n",
      "Epoch 20/20\n",
      "7/7 [==============================] - 14s 2s/step - loss: 0.0011 - accuracy: 1.0000 - val_loss: 0.3767 - val_accuracy: 0.9192\n"
     ]
    },
    {
     "data": {
      "text/plain": [
       "<tensorflow.python.keras.callbacks.History at 0x3f335348>"
      ]
     },
     "execution_count": 7,
     "metadata": {},
     "output_type": "execute_result"
    }
   ],
   "source": [
    "uni_rnn = UniRNN(cell_type= 'lstm', embed_size= 128, state_sizes= [128, 128],data_manager=dm)#Insert your code here\n",
    "uni_rnn.build()\n",
    "opt = tf.keras.optimizers.RMSprop(learning_rate=0.001)\n",
    "uni_rnn.compile_model(optimizer=opt, loss='sparse_categorical_crossentropy', metrics=['accuracy'])\n",
    "uni_rnn.fit(dm.tf_train_set.batch(64), epochs=20, validation_data = dm.tf_valid_set.batch(64))"
   ]
  },
  {
   "cell_type": "markdown",
   "metadata": {},
   "source": [
    "#### <span style=\"color:red\">**Question 4.1.5**</span> \n",
    "**Give your own comments about the performance of three memory cells for the dataset of interest as well as what happening during the training process of each cell. Note that there are not right or wrong comments and your comments rely on the status of your training. In addition, some comments and hypothesized assessments of what and why are occurring are useful to obtain the highest score for this question.**\n",
    "\n",
    "<div style=\"text-align: right\"><span style=\"color:red\">[4 points]</span></div>"
   ]
  },
  {
   "cell_type": "markdown",
   "metadata": {},
   "source": [
    "**#Your comments here**  \n",
    "  \n",
    " after 20 epochs,  \n",
    " For basic RNN accuracy: 1.0000 and val_accuracy: 0.8990  \n",
    " for GRU accuracy: 1.0000 and val_accuracy: 0.8687  \n",
    " for LSTM accuracy: 1.0000 and val_accuracy: 0.9192  \n",
    " so we can see that they all perform well in training set, and LSTM has the best performance in validation set.    \n",
    " \n",
    "in Epoch 10, basic RNN reaches accuracy:1 in training set; in Epoch 17 , it gets the highest value in val_accuracy:0.9192 then drops to 0.8990  \n",
    "in Epoch 14, GRU reaches accuracy:1 in training set; in Epoch 15 , it gets the highest value in val_accuracy:0.8990 then drops to 0.8687  \n",
    "in Epoch 11, LSTM reaches accuracy:1 in training set; in Epoch 18 , it gets the highest value in val_accuracy:0.9192 then remains stable.      \n",
    "   \n",
    "Because LSTM can capture long term dependency and help the gradient flow significantly over a long duration, it is faster and more robust to train, often with quicker convergence."
   ]
  },
  {
   "cell_type": "markdown",
   "metadata": {},
   "source": [
    "### <span style=\"color:#0b486b\">4.2. Bi-directional RNNs for sequence modeling and neural embedding </span> ###\n",
    "\n",
    "<div style=\"text-align: right\"><span style=\"color:red; font-weight:bold\">[Total marks for this part: 20 points]<span></div>"
   ]
  },
  {
   "cell_type": "markdown",
   "metadata": {},
   "source": [
    "#### <span style=\"color:red\">**Question 4.2.1**</span> \n",
    "**In what follow, you will investigate BiRNN. The task is similar to Part 4.1 but you need to write the code for an BiRNN. Note that the function *get_layer(cell_type= 'gru', state_size= 128, return_sequences= False, activation = 'tanh')* has to return the hidden layer with bidirectional memory cells (e.g., Basic RNN, GRU, and LSTM cells).**\n",
    "\n",
    "**Complete the code of the class *BiRNN*. Note that for the embedding layer you need to set *mask_zero=True*.**\n",
    "\n",
    "<div style=\"text-align: right\"><span style=\"color:red\">[10 points]</span></div>"
   ]
  },
  {
   "cell_type": "code",
   "execution_count": 5,
   "metadata": {},
   "outputs": [],
   "source": [
    "class BiRNN:\n",
    "    def __init__(self, cell_type= 'gru', embed_size= 128, state_sizes= [128, 64], data_manager= None):\n",
    "        self.cell_type = cell_type\n",
    "        self.state_sizes = state_sizes\n",
    "        self.embed_size = embed_size\n",
    "        self.data_manager = data_manager\n",
    "        self.vocab_size = self.data_manager.vocab_size +1\n",
    "        \n",
    "    @staticmethod\n",
    "    def get_layer(cell_type= 'gru', state_size= 128, return_sequences= False, activation = 'tanh'):\n",
    "        if cell_type=='gru':\n",
    "            return tf.keras.layers.Bidirectional(tf.keras.layers.GRU(state_size,return_sequences= return_sequences, activation = activation))#Insert your code here\n",
    "        elif cell_type== 'lstm':\n",
    "            return tf.keras.layers.Bidirectional(tf.keras.layers.LSTM(state_size,return_sequences= return_sequences, activation = activation))#Insert your code here\n",
    "        else:\n",
    "            return tf.keras.layers.Bidirectional(tf.keras.layers.RNN(state_size,return_sequences= return_sequences, activation = activation))#Insert your code here\n",
    "    \n",
    "    def build(self):\n",
    "        x = tf.keras.layers.Input(shape=[None])\n",
    "        h = tf.keras.layers.Embedding(self.vocab_size, self.embed_size,mask_zero=True)(x)#Insert your code here\n",
    "        num_layers = len(self.state_sizes)#Insert your code here\n",
    "        for i in range(num_layers):\n",
    "            if i != num_layers-1:\n",
    "                layer = self.get_layer(state_size=self.state_sizes[i],return_sequences= True)\n",
    "                h=layer(h)\n",
    "            else:\n",
    "                layer = self.get_layer(state_size=self.state_sizes[i])\n",
    "                h=layer(h)                                                 \n",
    "            #Insert your code here, add more lines if necessary\n",
    "        h = tf.keras.layers.Dense(dm.num_classes, activation='softmax')(h)\n",
    "        self.model = tf.keras.Model(inputs=x, outputs=h)\n",
    "        \n",
    "    \n",
    "    def compile_model(self, *args, **kwargs):\n",
    "        self.model.compile(*args, **kwargs)\n",
    "    \n",
    "    def fit(self, *args, **kwargs):\n",
    "        return self.model.fit(*args, **kwargs)\n",
    "    \n",
    "    def evaluate(self, *args, **kwargs):\n",
    "        self.model.evaluate(*args, **kwargs)       \n"
   ]
  },
  {
   "cell_type": "markdown",
   "metadata": {},
   "source": [
    "#### <span style=\"color:red\">**Question 4.2.2**</span> \n",
    "**Run BiRNN for basic RNN ('basic_rnn') cell with $embed\\_size= 128, state\\_sizes= [128, 128], data\\_manager= dm$.**\n",
    "\n",
    "<div style=\"text-align: right\"><span style=\"color:red\">[2 points]</span></div>"
   ]
  },
  {
   "cell_type": "code",
   "execution_count": 7,
   "metadata": {},
   "outputs": [
    {
     "name": "stdout",
     "output_type": "stream",
     "text": [
      "Train for 7 steps, validate for 2 steps\n",
      "Epoch 1/20\n",
      "7/7 [==============================] - 109s 16s/step - loss: 1.5206 - accuracy: 0.4439 - val_loss: 1.2762 - val_accuracy: 0.4646\n",
      "Epoch 2/20\n",
      "7/7 [==============================] - 27s 4s/step - loss: 0.8962 - accuracy: 0.6683 - val_loss: 0.9798 - val_accuracy: 0.5051\n",
      "Epoch 3/20\n",
      "7/7 [==============================] - 27s 4s/step - loss: 0.5448 - accuracy: 0.7955 - val_loss: 0.9199 - val_accuracy: 0.5960\n",
      "Epoch 4/20\n",
      "7/7 [==============================] - 28s 4s/step - loss: 0.2869 - accuracy: 0.9177 - val_loss: 0.8378 - val_accuracy: 0.6768\n",
      "Epoch 5/20\n",
      "7/7 [==============================] - 28s 4s/step - loss: 0.2023 - accuracy: 0.9377 - val_loss: 0.5610 - val_accuracy: 0.7879\n",
      "Epoch 6/20\n",
      "7/7 [==============================] - 28s 4s/step - loss: 0.0629 - accuracy: 0.9900 - val_loss: 0.3377 - val_accuracy: 0.8788\n",
      "Epoch 7/20\n",
      "7/7 [==============================] - 29s 4s/step - loss: 0.0297 - accuracy: 0.9925 - val_loss: 0.2810 - val_accuracy: 0.9293\n",
      "Epoch 8/20\n",
      "7/7 [==============================] - 29s 4s/step - loss: 0.0151 - accuracy: 0.9975 - val_loss: 0.2796 - val_accuracy: 0.9293\n",
      "Epoch 9/20\n",
      "7/7 [==============================] - 28s 4s/step - loss: 0.0073 - accuracy: 1.0000 - val_loss: 0.2867 - val_accuracy: 0.9394\n",
      "Epoch 10/20\n",
      "7/7 [==============================] - 29s 4s/step - loss: 0.0036 - accuracy: 1.0000 - val_loss: 0.3024 - val_accuracy: 0.9394\n",
      "Epoch 11/20\n",
      "7/7 [==============================] - 30s 4s/step - loss: 0.0019 - accuracy: 1.0000 - val_loss: 0.3180 - val_accuracy: 0.9293\n",
      "Epoch 12/20\n",
      "7/7 [==============================] - 29s 4s/step - loss: 0.0011 - accuracy: 1.0000 - val_loss: 0.3328 - val_accuracy: 0.9293\n",
      "Epoch 13/20\n",
      "7/7 [==============================] - 29s 4s/step - loss: 6.6244e-04 - accuracy: 1.0000 - val_loss: 0.3468 - val_accuracy: 0.9293\n",
      "Epoch 14/20\n",
      "7/7 [==============================] - 27s 4s/step - loss: 4.1101e-04 - accuracy: 1.0000 - val_loss: 0.3601 - val_accuracy: 0.9293\n",
      "Epoch 15/20\n",
      "7/7 [==============================] - 28s 4s/step - loss: 2.6195e-04 - accuracy: 1.0000 - val_loss: 0.3734 - val_accuracy: 0.9293\n",
      "Epoch 16/20\n",
      "7/7 [==============================] - 28s 4s/step - loss: 1.7041e-04 - accuracy: 1.0000 - val_loss: 0.3874 - val_accuracy: 0.9293\n",
      "Epoch 17/20\n",
      "7/7 [==============================] - 28s 4s/step - loss: 1.1265e-04 - accuracy: 1.0000 - val_loss: 0.4028 - val_accuracy: 0.9293\n",
      "Epoch 18/20\n",
      "7/7 [==============================] - 27s 4s/step - loss: 7.5446e-05 - accuracy: 1.0000 - val_loss: 0.4199 - val_accuracy: 0.9192\n",
      "Epoch 19/20\n",
      "7/7 [==============================] - 27s 4s/step - loss: 5.1072e-05 - accuracy: 1.0000 - val_loss: 0.4387 - val_accuracy: 0.9192\n",
      "Epoch 20/20\n",
      "7/7 [==============================] - 27s 4s/step - loss: 3.4919e-05 - accuracy: 1.0000 - val_loss: 0.4590 - val_accuracy: 0.9192\n"
     ]
    },
    {
     "data": {
      "text/plain": [
       "<tensorflow.python.keras.callbacks.History at 0x46f1e8c8>"
      ]
     },
     "execution_count": 7,
     "metadata": {},
     "output_type": "execute_result"
    }
   ],
   "source": [
    "bi_rnn = BiRNN(cell_type= 'basic_rnn', embed_size= 128, state_sizes= [128, 128],data_manager=dm)#Insert your code here\n",
    "bi_rnn.build()\n",
    "opt = tf.keras.optimizers.RMSprop(learning_rate=0.001)\n",
    "bi_rnn.compile_model(optimizer=opt, loss='sparse_categorical_crossentropy', metrics=['accuracy'])\n",
    "bi_rnn.fit(dm.tf_train_set.batch(64), epochs=20, validation_data = dm.tf_valid_set.batch(64))"
   ]
  },
  {
   "cell_type": "markdown",
   "metadata": {},
   "source": [
    "#### <span style=\"color:red\">**Question 4.2.3**</span> \n",
    "**Run BiRNN for GRU ('gru') cell with $embed\\_size= 128, state\\_sizes= [128, 128], data\\_manager= dm$.**\n",
    "\n",
    "<div style=\"text-align: right\"><span style=\"color:red\">[2 points]</span></div>"
   ]
  },
  {
   "cell_type": "code",
   "execution_count": 8,
   "metadata": {},
   "outputs": [
    {
     "name": "stdout",
     "output_type": "stream",
     "text": [
      "Train for 7 steps, validate for 2 steps\n",
      "Epoch 1/20\n",
      "7/7 [==============================] - 108s 15s/step - loss: 1.5121 - accuracy: 0.4489 - val_loss: 1.3079 - val_accuracy: 0.4141\n",
      "Epoch 2/20\n",
      "7/7 [==============================] - 27s 4s/step - loss: 0.8799 - accuracy: 0.6683 - val_loss: 1.0478 - val_accuracy: 0.5354\n",
      "Epoch 3/20\n",
      "7/7 [==============================] - 27s 4s/step - loss: 0.5059 - accuracy: 0.8229 - val_loss: 0.8071 - val_accuracy: 0.6465\n",
      "Epoch 4/20\n",
      "7/7 [==============================] - 28s 4s/step - loss: 0.2770 - accuracy: 0.9202 - val_loss: 0.5041 - val_accuracy: 0.8081\n",
      "Epoch 5/20\n",
      "7/7 [==============================] - 28s 4s/step - loss: 0.1347 - accuracy: 0.9701 - val_loss: 0.6270 - val_accuracy: 0.7677\n",
      "Epoch 6/20\n",
      "7/7 [==============================] - 29s 4s/step - loss: 0.0773 - accuracy: 0.9776 - val_loss: 0.3478 - val_accuracy: 0.8586\n",
      "Epoch 7/20\n",
      "7/7 [==============================] - 28s 4s/step - loss: 0.0361 - accuracy: 0.9850 - val_loss: 0.3257 - val_accuracy: 0.8889\n",
      "Epoch 8/20\n",
      "7/7 [==============================] - 29s 4s/step - loss: 0.0190 - accuracy: 0.9950 - val_loss: 0.2891 - val_accuracy: 0.8990\n",
      "Epoch 9/20\n",
      "7/7 [==============================] - 29s 4s/step - loss: 0.0087 - accuracy: 1.0000 - val_loss: 0.2952 - val_accuracy: 0.9192\n",
      "Epoch 10/20\n",
      "7/7 [==============================] - 31s 4s/step - loss: 0.0040 - accuracy: 1.0000 - val_loss: 0.3035 - val_accuracy: 0.9192\n",
      "Epoch 11/20\n",
      "7/7 [==============================] - 30s 4s/step - loss: 0.0019 - accuracy: 1.0000 - val_loss: 0.3159 - val_accuracy: 0.9192\n",
      "Epoch 12/20\n",
      "7/7 [==============================] - 31s 4s/step - loss: 0.0010 - accuracy: 1.0000 - val_loss: 0.3281 - val_accuracy: 0.9192\n",
      "Epoch 13/20\n",
      "7/7 [==============================] - 31s 4s/step - loss: 5.9412e-04 - accuracy: 1.0000 - val_loss: 0.3399 - val_accuracy: 0.9192\n",
      "Epoch 14/20\n",
      "7/7 [==============================] - 30s 4s/step - loss: 3.5665e-04 - accuracy: 1.0000 - val_loss: 0.3511 - val_accuracy: 0.9192\n",
      "Epoch 15/20\n",
      "7/7 [==============================] - 30s 4s/step - loss: 2.2173e-04 - accuracy: 1.0000 - val_loss: 0.3617 - val_accuracy: 0.9192\n",
      "Epoch 16/20\n",
      "7/7 [==============================] - 29s 4s/step - loss: 1.4175e-04 - accuracy: 1.0000 - val_loss: 0.3723 - val_accuracy: 0.9192\n",
      "Epoch 17/20\n",
      "7/7 [==============================] - 28s 4s/step - loss: 9.2416e-05 - accuracy: 1.0000 - val_loss: 0.3825 - val_accuracy: 0.9192\n",
      "Epoch 18/20\n",
      "7/7 [==============================] - 29s 4s/step - loss: 6.1337e-05 - accuracy: 1.0000 - val_loss: 0.3932 - val_accuracy: 0.9293\n",
      "Epoch 19/20\n",
      "7/7 [==============================] - 29s 4s/step - loss: 4.1226e-05 - accuracy: 1.0000 - val_loss: 0.4040 - val_accuracy: 0.9293\n",
      "Epoch 20/20\n",
      "7/7 [==============================] - 29s 4s/step - loss: 2.8098e-05 - accuracy: 1.0000 - val_loss: 0.4167 - val_accuracy: 0.9293\n"
     ]
    },
    {
     "data": {
      "text/plain": [
       "<tensorflow.python.keras.callbacks.History at 0x69e92a48>"
      ]
     },
     "execution_count": 8,
     "metadata": {},
     "output_type": "execute_result"
    }
   ],
   "source": [
    "bi_rnn = BiRNN(cell_type= 'gru', embed_size= 128, state_sizes= [128, 128],data_manager=dm)#Insert your code here\n",
    "bi_rnn.build()\n",
    "opt = tf.keras.optimizers.RMSprop(learning_rate=0.001)\n",
    "bi_rnn.compile_model(optimizer=opt, loss='sparse_categorical_crossentropy', metrics=['accuracy'])\n",
    "bi_rnn.fit(dm.tf_train_set.batch(64), epochs=20, validation_data = dm.tf_valid_set.batch(64))"
   ]
  },
  {
   "cell_type": "markdown",
   "metadata": {},
   "source": [
    "#### <span style=\"color:red\">**Question 4.2.4**</span> \n",
    "**Run BiRNN for LSTM ('lstm') cell with $embed\\_size= 128, state\\_sizes= [128, 128], data\\_manager= dm$.**\n",
    "\n",
    "<div style=\"text-align: right\"><span style=\"color:red\">[2 points]</span></div>"
   ]
  },
  {
   "cell_type": "code",
   "execution_count": 9,
   "metadata": {},
   "outputs": [
    {
     "name": "stdout",
     "output_type": "stream",
     "text": [
      "Train for 7 steps, validate for 2 steps\n",
      "Epoch 1/20\n",
      "7/7 [==============================] - 109s 16s/step - loss: 1.5371 - accuracy: 0.4140 - val_loss: 1.2849 - val_accuracy: 0.4242\n",
      "Epoch 2/20\n",
      "7/7 [==============================] - 29s 4s/step - loss: 0.8926 - accuracy: 0.6708 - val_loss: 0.9378 - val_accuracy: 0.5152\n",
      "Epoch 3/20\n",
      "7/7 [==============================] - 32s 5s/step - loss: 0.5039 - accuracy: 0.8229 - val_loss: 0.7887 - val_accuracy: 0.6364\n",
      "Epoch 4/20\n",
      "7/7 [==============================] - 33s 5s/step - loss: 0.2713 - accuracy: 0.9102 - val_loss: 0.6394 - val_accuracy: 0.7576\n",
      "Epoch 5/20\n",
      "7/7 [==============================] - 35s 5s/step - loss: 0.1221 - accuracy: 0.9726 - val_loss: 0.5629 - val_accuracy: 0.8081\n",
      "Epoch 6/20\n",
      "7/7 [==============================] - 33s 5s/step - loss: 0.0657 - accuracy: 0.9850 - val_loss: 0.3050 - val_accuracy: 0.8990\n",
      "Epoch 7/20\n",
      "7/7 [==============================] - 34s 5s/step - loss: 0.0233 - accuracy: 0.9975 - val_loss: 0.2803 - val_accuracy: 0.9091\n",
      "Epoch 8/20\n",
      "7/7 [==============================] - 31s 4s/step - loss: 0.0110 - accuracy: 1.0000 - val_loss: 0.3001 - val_accuracy: 0.9091\n",
      "Epoch 9/20\n",
      "7/7 [==============================] - 31s 4s/step - loss: 0.0057 - accuracy: 1.0000 - val_loss: 0.3280 - val_accuracy: 0.9091\n",
      "Epoch 10/20\n",
      "7/7 [==============================] - 30s 4s/step - loss: 0.0031 - accuracy: 1.0000 - val_loss: 0.3583 - val_accuracy: 0.8990\n",
      "Epoch 11/20\n",
      "7/7 [==============================] - 31s 4s/step - loss: 0.0018 - accuracy: 1.0000 - val_loss: 0.3876 - val_accuracy: 0.8990\n",
      "Epoch 12/20\n",
      "7/7 [==============================] - 31s 4s/step - loss: 0.0011 - accuracy: 1.0000 - val_loss: 0.4159 - val_accuracy: 0.8990\n",
      "Epoch 13/20\n",
      "7/7 [==============================] - 32s 5s/step - loss: 6.5006e-04 - accuracy: 1.0000 - val_loss: 0.4443 - val_accuracy: 0.9091\n",
      "Epoch 14/20\n",
      "7/7 [==============================] - 31s 4s/step - loss: 4.0885e-04 - accuracy: 1.0000 - val_loss: 0.4735 - val_accuracy: 0.8990\n",
      "Epoch 15/20\n",
      "7/7 [==============================] - 31s 4s/step - loss: 2.6200e-04 - accuracy: 1.0000 - val_loss: 0.5032 - val_accuracy: 0.8990\n",
      "Epoch 16/20\n",
      "7/7 [==============================] - 31s 4s/step - loss: 1.7151e-04 - accuracy: 1.0000 - val_loss: 0.5320 - val_accuracy: 0.8990\n",
      "Epoch 17/20\n",
      "7/7 [==============================] - 32s 5s/step - loss: 1.1281e-04 - accuracy: 1.0000 - val_loss: 0.5586 - val_accuracy: 0.8990\n",
      "Epoch 18/20\n",
      "7/7 [==============================] - 31s 4s/step - loss: 7.4558e-05 - accuracy: 1.0000 - val_loss: 0.5824 - val_accuracy: 0.8990\n",
      "Epoch 19/20\n",
      "7/7 [==============================] - 32s 5s/step - loss: 5.1077e-05 - accuracy: 1.0000 - val_loss: 0.6113 - val_accuracy: 0.8889\n",
      "Epoch 20/20\n",
      "7/7 [==============================] - 33s 5s/step - loss: 3.6512e-05 - accuracy: 1.0000 - val_loss: 0.6160 - val_accuracy: 0.8990\n"
     ]
    },
    {
     "data": {
      "text/plain": [
       "<tensorflow.python.keras.callbacks.History at 0x8e490408>"
      ]
     },
     "execution_count": 9,
     "metadata": {},
     "output_type": "execute_result"
    }
   ],
   "source": [
    "bi_rnn = BiRNN(cell_type= 'lstm', embed_size= 128, state_sizes= [128, 128],data_manager=dm)#Insert your code here\n",
    "bi_rnn.build()\n",
    "opt = tf.keras.optimizers.RMSprop(learning_rate=0.001)\n",
    "bi_rnn.compile_model(optimizer=opt, loss='sparse_categorical_crossentropy', metrics=['accuracy'])\n",
    "bi_rnn.fit(dm.tf_train_set.batch(64), epochs=20, validation_data = dm.tf_valid_set.batch(64))"
   ]
  },
  {
   "cell_type": "markdown",
   "metadata": {},
   "source": [
    "#### <span style=\"color:red\">**Question 4.2.5**</span> \n",
    "\n",
    "**Give your own comments about the performance of three memory cells for the dataset of interest as well as comparing BiRNN to UniRNN in Part 1.**\n",
    "\n",
    "<div style=\"text-align: right\"><span style=\"color:red\">[4 points]</span></div>"
   ]
  },
  {
   "cell_type": "markdown",
   "metadata": {},
   "source": [
    "**#Your comments here**    \n",
    "\n",
    "after 20 epochs,  \n",
    "For basic RNN accuracy: 1.0000 and val_accuracy: 0.9192  \n",
    "for GRU accuracy: 1.0000 and val_accuracy: 0.9293  \n",
    "for LSTM accuracy: 1.0000 and val_accuracy: 0.8990  \n",
    "so we can see that they all perform well in training set, and GRU has the best performance in validation set.  \n",
    "\n",
    "comparing BiRNN to UniRNN, I find that LSRM has the best performance in UniRNN, but in BiRNN it performes worst.  \n",
    "GRU has the worst performance in UniRNN, however in BiRNN it performes best.  \n",
    "besides, BiRNN needs more time for training.\n",
    "\n"
   ]
  },
  {
   "cell_type": "markdown",
   "metadata": {},
   "source": [
    "### <span style=\"color:#0b486b\">4.3. RNNs with various types, cells, and fine-tuning embedding matrix for sequence modeling and neural embedding </span> ###\n",
    "\n",
    "<div style=\"text-align: right\"><span style=\"color:red; font-weight:bold\">[Total marks for this part: 20 points]<span></div>"
   ]
  },
  {
   "cell_type": "markdown",
   "metadata": {},
   "source": [
    "#### <span style=\"color:red\">**Question 4.3.1**</span> \n",
    "\n",
    "**In what follows, you are required to combine the code in Part 1 and Part 2 to gain a general RNN which can be either Uni-directional RNN or Bi-directional RNN and the embedding matrix can be initialized using a pretrained Word2Vect.**\n",
    "\n",
    "**Below are the descriptions of the attributes of the class *RNN*:**\n",
    "- `run_mode (self.run_mode)` has three values (scratch, init-only, and init-fine-tune).\n",
    "  - `scratch` means training the embedding matrix from scratch.\n",
    "  - `init-only` means only initialzing the embedding matrix with a pretrained Word2Vect but not further doing fine-tuning that matrix.\n",
    "  - `init-fine-tune` means both initialzing the embedding matrix with a pretrained Word2Vect and further doing fine-tuning that matrix.\n",
    "- `network_type (self.network_type)` has two values (uni-directional and bi-directional) which correspond to either Uni-directional RNN or Bi-directional RNN.\n",
    "- `cell_type (self.cell_type)` has three values (simple-rnn, gru, and lstm) which specify the memory cell used in the network.\n",
    "- `embed_model (self.embed_model)` specifes the pretrained Word2Vect model used.\n",
    "-  `embed_size (self.embed_size)` specifes the embedding size. Note that when run_mode is either init-only' or 'init-fine-tune', this embedding size is extracted from embed_model for dimension compatability.\n",
    "- `state_sizes (self.state_sizes)` indicates the list of the hidden sizes from the second hidden layers of memory cells. For example, $embed\\_size =128$ and $state\\_sizes = [64, 64]$ means that you have three hidden layers in your network with hidden sizes of $128, 64$ and $64$ respectively.\n",
    "\n",
    "**Complete the code of the class *RNN*.**\n",
    "\n",
    "<div style=\"text-align: right\"><span style=\"color:red\">[10 points]</span></div>"
   ]
  },
  {
   "cell_type": "code",
   "execution_count": 6,
   "metadata": {},
   "outputs": [],
   "source": [
    "class RNN:\n",
    "    def __init__(self, run_mode = 'scratch', cell_type= 'gru', network_type = 'uni-directional', embed_model= 'glove-wiki-gigaword-100', \n",
    "                 embed_size= 128, state_sizes = [64, 64], data_manager = None):\n",
    "        self.run_mode = run_mode\n",
    "        self.data_manager = data_manager\n",
    "        self.cell_type = cell_type\n",
    "        self.network_type = network_type\n",
    "        self.state_sizes = state_sizes\n",
    "        self.embed_model = embed_model\n",
    "        self.embed_size = embed_size\n",
    "        if self.run_mode != 'scratch':\n",
    "            self.embed_size = int(self.embed_model.split(\"-\")[-1])\n",
    "        self.data_manager = data_manager\n",
    "        self.vocab_size = dm.vocab_size +1\n",
    "        self.word2idx = dm.word2idx\n",
    "        self.word2vect = None\n",
    "        self.embed_matrix = np.zeros(shape= [self.vocab_size, self.embed_size])\n",
    "    \n",
    "    def build_embedding_matrix(self):\n",
    "        #Insert your code here\n",
    "        self.word2vect = api.load(self.embed_model)   #load embedding model\n",
    "        for word, idx in self.word2idx.items():\n",
    "            try:\n",
    "                self.embed_matrix[idx] = self.word2vect.word_vec(word)    #assign weight for the corresponding word and index\n",
    "                    \n",
    "            except KeyError: #word cannot be found\n",
    "                pass            \n",
    "    \n",
    "    \n",
    "    @staticmethod\n",
    "    def get_layer(cell_type= 'gru', network_type= 'uni-directional', hidden_size= 128, return_sequences= False, activation = 'tanh'):\n",
    "        #Insert your code here\n",
    "        if network_type== 'uni-directional':\n",
    "            if cell_type=='gru':\n",
    "                return tf.keras.layers.GRU(hidden_size,return_sequences= return_sequences, activation = activation)#Insert your code here\n",
    "            elif cell_type== 'lstm':\n",
    "                return tf.keras.layers.LSTM(hidden_size,return_sequences= return_sequences, activation = activation)#Insert your code here\n",
    "            else:\n",
    "                return tf.keras.layers.SimpleRNN(hidden_size,return_sequences= return_sequences, activation = activation)#Insert your code here\n",
    "    \n",
    "        if network_type== 'bi-directional':\n",
    "            if cell_type=='gru':\n",
    "                return tf.keras.layers.Bidirectional(tf.keras.layers.GRU(hidden_size,return_sequences= return_sequences, activation = activation))#Insert your code here\n",
    "            elif cell_type== 'lstm':\n",
    "                return tf.keras.layers.Bidirectional(tf.keras.layers.LSTM(hidden_size,return_sequences= return_sequences, activation = activation))#Insert your code here\n",
    "            else:\n",
    "                return tf.keras.layers.Bidirectional(tf.keras.layers.SimpleRNN(hidden_size,return_sequences= return_sequences, activation = activation))#Insert your code here\n",
    "    \n",
    "    \n",
    "    def build(self):\n",
    "        #Insert your code here\n",
    "        x = tf.keras.layers.Input(shape=[None])\n",
    "        if self.run_mode == \"scratch\":\n",
    "            self.embedding_layer = tf.keras.layers.Embedding(self.vocab_size, self.embed_size, trainable= True,mask_zero=True)\n",
    "        elif self.run_mode == \"init-only\":\n",
    "            self.build_embedding_matrix()\n",
    "            self.embedding_layer = tf.keras.layers.Embedding(self.vocab_size, self.embed_size, \n",
    "                                                        weights= [self.embed_matrix], trainable= False,mask_zero=True) \n",
    "        else : #fine-tuned\n",
    "            self.build_embedding_matrix()\n",
    "            self.embedding_layer = tf.keras.layers.Embedding(self.vocab_size, self.embed_size, \n",
    "                                                        weights= [self.embed_matrix], trainable= True,mask_zero=True) \n",
    "        h = self.embedding_layer(x)\n",
    "        num_layers = len(self.state_sizes)\n",
    "        for i in range(num_layers):\n",
    "            if i != num_layers-1:\n",
    "                layer = self.get_layer(hidden_size=self.state_sizes[i],return_sequences= True)\n",
    "                h=layer(h)\n",
    "            else:\n",
    "                layer = self.get_layer(hidden_size=self.state_sizes[i])\n",
    "                h=layer(h)                                                 \n",
    "           \n",
    "        h = tf.keras.layers.Dense(dm.num_classes, activation='softmax')(h)\n",
    "        self.model = tf.keras.Model(inputs=x, outputs=h)\n",
    "        \n",
    "        \n",
    "    def compile_model(self, *args, **kwargs):\n",
    "        self.model.compile(*args, **kwargs)\n",
    "    \n",
    "    def fit(self, *args, **kwargs):\n",
    "        return self.model.fit(*args, **kwargs)\n",
    "    \n",
    "    def evaluate(self, *args, **kwargs):\n",
    "        self.model.evaluate(*args, **kwargs)       \n"
   ]
  },
  {
   "cell_type": "markdown",
   "metadata": {},
   "source": [
    "#### <span style=\"color:red\">**Question 4.3.2**</span> \n",
    "\n",
    "**Design the experiment to compare three running modes. Note that you should stick with fixed values for other attributes and only vary *run_mode*. Give your comments for the results.**\n",
    "\n",
    "<div style=\"text-align: right\"><span style=\"color:red\">[5 points]</span></div>"
   ]
  },
  {
   "cell_type": "code",
   "execution_count": 20,
   "metadata": {},
   "outputs": [
    {
     "name": "stdout",
     "output_type": "stream",
     "text": [
      "running mode:  scratch\n",
      "Train for 7 steps, validate for 2 steps\n",
      "Epoch 1/20\n",
      "7/7 [==============================] - 55s 8s/step - loss: 1.5827 - accuracy: 0.4040 - val_loss: 1.3963 - val_accuracy: 0.3939\n",
      "Epoch 2/20\n",
      "7/7 [==============================] - 18s 3s/step - loss: 1.0767 - accuracy: 0.5536 - val_loss: 1.1686 - val_accuracy: 0.4949\n",
      "Epoch 3/20\n",
      "7/7 [==============================] - 14s 2s/step - loss: 0.7671 - accuracy: 0.6608 - val_loss: 1.0349 - val_accuracy: 0.4949\n",
      "Epoch 4/20\n",
      "7/7 [==============================] - 14s 2s/step - loss: 0.4976 - accuracy: 0.8055 - val_loss: 0.7778 - val_accuracy: 0.6566\n",
      "Epoch 5/20\n",
      "7/7 [==============================] - 13s 2s/step - loss: 0.4203 - accuracy: 0.8753 - val_loss: 1.1344 - val_accuracy: 0.5455\n",
      "Epoch 6/20\n",
      "7/7 [==============================] - 15s 2s/step - loss: 0.2273 - accuracy: 0.9451 - val_loss: 0.5867 - val_accuracy: 0.7980\n",
      "Epoch 7/20\n",
      "7/7 [==============================] - 14s 2s/step - loss: 0.1014 - accuracy: 0.9950 - val_loss: 0.5318 - val_accuracy: 0.8283\n",
      "Epoch 8/20\n",
      "7/7 [==============================] - 14s 2s/step - loss: 0.0632 - accuracy: 0.9950 - val_loss: 0.5293 - val_accuracy: 0.8283\n",
      "Epoch 9/20\n",
      "7/7 [==============================] - 13s 2s/step - loss: 0.0409 - accuracy: 0.9975 - val_loss: 0.5416 - val_accuracy: 0.8485\n",
      "Epoch 10/20\n",
      "7/7 [==============================] - 13s 2s/step - loss: 0.0275 - accuracy: 0.9975 - val_loss: 0.5776 - val_accuracy: 0.8485\n",
      "Epoch 11/20\n",
      "7/7 [==============================] - 13s 2s/step - loss: 0.0183 - accuracy: 0.9975 - val_loss: 0.6554 - val_accuracy: 0.8485\n",
      "Epoch 12/20\n",
      "7/7 [==============================] - 13s 2s/step - loss: 0.0127 - accuracy: 0.9975 - val_loss: 0.8915 - val_accuracy: 0.8182\n",
      "Epoch 13/20\n",
      "7/7 [==============================] - 13s 2s/step - loss: 0.0105 - accuracy: 0.9975 - val_loss: 1.2424 - val_accuracy: 0.7475\n",
      "Epoch 14/20\n",
      "7/7 [==============================] - 13s 2s/step - loss: 0.0107 - accuracy: 0.9975 - val_loss: 1.2805 - val_accuracy: 0.7677\n",
      "Epoch 15/20\n",
      "7/7 [==============================] - 13s 2s/step - loss: 0.1274 - accuracy: 0.9526 - val_loss: 0.4400 - val_accuracy: 0.8889\n",
      "Epoch 16/20\n",
      "7/7 [==============================] - 13s 2s/step - loss: 0.0049 - accuracy: 1.0000 - val_loss: 0.3971 - val_accuracy: 0.8889\n",
      "Epoch 17/20\n",
      "7/7 [==============================] - 14s 2s/step - loss: 0.0031 - accuracy: 1.0000 - val_loss: 0.4105 - val_accuracy: 0.8889\n",
      "Epoch 18/20\n",
      "7/7 [==============================] - 13s 2s/step - loss: 0.0024 - accuracy: 1.0000 - val_loss: 0.4234 - val_accuracy: 0.8889\n",
      "Epoch 19/20\n",
      "7/7 [==============================] - 13s 2s/step - loss: 0.0019 - accuracy: 1.0000 - val_loss: 0.4352 - val_accuracy: 0.8889\n",
      "Epoch 20/20\n",
      "7/7 [==============================] - 13s 2s/step - loss: 0.0015 - accuracy: 1.0000 - val_loss: 0.4465 - val_accuracy: 0.8889\n",
      "running mode:  init-only\n",
      "Train for 7 steps, validate for 2 steps\n",
      "Epoch 1/20\n",
      "7/7 [==============================] - 55s 8s/step - loss: 1.3066 - accuracy: 0.4663 - val_loss: 1.2688 - val_accuracy: 0.4141\n",
      "Epoch 2/20\n",
      "7/7 [==============================] - 11s 2s/step - loss: 0.9068 - accuracy: 0.6459 - val_loss: 0.9513 - val_accuracy: 0.4747\n",
      "Epoch 3/20\n",
      "7/7 [==============================] - 12s 2s/step - loss: 0.6662 - accuracy: 0.7357 - val_loss: 0.7467 - val_accuracy: 0.6465\n",
      "Epoch 4/20\n",
      "7/7 [==============================] - 11s 2s/step - loss: 0.4964 - accuracy: 0.8180 - val_loss: 0.6178 - val_accuracy: 0.7576\n",
      "Epoch 5/20\n",
      "7/7 [==============================] - 12s 2s/step - loss: 0.3551 - accuracy: 0.8753 - val_loss: 0.5264 - val_accuracy: 0.8182\n",
      "Epoch 6/20\n",
      "7/7 [==============================] - 12s 2s/step - loss: 0.2348 - accuracy: 0.9102 - val_loss: 0.3960 - val_accuracy: 0.8283\n",
      "Epoch 7/20\n",
      "7/7 [==============================] - 12s 2s/step - loss: 0.1649 - accuracy: 0.9352 - val_loss: 0.7906 - val_accuracy: 0.7172\n",
      "Epoch 8/20\n",
      "7/7 [==============================] - 12s 2s/step - loss: 0.1557 - accuracy: 0.9401 - val_loss: 0.2872 - val_accuracy: 0.8788\n",
      "Epoch 9/20\n",
      "7/7 [==============================] - 12s 2s/step - loss: 0.0720 - accuracy: 0.9875 - val_loss: 0.3312 - val_accuracy: 0.8687\n",
      "Epoch 10/20\n",
      "7/7 [==============================] - 12s 2s/step - loss: 0.0970 - accuracy: 0.9651 - val_loss: 0.3484 - val_accuracy: 0.8990\n",
      "Epoch 11/20\n",
      "7/7 [==============================] - 12s 2s/step - loss: 0.0598 - accuracy: 0.9825 - val_loss: 0.2960 - val_accuracy: 0.8990\n",
      "Epoch 12/20\n",
      "7/7 [==============================] - 12s 2s/step - loss: 0.0317 - accuracy: 0.9975 - val_loss: 0.2469 - val_accuracy: 0.8889\n",
      "Epoch 13/20\n",
      "7/7 [==============================] - 12s 2s/step - loss: 0.0414 - accuracy: 0.9875 - val_loss: 0.2680 - val_accuracy: 0.8889\n",
      "Epoch 14/20\n",
      "7/7 [==============================] - 12s 2s/step - loss: 0.0225 - accuracy: 0.9975 - val_loss: 0.2385 - val_accuracy: 0.9091\n",
      "Epoch 15/20\n",
      "7/7 [==============================] - 12s 2s/step - loss: 0.0119 - accuracy: 1.0000 - val_loss: 0.2631 - val_accuracy: 0.9192\n",
      "Epoch 16/20\n",
      "7/7 [==============================] - 13s 2s/step - loss: 0.0080 - accuracy: 1.0000 - val_loss: 0.2789 - val_accuracy: 0.9091\n",
      "Epoch 17/20\n",
      "7/7 [==============================] - 11s 2s/step - loss: 0.0066 - accuracy: 1.0000 - val_loss: 0.3697 - val_accuracy: 0.8889\n",
      "Epoch 18/20\n",
      "7/7 [==============================] - 12s 2s/step - loss: 0.1349 - accuracy: 0.9626 - val_loss: 0.5598 - val_accuracy: 0.8788\n",
      "Epoch 19/20\n",
      "7/7 [==============================] - 12s 2s/step - loss: 0.0164 - accuracy: 0.9950 - val_loss: 0.2307 - val_accuracy: 0.9091\n",
      "Epoch 20/20\n",
      "7/7 [==============================] - 12s 2s/step - loss: 0.0046 - accuracy: 1.0000 - val_loss: 0.1938 - val_accuracy: 0.9394\n",
      "running mode:  init-fine-tune\n",
      "Train for 7 steps, validate for 2 steps\n",
      "Epoch 1/20\n",
      "7/7 [==============================] - 48s 7s/step - loss: 1.3428 - accuracy: 0.4514 - val_loss: 1.2432 - val_accuracy: 0.4242\n",
      "Epoch 2/20\n",
      "7/7 [==============================] - 12s 2s/step - loss: 0.8824 - accuracy: 0.6658 - val_loss: 0.9199 - val_accuracy: 0.5253\n",
      "Epoch 3/20\n",
      "7/7 [==============================] - 13s 2s/step - loss: 0.6150 - accuracy: 0.7880 - val_loss: 0.7388 - val_accuracy: 0.6162\n",
      "Epoch 4/20\n",
      "7/7 [==============================] - 14s 2s/step - loss: 0.4623 - accuracy: 0.8229 - val_loss: 0.5264 - val_accuracy: 0.8081\n",
      "Epoch 5/20\n",
      "7/7 [==============================] - 14s 2s/step - loss: 0.2892 - accuracy: 0.9002 - val_loss: 0.3691 - val_accuracy: 0.8687\n",
      "Epoch 6/20\n",
      "7/7 [==============================] - 13s 2s/step - loss: 0.1778 - accuracy: 0.9476 - val_loss: 0.2693 - val_accuracy: 0.8889\n",
      "Epoch 7/20\n",
      "7/7 [==============================] - 13s 2s/step - loss: 0.0924 - accuracy: 0.9751 - val_loss: 0.2041 - val_accuracy: 0.9596\n",
      "Epoch 8/20\n",
      "7/7 [==============================] - 13s 2s/step - loss: 0.0557 - accuracy: 0.9900 - val_loss: 0.1777 - val_accuracy: 0.9394\n",
      "Epoch 9/20\n",
      "7/7 [==============================] - 13s 2s/step - loss: 0.1015 - accuracy: 0.9651 - val_loss: 0.2315 - val_accuracy: 0.9192\n",
      "Epoch 10/20\n",
      "7/7 [==============================] - 14s 2s/step - loss: 0.0300 - accuracy: 0.9950 - val_loss: 0.1388 - val_accuracy: 0.9596\n",
      "Epoch 11/20\n",
      "7/7 [==============================] - 14s 2s/step - loss: 0.0166 - accuracy: 1.0000 - val_loss: 0.1329 - val_accuracy: 0.9596\n",
      "Epoch 12/20\n",
      "7/7 [==============================] - 14s 2s/step - loss: 0.0109 - accuracy: 1.0000 - val_loss: 0.1340 - val_accuracy: 0.9495\n",
      "Epoch 13/20\n",
      "7/7 [==============================] - 12s 2s/step - loss: 0.0070 - accuracy: 1.0000 - val_loss: 0.1471 - val_accuracy: 0.9495\n",
      "Epoch 14/20\n",
      "7/7 [==============================] - 12s 2s/step - loss: 0.0045 - accuracy: 1.0000 - val_loss: 0.1724 - val_accuracy: 0.9495\n",
      "Epoch 15/20\n",
      "7/7 [==============================] - 12s 2s/step - loss: 0.0031 - accuracy: 1.0000 - val_loss: 0.2098 - val_accuracy: 0.9192\n",
      "Epoch 16/20\n",
      "7/7 [==============================] - 12s 2s/step - loss: 0.0024 - accuracy: 1.0000 - val_loss: 0.1311 - val_accuracy: 0.9596\n",
      "Epoch 17/20\n",
      "7/7 [==============================] - 14s 2s/step - loss: 0.1405 - accuracy: 0.9875 - val_loss: 0.2833 - val_accuracy: 0.9192\n",
      "Epoch 18/20\n",
      "7/7 [==============================] - 13s 2s/step - loss: 0.0136 - accuracy: 0.9925 - val_loss: 0.1274 - val_accuracy: 0.9596\n"
     ]
    },
    {
     "name": "stdout",
     "output_type": "stream",
     "text": [
      "Epoch 19/20\n",
      "7/7 [==============================] - 12s 2s/step - loss: 0.0012 - accuracy: 1.0000 - val_loss: 0.1209 - val_accuracy: 0.9596\n",
      "Epoch 20/20\n",
      "7/7 [==============================] - 12s 2s/step - loss: 9.8598e-04 - accuracy: 1.0000 - val_loss: 0.1169 - val_accuracy: 0.9697\n"
     ]
    }
   ],
   "source": [
    "for mode in list([\"scratch\",\"init-only\",\"init-fine-tune\"]):\n",
    "    print(\"running mode: \",mode)\n",
    "\n",
    "    rnn = RNN(data_manager=dm, run_mode= mode,cell_type= 'lstm', embed_size= 128, state_sizes= [128, 128])\n",
    "    rnn.build()\n",
    "    opt = tf.keras.optimizers.RMSprop(learning_rate=0.001)\n",
    "    rnn.compile_model(optimizer=opt, loss='sparse_categorical_crossentropy', metrics=['accuracy'])\n",
    "    rnn.fit(dm.tf_train_set.batch(64), epochs=20, validation_data = dm.tf_valid_set.batch(64))"
   ]
  },
  {
   "cell_type": "markdown",
   "metadata": {},
   "source": [
    "I fix data_manager=dm, network_type = 'uni-directional', embed_model='glove-wiki-gigaword-100',cell_type= 'lstm',   embed_size= 128, state_sizes= [128, 128] and only change running modes.   \n",
    "\n",
    "From the results, scratch: accuracy: 1.0000; val_accuracy: 0.8889      \n",
    "&emsp;&emsp;&emsp;&emsp;&emsp;&emsp;&emsp;&emsp;init-only: accuracy: 1.0000; val_accuracy: 0.9394    \n",
    "&emsp;&emsp;&emsp;&emsp;&emsp;&emsp;&emsp;&emsp;init-fine-tune: accuracy: 1.0000; val_accuracy: 0.9697    \n",
    "so init-fine-tune mode has the best performance.  "
   ]
  },
  {
   "cell_type": "markdown",
   "metadata": {},
   "source": [
    "#### <span style=\"color:red\">**Question 4.3.3**</span> \n",
    "\n",
    "**Run the above general RNN with at least five parameter sets and try to obtain the best performance. You can stick with the running mode *init-fine-tune* and use grid search to tune other parameters. Record your best model which will be used in the next part.**\n",
    "\n",
    "<div style=\"text-align: right\"><span style=\"color:red\">[5 points]</span></div>"
   ]
  },
  {
   "cell_type": "markdown",
   "metadata": {},
   "source": [
    "**#Report your results here**\n",
    "\n",
    "Model 1 (run_mode ='init-fine-tune',network_type = 'uni-directional',cell_type= 'simple-rnn', embed_model= 'glove-wiki-gigaword-100',embed_size= 128, state_sizes = [64, 64], data_manager = dm): accuracy = 0.9394      \n",
    "\n",
    "Model 2 (run_mode ='init-fine-tune',network_type = 'uni-directional',cell_type= 'gru', embed_model= 'glove-wiki-gigaword-100',embed_size= 128, state_sizes = [64, 64], data_manager = dm): accuracy = 0.8990  \n",
    "\n",
    "Model 3 (run_mode ='init-fine-tune',network_type = 'uni-directional',cell_type= 'lstm', embed_model= 'glove-wiki-gigaword-100',embed_size= 128, state_sizes = [64, 64], data_manager = dm): accuracy = 0.8889 \n",
    "\n",
    "Model 4 (run_mode ='init-fine-tune',network_type = 'bi-directional',cell_type= 'simple-rnn', embed_model= 'glove-wiki-gigaword-100',embed_size= 128, state_sizes = [64, 64], data_manager = dm): accuracy = 0.9192      \n",
    "\n",
    "Model 5 (run_mode ='init-fine-tune',network_type = 'bi-directional',cell_type= 'gru', embed_model= 'glove-wiki-gigaword-100',embed_size= 128, state_sizes = [64, 64], data_manager = dm): accuracy = 0.9495   \n",
    "\n",
    "Model 6 (run_mode ='init-fine-tune',network_type = 'bi-directional',cell_type= 'lstm', embed_model= 'glove-wiki-gigaword-100',embed_size= 128, state_sizes = [64, 64], data_manager = dm): accuracy = 0.9697 \n",
    "  \n",
    "\n"
   ]
  },
  {
   "cell_type": "code",
   "execution_count": 117,
   "metadata": {},
   "outputs": [
    {
     "name": "stdout",
     "output_type": "stream",
     "text": [
      "Train for 7 steps, validate for 2 steps\n",
      "Epoch 1/20\n",
      "7/7 [==============================] - 54s 8s/step - loss: 1.5456 - accuracy: 0.3516 - val_loss: 1.3861 - val_accuracy: 0.4040\n",
      "Epoch 2/20\n",
      "7/7 [==============================] - 5s 718ms/step - loss: 1.1226 - accuracy: 0.5860 - val_loss: 1.0961 - val_accuracy: 0.4444\n",
      "Epoch 3/20\n",
      "7/7 [==============================] - 5s 681ms/step - loss: 0.8972 - accuracy: 0.6833 - val_loss: 0.9263 - val_accuracy: 0.4848\n",
      "Epoch 4/20\n",
      "7/7 [==============================] - 5s 674ms/step - loss: 0.7130 - accuracy: 0.7781 - val_loss: 0.7642 - val_accuracy: 0.6162\n",
      "Epoch 5/20\n",
      "7/7 [==============================] - 5s 676ms/step - loss: 0.5443 - accuracy: 0.8429 - val_loss: 0.6117 - val_accuracy: 0.6970\n",
      "Epoch 6/20\n",
      "7/7 [==============================] - 5s 674ms/step - loss: 0.4028 - accuracy: 0.8953 - val_loss: 0.4779 - val_accuracy: 0.8283\n",
      "Epoch 7/20\n",
      "7/7 [==============================] - 5s 680ms/step - loss: 0.2824 - accuracy: 0.9277 - val_loss: 0.3701 - val_accuracy: 0.8788\n",
      "Epoch 8/20\n",
      "7/7 [==============================] - 5s 662ms/step - loss: 0.1914 - accuracy: 0.9451 - val_loss: 0.3036 - val_accuracy: 0.9091\n",
      "Epoch 9/20\n",
      "7/7 [==============================] - 5s 680ms/step - loss: 0.1292 - accuracy: 0.9601 - val_loss: 0.2639 - val_accuracy: 0.9091\n",
      "Epoch 10/20\n",
      "7/7 [==============================] - 5s 666ms/step - loss: 0.0846 - accuracy: 0.9850 - val_loss: 0.2522 - val_accuracy: 0.8990\n",
      "Epoch 11/20\n",
      "7/7 [==============================] - 5s 682ms/step - loss: 0.0594 - accuracy: 0.9925 - val_loss: 0.2862 - val_accuracy: 0.8889\n",
      "Epoch 12/20\n",
      "7/7 [==============================] - 5s 676ms/step - loss: 0.0423 - accuracy: 0.9925 - val_loss: 0.1745 - val_accuracy: 0.9495\n",
      "Epoch 13/20\n",
      "7/7 [==============================] - 5s 710ms/step - loss: 0.0269 - accuracy: 0.9975 - val_loss: 0.1643 - val_accuracy: 0.9495\n",
      "Epoch 14/20\n",
      "7/7 [==============================] - 5s 703ms/step - loss: 0.0211 - accuracy: 0.9975 - val_loss: 0.1346 - val_accuracy: 0.9495\n",
      "Epoch 15/20\n",
      "7/7 [==============================] - 5s 687ms/step - loss: 0.0139 - accuracy: 1.0000 - val_loss: 0.1670 - val_accuracy: 0.9495\n",
      "Epoch 16/20\n",
      "7/7 [==============================] - 5s 672ms/step - loss: 0.0099 - accuracy: 1.0000 - val_loss: 0.2680 - val_accuracy: 0.9192\n",
      "Epoch 17/20\n",
      "7/7 [==============================] - 5s 676ms/step - loss: 0.0079 - accuracy: 1.0000 - val_loss: 0.2345 - val_accuracy: 0.9192\n",
      "Epoch 18/20\n",
      "7/7 [==============================] - 5s 671ms/step - loss: 0.0208 - accuracy: 0.9950 - val_loss: 0.2808 - val_accuracy: 0.9293\n",
      "Epoch 19/20\n",
      "7/7 [==============================] - 5s 674ms/step - loss: 0.0077 - accuracy: 1.0000 - val_loss: 0.0988 - val_accuracy: 0.9697\n",
      "Epoch 20/20\n",
      "7/7 [==============================] - 5s 685ms/step - loss: 0.0032 - accuracy: 1.0000 - val_loss: 0.0938 - val_accuracy: 0.9697\n"
     ]
    },
    {
     "data": {
      "text/plain": [
       "<tensorflow.python.keras.callbacks.History at 0x183a6ac48>"
      ]
     },
     "execution_count": 117,
     "metadata": {},
     "output_type": "execute_result"
    }
   ],
   "source": [
    "#The run of your best model here\n",
    "my_best_rnn = RNN(run_mode ='init-fine-tune',network_type = 'bi-directional',cell_type= 'lstm', embed_model= 'glove-wiki-gigaword-100',embed_size= 128, state_sizes = [64, 64], data_manager = dm)\n",
    "my_best_rnn.build()\n",
    "opt = tf.keras.optimizers.RMSprop(learning_rate=0.001)\n",
    "my_best_rnn.compile_model(optimizer=opt, loss='sparse_categorical_crossentropy', metrics=['accuracy'])\n",
    "my_best_rnn.fit(dm.tf_train_set.batch(64), epochs=20, validation_data = dm.tf_valid_set.batch(64))"
   ]
  },
  {
   "cell_type": "markdown",
   "metadata": {},
   "source": [
    "### <span style=\"color:#0b486b\">4.4. Investigating the embedding vectors from the embedding matrix</span> ###\n",
    "\n",
    "<div style=\"text-align: right\"><span style=\"color:red; font-weight:bold\">[Total marks for this part: 5 points]<span></div>"
   ]
  },
  {
   "cell_type": "markdown",
   "metadata": {},
   "source": [
    "**As you know, the embedding matrix is a collection of embedding vectors, each is for one word. In this part, you will base on the cosine similarity of the embedding vectors for the words to find the top-k most relevant words for a given word.**\n",
    "\n",
    "**Good embeddings should have words close in meaning near each other by some similarity metrics. The similarity metric we'll use is the `consine` distance, which is defined for two vector $\\mathbf{u}$ and $\\mathbf{v}$ as $\\cos(\\mathbf{u}, \\mathbf{v})=\\frac{\\mathbf{u} \\cdot \\mathbf{v}}{\\left\\Vert{\\mathbf{u}}\\right\\Vert\\left\\Vert{\\mathbf{v}}\\right\\Vert}$ where $\\cdot$ means dot product and $\\left\\Vert\\cdot\\right\\Vert$ means the $\\mathcal{L}_2$ norm.**"
   ]
  },
  {
   "cell_type": "code",
   "execution_count": 14,
   "metadata": {},
   "outputs": [],
   "source": [
    "def cosine_similarity(u,v):\n",
    "    return np.dot(u,v)/(np.linalg.norm(u)*np.linalg.norm(u))"
   ]
  },
  {
   "cell_type": "markdown",
   "metadata": {},
   "source": [
    "#### <span style=\"color:red\">**Question 4.4.1**</span> \n",
    "\n",
    "**You are required to write the code for the function *find_most_similar(word= None, k=5, model= None)*. As its name, this function returns the top-k most relevant word for a given word based on the cosine similarity of the embedding vectors.**\n",
    "\n",
    "<div style=\"text-align: right\"><span style=\"color:red\">[5 points]</span></div>"
   ]
  },
  {
   "cell_type": "code",
   "execution_count": 118,
   "metadata": {},
   "outputs": [],
   "source": [
    "def find_most_similar(word= None, k=5, model= None):\n",
    "    try:\n",
    "        #Insert your code here\n",
    "        table = model.word2vect.similar_by_word(word,k)\n",
    "    except: #word not in the vocabulary\n",
    "        print(\"Word is not in the dictionary!\")\n",
    "    for word,prop in table:\n",
    "        print(word)"
   ]
  },
  {
   "cell_type": "markdown",
   "metadata": {},
   "source": [
    "Here is the example of the above function. As you can observe, the result makes sense which demonstrates that we obtain a good model with the meaningful embedding matrix."
   ]
  },
  {
   "cell_type": "code",
   "execution_count": 120,
   "metadata": {},
   "outputs": [
    {
     "name": "stdout",
     "output_type": "stream",
     "text": [
      "hungary\n",
      "lithuania\n",
      "slovakia\n",
      "bulgaria\n",
      "germany\n",
      "romania\n",
      "warsaw\n",
      "latvia\n",
      "czech\n",
      "polish\n"
     ]
    }
   ],
   "source": [
    "find_most_similar(word='poland', k=10, model= my_best_rnn)"
   ]
  },
  {
   "cell_type": "markdown",
   "metadata": {},
   "source": [
    "--- \n",
    "<div style=\"text-align: center\"> <span style=\"color:black\">END OF ASSIGNMENT</span> </div>"
   ]
  }
 ],
 "metadata": {
  "kernelspec": {
   "display_name": "Python 3 (ipykernel)",
   "language": "python",
   "name": "python3"
  },
  "language_info": {
   "codemirror_mode": {
    "name": "ipython",
    "version": 3
   },
   "file_extension": ".py",
   "mimetype": "text/x-python",
   "name": "python",
   "nbconvert_exporter": "python",
   "pygments_lexer": "ipython3",
   "version": "3.9.12"
  }
 },
 "nbformat": 4,
 "nbformat_minor": 4
}
